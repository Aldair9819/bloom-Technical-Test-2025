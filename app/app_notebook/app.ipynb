{
 "cells": [
  {
   "cell_type": "markdown",
   "id": "9b4adf57",
   "metadata": {},
   "source": [
    "# Aplicación para hacer Web Scrapping de un sitio web y utilización de LLM para resumen y puntos clave"
   ]
  },
  {
   "cell_type": "markdown",
   "id": "b2375ec2",
   "metadata": {},
   "source": [
    "The Scenario\n",
    "Our company's leadership team, working in the agri-business sector, wants to understand the key dynamics of the global produce trade to identify potential market opportunities. They want a data-driven snapshot of the topics and trends being discussed across several key business areas.\n",
    "Your mission is to analyze articles from the fresh produce industry's main resources page, extract key information, use modern AI tools to enrich the data, and present your findings in a clear and concise manner.\n",
    "\n",
    "Español:\n",
    "El escenario\n",
    "El equipo directivo de nuestra empresa, que trabaja en el sector agroalimentario, quiere comprender la dinámica clave del comercio mundial de productos agrícolas para identificar posibles oportunidades de mercado. Quieren una instantánea basada en datos de los temas y tendencias que se debaten en varias áreas de negocio clave.\n",
    "Tu misión consiste en analizar artículos de la página principal de recursos del sector de los productos frescos, extraer información clave, utilizar modernas herramientas de IA para enriquecer los datos y presentar tus conclusiones de forma clara y concisa."
   ]
  },
  {
   "cell_type": "markdown",
   "id": "542425bf",
   "metadata": {},
   "source": [
    "## Web Scrapping"
   ]
  },
  {
   "cell_type": "markdown",
   "id": "d4daaef1",
   "metadata": {},
   "source": [
    "### Extracción de subdominios o links de artículos de las páginas principales."
   ]
  },
  {
   "cell_type": "markdown",
   "id": "4b2d6cdd",
   "metadata": {},
   "source": [
    "Primero se va a extraer el contenido de una página web para después generar el algoritmo para extraer los subdominios para en un posterior paso extraer su contenido\n",
    "\n",
    "URLS a extraer:\n",
    "- https://www.freshproduce.com/resources/global-trade/\n",
    "- https://www.freshproduce.com/resources/technology/\n",
    "- https://www.freshproduce.com/resources/food-safety/"
   ]
  },
  {
   "cell_type": "markdown",
   "id": "eb4ec42e",
   "metadata": {},
   "source": [
    "#### Contenido estático"
   ]
  },
  {
   "cell_type": "code",
   "execution_count": 1,
   "id": "4d179bd0",
   "metadata": {},
   "outputs": [],
   "source": [
    "primera_url_a_extraer_subdominio_ejemplo = \"https://www.freshproduce.com/resources/global-trade/\""
   ]
  },
  {
   "cell_type": "code",
   "execution_count": 2,
   "id": "47ee1684",
   "metadata": {},
   "outputs": [],
   "source": [
    "import requests\n",
    "from bs4 import BeautifulSoup\n",
    "\n",
    "def scrape_website(url):\n",
    "    # Realiza web scraping en la URL proporcionada. Extrae todo el HTML.\n",
    "\n",
    "    try:\n",
    "        print(f\"Extrayendo HTML de: {url}\")\n",
    "        response = requests.get(url) # Realizar una solicitud HTTP GET a la URL\n",
    "        response.raise_for_status()  # Lanza un error para códigos de estado HTTP incorrectos (4xx o 5xx)\n",
    "\n",
    "        # 2. Convierte el contenido obtenido a una estructura HTML con BeautifulSoup\n",
    "        soup_html = BeautifulSoup(response.text, 'html.parser')\n",
    "        print(\"Contenido HTML parseado exitosamente.\")\n",
    "        return soup_html\n",
    "\n",
    "    except requests.exceptions.RequestException as e:\n",
    "        print(f\"Error al conectar con la URL: {e}\")\n",
    "    except Exception as e:\n",
    "        print(f\"Ocurrió un error inesperado: {e}\")\n",
    "\n"
   ]
  },
  {
   "cell_type": "code",
   "execution_count": 3,
   "id": "763713a4",
   "metadata": {},
   "outputs": [
    {
     "name": "stdout",
     "output_type": "stream",
     "text": [
      "Extrayendo HTML de: https://www.freshproduce.com/resources/global-trade/\n",
      "Contenido HTML parseado exitosamente.\n"
     ]
    }
   ],
   "source": [
    "Extraccion_HTML = scrape_website(primera_url_a_extraer_subdominio_ejemplo)"
   ]
  },
  {
   "cell_type": "markdown",
   "id": "c2b7684f",
   "metadata": {},
   "source": [
    "Haciendo inspección del sitio web, hay dos clases de etiqueta tipo div necesarias para una correcta inspección:\n",
    "- search-stats: permite saber el número total de elementos que contiene la página y el número de elementos recorridos\n",
    "- result-panel: contiene todos los resultados de los artículos, con su respectivo subdominio."
   ]
  },
  {
   "cell_type": "code",
   "execution_count": 4,
   "id": "add40f77",
   "metadata": {},
   "outputs": [
    {
     "name": "stdout",
     "output_type": "stream",
     "text": [
      "[]\n",
      "[]\n"
     ]
    }
   ],
   "source": [
    "etiquetas_a_extraer = ['search-stats', 'result-panel']\n",
    "for etiqueta in etiquetas_a_extraer:\n",
    "    elementos = Extraccion_HTML.find_all(class_=etiqueta)\n",
    "    print(elementos)"
   ]
  },
  {
   "cell_type": "markdown",
   "id": "22076863",
   "metadata": {},
   "source": [
    "En el paso anterior se puede observar que no encontró ninguna de las etiquetas a buscar. Muy seguramente porque sea contenido dinámico."
   ]
  },
  {
   "cell_type": "markdown",
   "id": "c3c6b196",
   "metadata": {},
   "source": [
    "#### Contenido dinámico"
   ]
  },
  {
   "cell_type": "markdown",
   "id": "1a6d98b9",
   "metadata": {},
   "source": [
    "Se utilizará Selenium apoyado con Beautiful Soup para casos de contenido dinámico."
   ]
  },
  {
   "cell_type": "code",
   "execution_count": 5,
   "id": "c6bc94db",
   "metadata": {},
   "outputs": [],
   "source": [
    "from selenium import webdriver #Controlar google chrome para obtener HTML con contenido dinámico\n",
    "from selenium.webdriver.chrome.options import Options #Controlar google chrome sin interfaz gráfica\n",
    "from selenium.webdriver.support.ui import WebDriverWait  # Para esperar elementos dinámicos\n",
    "from selenium.webdriver.support import expected_conditions as EC  # Condiciones para la espera\n",
    "from selenium.webdriver.common.by import By  # Para localizar elementos (por clase, ID, etc.)\n",
    "from bs4 import BeautifulSoup # #Para parsear el HTML obtenido con selenium\n",
    "import chromedriver_autoinstaller #Instalación automática del driver de Chrome\n",
    "\n",
    "def scrape_website_with_dynamic_content(page, classes_to_wait = None, ID_OR_CLASS='CLASS'):\n",
    "    # Instala automáticamente el chromedriver compatible con la versión de Chrome instalada\n",
    "    chromedriver_autoinstaller.install() \n",
    "\n",
    "    options = Options() # Configuraciones de opciones para el navegador\n",
    "    options.add_argument(\"--headless\") # Ejecuta chrome sin interfaz gráfica\n",
    "\n",
    "    #Necesario por falta de permisos en el entorno aislado del contenedor\n",
    "    options.add_argument(\"--no-sandbox\") #Desactiva seguridad de Chrome por problemas de permisos en algunos sistemas\n",
    "    \n",
    "    options.add_argument(\"--disable-dev-shm-usage\") #Prevenir fallos por falta de memoria (RAM) compartida en algunos sistemas. Usa memoria de disco duro.\n",
    "\n",
    "    driver = webdriver.Chrome(options=options) # Inicia navegador chrome con las opciones configuradas\n",
    "\n",
    "    driver.get(page) # Carga la página web en el navegador\n",
    "\n",
    "    \n",
    "    if classes_to_wait:\n",
    "        tiempo_espera = 30 # Tiempo máximo de espera en segundos para que se cargue el contenido dinámico\n",
    "        wait = WebDriverWait(driver, tiempo_espera)\n",
    "        if ID_OR_CLASS.upper() == 'CLASS':\n",
    "            for class_to_wait in classes_to_wait: #Recorre cada clase a esperar\n",
    "                wait.until(\n",
    "                    EC.presence_of_element_located((By.CLASS_NAME, class_to_wait)) # Cambio a busqueda por clase\n",
    "                )# Espera cada una de las clases\n",
    "        elif ID_OR_CLASS.upper() == 'ID':\n",
    "            for id_to_wait in classes_to_wait: #Recorre cada ID a esperar\n",
    "                wait.until(\n",
    "                    EC.presence_of_element_located((By.ID, id_to_wait)) #Cambio a busqueda por ID\n",
    "                )# Espera cada uno de los IDs\n",
    "        else:\n",
    "            raise ValueError(\"ID_OR_CLASS debe ser 'CLASS' o 'ID'.\")  # Manejo de error si el parámetro no es válido\n",
    "\n",
    "\n",
    "\n",
    "    html_completo = driver.page_source  # Obtención del HTML renderizado completo\n",
    "\n",
    "    # Usar BeautifulSoup para parsear\n",
    "    soup = BeautifulSoup(html_completo, \"html.parser\")\n",
    "    # Por ejemplo, buscar la tabla con clase 'search-results'\n",
    "    driver.quit() #Cerrar navegador de Chrome\n",
    "    return soup"
   ]
  },
  {
   "cell_type": "code",
   "execution_count": 6,
   "id": "54da45af",
   "metadata": {},
   "outputs": [],
   "source": [
    "Extraccion_HTML_dinamico = scrape_website_with_dynamic_content(primera_url_a_extraer_subdominio_ejemplo, classes_to_wait=etiquetas_a_extraer, ID_OR_CLASS='CLASS')"
   ]
  },
  {
   "cell_type": "markdown",
   "id": "79a7b359",
   "metadata": {},
   "source": [
    "Verificamos que las etiquetas ahora se encuentren en el contenido."
   ]
  },
  {
   "cell_type": "code",
   "execution_count": 7,
   "id": "7b1a3921",
   "metadata": {},
   "outputs": [
    {
     "name": "stdout",
     "output_type": "stream",
     "text": [
      "[<div class=\"search-stats\"><p>Showing 1 - 9 of 23 results </p></div>]\n",
      "Cantidad de elementos encontrados con la clase 'search-stats': 1\n",
      "[<div class=\"result-panel\"><div class=\"tile eventlandingpage theme-agave tile-grid\"><div class=\"image-wrapper bg-agave\"><img alt=\"Nighttime skyline in Sao Paulo Brazil \" loading=\"eager\" src=\"https://www.freshproduce.com/siteassets/images/events/brazil-conference/sao-paulo-skyline-at-night.jpg/_croppings/event-landing-page-grid.jpg\"/></div><div class=\"caption\"><p class=\"eyebrow\">August 6-7, 2025 | São Paulo, Brazil</p><p class=\"title\">The Brazil Conference &amp; Expo</p><p class=\"description\">The Brazil Conference &amp; Expo the meeting point for retail buyers, executives &amp; industry leaders dedicated to the fresh produce supply chain in Brazil.</p><div class=\"cta-area\"><a class=\"score-button seed-link\" href=\"/events/the-brazil-conference/\" target=\"_self\">learn more</a></div></div></div><div class=\"tile resourcedetailpage theme-mint tile-grid\"><div class=\"image-wrapper bg-mint\"><img alt='Baskets of red tomatoes with a chalkboard sign reading \"FRESH FROM THE FARM.\"' loading=\"eager\" src=\"https://www.freshproduce.com/siteassets/images/consumer-trends/fresh-from-farm.jpg/_croppings/resource-detail-page-grid.jpg\"/></div><div class=\"caption\"><p class=\"eyebrow\">Consumer Trends</p><p class=\"title\">Americans &amp; Sustainable Produce: Key Findings &amp; Full Report</p><p class=\"description\">Explore how sustainability shapes produce purchases in the U.S. Learn top insights on packaging and local trends, then download our comprehensive consumer report.</p><div class=\"cta-area\"><a class=\"score-button seed-link\" href=\"/resources/consumer-trends/americans-and-sustainability/\" target=\"_self\">Learn More</a></div></div></div><div class=\"tile eventlandingpage theme-blueagave tile-grid\"><div class=\"image-wrapper bg-blueagave\"><img alt=\"Guadalajara, Mexico\" loading=\"eager\" src=\"https://www.freshproduce.com/siteassets/images/events/mexico-conference/2022/guadalajara-mexico.jpg/_croppings/event-landing-page-grid.jpg\"/></div><div class=\"caption\"><p class=\"eyebrow\">May 14-15, 2025 | Guadalajara, Mexico</p><p class=\"title\">The Mexico Conference</p><p class=\"description\">The Mexico Conference, dedicado a toda la cadena de suministro, es el lugar ideal para crear conexiones globales en la industria de frutas, vegetales y flores.</p><div class=\"cta-area\"><a class=\"score-button seed-link\" href=\"/events/the-mexico-conference/\" target=\"_self\">Learn more</a></div></div></div><div class=\"tile resourcedetailpage theme-mint tile-grid\"><div class=\"image-wrapper bg-mint\"><img alt=\"A grand neoclassical building with a large dome and Corinthian columns under a blue sky.\" loading=\"eager\" src=\"https://www.freshproduce.com/siteassets/images/advocacy/us-capitol-blue-sky.jpg/_croppings/resource-detail-page-grid.jpg\"/></div><div class=\"caption\"><p class=\"eyebrow\">May 13, 2025 | Webinar</p><p class=\"title\">Trump's First 100 Days: Industry Impact Webinar</p><p class=\"description\">Analyze Trump's first 100 days &amp; its impact on your industry. Join our expert panel May 13th for insights on policy shifts &amp; what's next.</p><div class=\"cta-area\"><a class=\"score-button seed-link\" href=\"/resources/advocacy/trumps-first-100-days/\" target=\"_self\">Learn More</a></div></div></div><div class=\"tile resourcedetailpage theme-mint tile-grid\"><div class=\"image-wrapper bg-mint\"><img alt=\"A stack of red, blue, and white shipping containers in a yard, seen behind a blurry chain-link fence, under a blue sky.\" loading=\"eager\" src=\"https://www.freshproduce.com/siteassets/images/global-trade/containers-stacked.jpg/_croppings/resource-detail-page-grid.jpg\"/></div><div class=\"caption\"><p class=\"eyebrow\">Global Trade</p><p class=\"title\">Tariff Resources</p><p class=\"description\">Stay updated on tariff policies and regulations with IFPA resources. Access guidance documents, webinars, consultations and regulatory updates to manage your obligations.</p><div class=\"cta-area\"><a class=\"score-button seed-link\" href=\"/resources/global-trade/tariff-resources/\" target=\"_self\">Learn More</a></div></div></div><div class=\"tile resourcedetailpage theme-mint tile-grid\"><div class=\"image-wrapper bg-mint\"><img alt=\"A bowl shaped like half a globe featuring various fresh vegetables and fruits, including corn, bell pepper, tomatoes, and broccoli.\" loading=\"eager\" src=\"https://www.freshproduce.com/siteassets/images/commodities/global-bowl-or-produce.jpg/_croppings/resource-detail-page-grid.jpg\"/></div><div class=\"caption\"><p class=\"eyebrow\">Commodities</p><p class=\"title\">International Retail Point of Sale Data</p><p class=\"description\">Get monthly retail produce sales reports to benchmark performance and uncover global market trends in fruit and vegetable sales.</p><div class=\"cta-area\"><a class=\"score-button seed-link\" href=\"/resources/Commodities/international-retail-point-of-sale-data/\" target=\"_self\">Learn More</a></div></div></div><div class=\"tile resourcedetailpage theme-mint tile-grid\"><div class=\"image-wrapper bg-mint\"><img alt=\"World map made from assorted fruits and vegetables on a black background.\" loading=\"eager\" src=\"https://www.freshproduce.com/siteassets/images/various-f-and-v/fandvmap.jpg/_croppings/resource-detail-page-grid.jpg\"/></div><div class=\"caption\"><p class=\"eyebrow\">Supply Chain Management</p><p class=\"title\">Market Access to Export Fruits and Vegetables Internationally</p><p class=\"description\">Export fruits and vegetables internationally with ease. Stay compliant with evolving regulations and broaden your company's market reach with IFPA's updated country information.</p><div class=\"cta-area\"><a class=\"score-button seed-link\" href=\"/resources/supply-chain-management/global-market-access/\" target=\"_self\">Learn More</a></div></div></div><div class=\"tile resourcedetailpage theme-mint tile-grid\"><div class=\"image-wrapper bg-mint\"><img alt=\"Exotic fruits variety still life on vintage wooden boards\" loading=\"eager\" src=\"https://www.freshproduce.com/siteassets/images/various-f-and-v/assorted-exotic-fruit.jpg/_croppings/resource-detail-page-grid.jpg\"/></div><div class=\"caption\"><p class=\"eyebrow\">Commodities</p><p class=\"title\">Annual Reports of Products Mexico Exports to the United States</p><p class=\"description\">A summary of Mexico’s key exports to the U.S., covering three-year trends in volume, pricing and market trends to inform future planning. </p><div class=\"cta-area\"><a class=\"score-button seed-link\" href=\"/resources/global-trade/mexico-exports-to-us/\" target=\"_self\">Learn More</a></div></div></div><div class=\"tile gated resourcedetailpage theme-mint tile-grid\"><div class=\"image-wrapper bg-mint\"><img alt=\"A macro image of green table grapes. One of the grapes is cut in half.\" loading=\"eager\" src=\"https://www.freshproduce.com/siteassets/images/various-f-and-v/table-grapes.jpg/_croppings/resource-detail-page-grid.jpg\"/></div><div class=\"caption\"><p class=\"eyebrow\">Commodities</p><p class=\"title\">Global Table Grape Shipment Data</p><p class=\"description\">IFPA &amp; IQonsulting team up to deliver data on table grape movement worldwide. Gain a competitive edge &amp; make informed decisions with this member resource!</p><div class=\"cta-area\"><a class=\"score-button seed-link\" href=\"/resources/Commodities/global-table-grape-shipment-data/\" target=\"_self\">Learn More</a></div></div></div></div>]\n",
      "Cantidad de elementos encontrados con la clase 'result-panel': 1\n"
     ]
    }
   ],
   "source": [
    "for etiqueta in etiquetas_a_extraer:\n",
    "    elementos = Extraccion_HTML_dinamico.find_all(class_=etiqueta)\n",
    "    print(elementos)\n",
    "    print(f\"Cantidad de elementos encontrados con la clase '{etiqueta}': {len(elementos)}\")"
   ]
  },
  {
   "cell_type": "markdown",
   "id": "591a9d53",
   "metadata": {},
   "source": [
    "Se encontraron los datos a buscar. Ahora se manipularán los datos de las etiquetas a necesitar para sus debidos datos: 'search-stats' y 'result-panel'"
   ]
  },
  {
   "cell_type": "markdown",
   "id": "4daf3ea6",
   "metadata": {},
   "source": [
    "#### Manipulación de etiquetas para obtención de datos concretos\n",
    "En la página web se requieren dos datos:\n",
    "- Search-stats: Para hacer scrap de **todos** los artículos que contenga el dominio o subdominio y obtener de cada uno la etiqueta result-panel\n",
    "- result-panel: Los subdominios que, juntándolo con el dominio principal, se logra recopilar el artículo original"
   ]
  },
  {
   "cell_type": "markdown",
   "id": "4c58861c",
   "metadata": {},
   "source": [
    "##### **search-stats** \n",
    "Se extraen los elementos de búsqueda como el número de artículo que contiene actualmente la página, y el número de artículos disponible"
   ]
  },
  {
   "cell_type": "code",
   "execution_count": 8,
   "id": "a63f2a95",
   "metadata": {},
   "outputs": [
    {
     "name": "stdout",
     "output_type": "stream",
     "text": [
      "Contenido de 'search-stats':\n",
      "Showing 1 - 9 of 23 results \n",
      "['Showing', '1', '-', '9', 'of', '23', 'results']\n"
     ]
    }
   ],
   "source": [
    "etiqueta_search_stats = 'search-stats' # Definida en este apartado para evitar buscarla arriba en el código\n",
    "search_stats = Extraccion_HTML_dinamico.find(class_=etiqueta_search_stats)  # Buscar el primer elemento con la clase 'search-stats'\n",
    "if search_stats:\n",
    "    print(\"Contenido de 'search-stats':\")\n",
    "    print(search_stats.text)\n",
    "    print(search_stats.text.split())"
   ]
  },
  {
   "cell_type": "markdown",
   "id": "1f62e6c0",
   "metadata": {},
   "source": [
    "Al separar todas las palabras hay 3 palabras que nos interesan:\n",
    "- El último elemento de la página web ('9')\n",
    "- El número de elementos de la página web ('23')\n",
    "- Un punto de referencia entre ambos ('of')\n",
    "\n",
    "Extraeremos cada uno de ellos"
   ]
  },
  {
   "cell_type": "code",
   "execution_count": 9,
   "id": "4d6f8d22",
   "metadata": {},
   "outputs": [
    {
     "name": "stdout",
     "output_type": "stream",
     "text": [
      "['Showing', '1', '-', '9', 'of', '23', 'results']\n",
      "Índice de la palabra 'of': 4\n",
      "Último elemento de la página: 9\n",
      "Total de elementos de la página: 23\n"
     ]
    }
   ],
   "source": [
    "search_stats_arreglo = search_stats.text.split() \n",
    "print(search_stats_arreglo)\n",
    "indice_palabra_of = search_stats_arreglo.index(\"of\") #Desde qué elemento está el punto de referencia\n",
    "print(f\"Índice de la palabra 'of': {indice_palabra_of}\")\n",
    "ultimo_elemento_de_pagina = int(search_stats_arreglo[indice_palabra_of -1]) # La palabra anterior a \"of\" es el último elemento de la página\n",
    "print(f\"Último elemento de la página: {ultimo_elemento_de_pagina}\")\n",
    "total_elementos_de_pagina = int(search_stats_arreglo[indice_palabra_of + 1]) # La palabra siguiente a \"of\" es el total de elementos de la página\n",
    "print(f\"Total de elementos de la página: {total_elementos_de_pagina}\")"
   ]
  },
  {
   "cell_type": "markdown",
   "id": "fbf098a4",
   "metadata": {},
   "source": [
    "Con esto se puede hacer una función que verifique si se ha recorrido todo el contenido."
   ]
  },
  {
   "cell_type": "code",
   "execution_count": 10,
   "id": "7ab78747",
   "metadata": {},
   "outputs": [],
   "source": [
    "# Verifica si la página HTML indica que es la última página de resultados.\n",
    "def bool_is_final_page(HTML, etiqueta='search-stats'):\n",
    "    search_stats = HTML.find(class_=etiqueta)\n",
    "    if search_stats:\n",
    "        search_stats_arreglo = search_stats.text.split()\n",
    "        indice_palabra_of = search_stats_arreglo.index(\"of\")\n",
    "        ultimo_elemento_de_pagina = int(search_stats_arreglo[indice_palabra_of - 1])\n",
    "        total_elementos_de_pagina = int(search_stats_arreglo[indice_palabra_of + 1])\n",
    "        return (ultimo_elemento_de_pagina >= total_elementos_de_pagina) #No debería haber más elementos en la página web, pero el método == puede fallar si hay un error en la web.\n",
    "    return True # Si no se encuentra la clase, asumimos que es la última página para evitar errores en el bucle de paginación."
   ]
  },
  {
   "cell_type": "code",
   "execution_count": 11,
   "id": "f1e0f318",
   "metadata": {},
   "outputs": [
    {
     "name": "stdout",
     "output_type": "stream",
     "text": [
      "¿Es la última página? False\n"
     ]
    }
   ],
   "source": [
    "#Uso de la función para verificar\n",
    "ultima_pagina = bool_is_final_page(Extraccion_HTML_dinamico, etiquetas_a_extraer[0])\n",
    "print(f\"¿Es la última página? {ultima_pagina}\")"
   ]
  },
  {
   "cell_type": "markdown",
   "id": "8b14b635",
   "metadata": {},
   "source": [
    "##### **result-panel:** Contiene todos los subdominios de los articulos"
   ]
  },
  {
   "cell_type": "code",
   "execution_count": 12,
   "id": "41209fd0",
   "metadata": {},
   "outputs": [
    {
     "name": "stdout",
     "output_type": "stream",
     "text": [
      "Cantidad de elementos encontrados con la clase 'result-panel': 9\n",
      "Contenido de 'search-stats':\n",
      "<div class=\"result-panel\"><div class=\"tile eventlandingpage theme-agave tile-grid\"><div class=\"image-wrapper bg-agave\"><img alt=\"Nighttime skyline in Sao Paulo Brazil \" loading=\"eager\" src=\"https://www.freshproduce.com/siteassets/images/events/brazil-conference/sao-paulo-skyline-at-night.jpg/_croppings/event-landing-page-grid.jpg\"/></div><div class=\"caption\"><p class=\"eyebrow\">August 6-7, 2025 | São Paulo, Brazil</p><p class=\"title\">The Brazil Conference &amp; Expo</p><p class=\"description\">The Brazil Conference &amp; Expo the meeting point for retail buyers, executives &amp; industry leaders dedicated to the fresh produce supply chain in Brazil.</p><div class=\"cta-area\"><a class=\"score-button seed-link\" href=\"/events/the-brazil-conference/\" target=\"_self\">learn more</a></div></div></div><div class=\"tile resourcedetailpage theme-mint tile-grid\"><div class=\"image-wrapper bg-mint\"><img alt='Baskets of red tomatoes with a chalkboard sign reading \"FRESH FROM THE FARM.\"' loading=\"eager\" src=\"https://www.freshproduce.com/siteassets/images/consumer-trends/fresh-from-farm.jpg/_croppings/resource-detail-page-grid.jpg\"/></div><div class=\"caption\"><p class=\"eyebrow\">Consumer Trends</p><p class=\"title\">Americans &amp; Sustainable Produce: Key Findings &amp; Full Report</p><p class=\"description\">Explore how sustainability shapes produce purchases in the U.S. Learn top insights on packaging and local trends, then download our comprehensive consumer report.</p><div class=\"cta-area\"><a class=\"score-button seed-link\" href=\"/resources/consumer-trends/americans-and-sustainability/\" target=\"_self\">Learn More</a></div></div></div><div class=\"tile eventlandingpage theme-blueagave tile-grid\"><div class=\"image-wrapper bg-blueagave\"><img alt=\"Guadalajara, Mexico\" loading=\"eager\" src=\"https://www.freshproduce.com/siteassets/images/events/mexico-conference/2022/guadalajara-mexico.jpg/_croppings/event-landing-page-grid.jpg\"/></div><div class=\"caption\"><p class=\"eyebrow\">May 14-15, 2025 | Guadalajara, Mexico</p><p class=\"title\">The Mexico Conference</p><p class=\"description\">The Mexico Conference, dedicado a toda la cadena de suministro, es el lugar ideal para crear conexiones globales en la industria de frutas, vegetales y flores.</p><div class=\"cta-area\"><a class=\"score-button seed-link\" href=\"/events/the-mexico-conference/\" target=\"_self\">Learn more</a></div></div></div><div class=\"tile resourcedetailpage theme-mint tile-grid\"><div class=\"image-wrapper bg-mint\"><img alt=\"A grand neoclassical building with a large dome and Corinthian columns under a blue sky.\" loading=\"eager\" src=\"https://www.freshproduce.com/siteassets/images/advocacy/us-capitol-blue-sky.jpg/_croppings/resource-detail-page-grid.jpg\"/></div><div class=\"caption\"><p class=\"eyebrow\">May 13, 2025 | Webinar</p><p class=\"title\">Trump's First 100 Days: Industry Impact Webinar</p><p class=\"description\">Analyze Trump's first 100 days &amp; its impact on your industry. Join our expert panel May 13th for insights on policy shifts &amp; what's next.</p><div class=\"cta-area\"><a class=\"score-button seed-link\" href=\"/resources/advocacy/trumps-first-100-days/\" target=\"_self\">Learn More</a></div></div></div><div class=\"tile resourcedetailpage theme-mint tile-grid\"><div class=\"image-wrapper bg-mint\"><img alt=\"A stack of red, blue, and white shipping containers in a yard, seen behind a blurry chain-link fence, under a blue sky.\" loading=\"eager\" src=\"https://www.freshproduce.com/siteassets/images/global-trade/containers-stacked.jpg/_croppings/resource-detail-page-grid.jpg\"/></div><div class=\"caption\"><p class=\"eyebrow\">Global Trade</p><p class=\"title\">Tariff Resources</p><p class=\"description\">Stay updated on tariff policies and regulations with IFPA resources. Access guidance documents, webinars, consultations and regulatory updates to manage your obligations.</p><div class=\"cta-area\"><a class=\"score-button seed-link\" href=\"/resources/global-trade/tariff-resources/\" target=\"_self\">Learn More</a></div></div></div><div class=\"tile resourcedetailpage theme-mint tile-grid\"><div class=\"image-wrapper bg-mint\"><img alt=\"A bowl shaped like half a globe featuring various fresh vegetables and fruits, including corn, bell pepper, tomatoes, and broccoli.\" loading=\"eager\" src=\"https://www.freshproduce.com/siteassets/images/commodities/global-bowl-or-produce.jpg/_croppings/resource-detail-page-grid.jpg\"/></div><div class=\"caption\"><p class=\"eyebrow\">Commodities</p><p class=\"title\">International Retail Point of Sale Data</p><p class=\"description\">Get monthly retail produce sales reports to benchmark performance and uncover global market trends in fruit and vegetable sales.</p><div class=\"cta-area\"><a class=\"score-button seed-link\" href=\"/resources/Commodities/international-retail-point-of-sale-data/\" target=\"_self\">Learn More</a></div></div></div><div class=\"tile resourcedetailpage theme-mint tile-grid\"><div class=\"image-wrapper bg-mint\"><img alt=\"World map made from assorted fruits and vegetables on a black background.\" loading=\"eager\" src=\"https://www.freshproduce.com/siteassets/images/various-f-and-v/fandvmap.jpg/_croppings/resource-detail-page-grid.jpg\"/></div><div class=\"caption\"><p class=\"eyebrow\">Supply Chain Management</p><p class=\"title\">Market Access to Export Fruits and Vegetables Internationally</p><p class=\"description\">Export fruits and vegetables internationally with ease. Stay compliant with evolving regulations and broaden your company's market reach with IFPA's updated country information.</p><div class=\"cta-area\"><a class=\"score-button seed-link\" href=\"/resources/supply-chain-management/global-market-access/\" target=\"_self\">Learn More</a></div></div></div><div class=\"tile resourcedetailpage theme-mint tile-grid\"><div class=\"image-wrapper bg-mint\"><img alt=\"Exotic fruits variety still life on vintage wooden boards\" loading=\"eager\" src=\"https://www.freshproduce.com/siteassets/images/various-f-and-v/assorted-exotic-fruit.jpg/_croppings/resource-detail-page-grid.jpg\"/></div><div class=\"caption\"><p class=\"eyebrow\">Commodities</p><p class=\"title\">Annual Reports of Products Mexico Exports to the United States</p><p class=\"description\">A summary of Mexico’s key exports to the U.S., covering three-year trends in volume, pricing and market trends to inform future planning. </p><div class=\"cta-area\"><a class=\"score-button seed-link\" href=\"/resources/global-trade/mexico-exports-to-us/\" target=\"_self\">Learn More</a></div></div></div><div class=\"tile gated resourcedetailpage theme-mint tile-grid\"><div class=\"image-wrapper bg-mint\"><img alt=\"A macro image of green table grapes. One of the grapes is cut in half.\" loading=\"eager\" src=\"https://www.freshproduce.com/siteassets/images/various-f-and-v/table-grapes.jpg/_croppings/resource-detail-page-grid.jpg\"/></div><div class=\"caption\"><p class=\"eyebrow\">Commodities</p><p class=\"title\">Global Table Grape Shipment Data</p><p class=\"description\">IFPA &amp; IQonsulting team up to deliver data on table grape movement worldwide. Gain a competitive edge &amp; make informed decisions with this member resource!</p><div class=\"cta-area\"><a class=\"score-button seed-link\" href=\"/resources/Commodities/global-table-grape-shipment-data/\" target=\"_self\">Learn More</a></div></div></div></div>\n",
      "-----\n",
      "<div class=\"tile eventlandingpage theme-agave tile-grid\"><div class=\"image-wrapper bg-agave\"><img alt=\"Nighttime skyline in Sao Paulo Brazil \" loading=\"eager\" src=\"https://www.freshproduce.com/siteassets/images/events/brazil-conference/sao-paulo-skyline-at-night.jpg/_croppings/event-landing-page-grid.jpg\"/></div><div class=\"caption\"><p class=\"eyebrow\">August 6-7, 2025 | São Paulo, Brazil</p><p class=\"title\">The Brazil Conference &amp; Expo</p><p class=\"description\">The Brazil Conference &amp; Expo the meeting point for retail buyers, executives &amp; industry leaders dedicated to the fresh produce supply chain in Brazil.</p><div class=\"cta-area\"><a class=\"score-button seed-link\" href=\"/events/the-brazil-conference/\" target=\"_self\">learn more</a></div></div></div>\n",
      "-----\n",
      "<div class=\"tile resourcedetailpage theme-mint tile-grid\"><div class=\"image-wrapper bg-mint\"><img alt='Baskets of red tomatoes with a chalkboard sign reading \"FRESH FROM THE FARM.\"' loading=\"eager\" src=\"https://www.freshproduce.com/siteassets/images/consumer-trends/fresh-from-farm.jpg/_croppings/resource-detail-page-grid.jpg\"/></div><div class=\"caption\"><p class=\"eyebrow\">Consumer Trends</p><p class=\"title\">Americans &amp; Sustainable Produce: Key Findings &amp; Full Report</p><p class=\"description\">Explore how sustainability shapes produce purchases in the U.S. Learn top insights on packaging and local trends, then download our comprehensive consumer report.</p><div class=\"cta-area\"><a class=\"score-button seed-link\" href=\"/resources/consumer-trends/americans-and-sustainability/\" target=\"_self\">Learn More</a></div></div></div>\n",
      "-----\n",
      "<div class=\"tile eventlandingpage theme-blueagave tile-grid\"><div class=\"image-wrapper bg-blueagave\"><img alt=\"Guadalajara, Mexico\" loading=\"eager\" src=\"https://www.freshproduce.com/siteassets/images/events/mexico-conference/2022/guadalajara-mexico.jpg/_croppings/event-landing-page-grid.jpg\"/></div><div class=\"caption\"><p class=\"eyebrow\">May 14-15, 2025 | Guadalajara, Mexico</p><p class=\"title\">The Mexico Conference</p><p class=\"description\">The Mexico Conference, dedicado a toda la cadena de suministro, es el lugar ideal para crear conexiones globales en la industria de frutas, vegetales y flores.</p><div class=\"cta-area\"><a class=\"score-button seed-link\" href=\"/events/the-mexico-conference/\" target=\"_self\">Learn more</a></div></div></div>\n",
      "-----\n",
      "<div class=\"tile resourcedetailpage theme-mint tile-grid\"><div class=\"image-wrapper bg-mint\"><img alt=\"A grand neoclassical building with a large dome and Corinthian columns under a blue sky.\" loading=\"eager\" src=\"https://www.freshproduce.com/siteassets/images/advocacy/us-capitol-blue-sky.jpg/_croppings/resource-detail-page-grid.jpg\"/></div><div class=\"caption\"><p class=\"eyebrow\">May 13, 2025 | Webinar</p><p class=\"title\">Trump's First 100 Days: Industry Impact Webinar</p><p class=\"description\">Analyze Trump's first 100 days &amp; its impact on your industry. Join our expert panel May 13th for insights on policy shifts &amp; what's next.</p><div class=\"cta-area\"><a class=\"score-button seed-link\" href=\"/resources/advocacy/trumps-first-100-days/\" target=\"_self\">Learn More</a></div></div></div>\n",
      "-----\n",
      "<div class=\"tile resourcedetailpage theme-mint tile-grid\"><div class=\"image-wrapper bg-mint\"><img alt=\"A stack of red, blue, and white shipping containers in a yard, seen behind a blurry chain-link fence, under a blue sky.\" loading=\"eager\" src=\"https://www.freshproduce.com/siteassets/images/global-trade/containers-stacked.jpg/_croppings/resource-detail-page-grid.jpg\"/></div><div class=\"caption\"><p class=\"eyebrow\">Global Trade</p><p class=\"title\">Tariff Resources</p><p class=\"description\">Stay updated on tariff policies and regulations with IFPA resources. Access guidance documents, webinars, consultations and regulatory updates to manage your obligations.</p><div class=\"cta-area\"><a class=\"score-button seed-link\" href=\"/resources/global-trade/tariff-resources/\" target=\"_self\">Learn More</a></div></div></div>\n",
      "-----\n",
      "<div class=\"tile resourcedetailpage theme-mint tile-grid\"><div class=\"image-wrapper bg-mint\"><img alt=\"A bowl shaped like half a globe featuring various fresh vegetables and fruits, including corn, bell pepper, tomatoes, and broccoli.\" loading=\"eager\" src=\"https://www.freshproduce.com/siteassets/images/commodities/global-bowl-or-produce.jpg/_croppings/resource-detail-page-grid.jpg\"/></div><div class=\"caption\"><p class=\"eyebrow\">Commodities</p><p class=\"title\">International Retail Point of Sale Data</p><p class=\"description\">Get monthly retail produce sales reports to benchmark performance and uncover global market trends in fruit and vegetable sales.</p><div class=\"cta-area\"><a class=\"score-button seed-link\" href=\"/resources/Commodities/international-retail-point-of-sale-data/\" target=\"_self\">Learn More</a></div></div></div>\n",
      "-----\n",
      "<div class=\"tile resourcedetailpage theme-mint tile-grid\"><div class=\"image-wrapper bg-mint\"><img alt=\"World map made from assorted fruits and vegetables on a black background.\" loading=\"eager\" src=\"https://www.freshproduce.com/siteassets/images/various-f-and-v/fandvmap.jpg/_croppings/resource-detail-page-grid.jpg\"/></div><div class=\"caption\"><p class=\"eyebrow\">Supply Chain Management</p><p class=\"title\">Market Access to Export Fruits and Vegetables Internationally</p><p class=\"description\">Export fruits and vegetables internationally with ease. Stay compliant with evolving regulations and broaden your company's market reach with IFPA's updated country information.</p><div class=\"cta-area\"><a class=\"score-button seed-link\" href=\"/resources/supply-chain-management/global-market-access/\" target=\"_self\">Learn More</a></div></div></div>\n",
      "-----\n",
      "<div class=\"tile resourcedetailpage theme-mint tile-grid\"><div class=\"image-wrapper bg-mint\"><img alt=\"Exotic fruits variety still life on vintage wooden boards\" loading=\"eager\" src=\"https://www.freshproduce.com/siteassets/images/various-f-and-v/assorted-exotic-fruit.jpg/_croppings/resource-detail-page-grid.jpg\"/></div><div class=\"caption\"><p class=\"eyebrow\">Commodities</p><p class=\"title\">Annual Reports of Products Mexico Exports to the United States</p><p class=\"description\">A summary of Mexico’s key exports to the U.S., covering three-year trends in volume, pricing and market trends to inform future planning. </p><div class=\"cta-area\"><a class=\"score-button seed-link\" href=\"/resources/global-trade/mexico-exports-to-us/\" target=\"_self\">Learn More</a></div></div></div>\n",
      "-----\n",
      "<div class=\"tile gated resourcedetailpage theme-mint tile-grid\"><div class=\"image-wrapper bg-mint\"><img alt=\"A macro image of green table grapes. One of the grapes is cut in half.\" loading=\"eager\" src=\"https://www.freshproduce.com/siteassets/images/various-f-and-v/table-grapes.jpg/_croppings/resource-detail-page-grid.jpg\"/></div><div class=\"caption\"><p class=\"eyebrow\">Commodities</p><p class=\"title\">Global Table Grape Shipment Data</p><p class=\"description\">IFPA &amp; IQonsulting team up to deliver data on table grape movement worldwide. Gain a competitive edge &amp; make informed decisions with this member resource!</p><div class=\"cta-area\"><a class=\"score-button seed-link\" href=\"/resources/Commodities/global-table-grape-shipment-data/\" target=\"_self\">Learn More</a></div></div></div>\n",
      "-----\n"
     ]
    }
   ],
   "source": [
    "etiqueta_result_panel = 'result-panel' # Definida en este apartado para evitar buscarla arriba en el código\n",
    "result_panel = Extraccion_HTML_dinamico.find(class_=etiqueta_result_panel)  # Buscar el primer elemento con la clase 'search-stats' (solo existe uno)\n",
    "if result_panel:\n",
    "    print(f\"Cantidad de elementos encontrados con la clase '{etiqueta_result_panel}': {len(result_panel)}\")\n",
    "    print(\"Contenido de 'search-stats':\")\n",
    "    print(result_panel)\n",
    "    print(\"-----\")\n",
    "    for elemento in result_panel:\n",
    "        print(elemento)\n",
    "        print(\"-----\")"
   ]
  },
  {
   "cell_type": "markdown",
   "id": "52ddb593",
   "metadata": {},
   "source": [
    "Al inspeccionar cada elemento del articulo, cada uno contiene un botón con el hipervinculo en la clase \"cta-area\", por lo que ahora extraeremos el contenido solamente en \"cta-area\". Se buscará la etiqueta `<a>` y dentro de ella el hipervinculo."
   ]
  },
  {
   "cell_type": "code",
   "execution_count": 13,
   "id": "b0559662",
   "metadata": {},
   "outputs": [
    {
     "name": "stdout",
     "output_type": "stream",
     "text": [
      "[<div class=\"cta-area\"><a class=\"score-button seed-link\" href=\"/events/the-brazil-conference/\" target=\"_self\">learn more</a></div>, <div class=\"cta-area\"><a class=\"score-button seed-link\" href=\"/resources/consumer-trends/americans-and-sustainability/\" target=\"_self\">Learn More</a></div>, <div class=\"cta-area\"><a class=\"score-button seed-link\" href=\"/events/the-mexico-conference/\" target=\"_self\">Learn more</a></div>, <div class=\"cta-area\"><a class=\"score-button seed-link\" href=\"/resources/advocacy/trumps-first-100-days/\" target=\"_self\">Learn More</a></div>, <div class=\"cta-area\"><a class=\"score-button seed-link\" href=\"/resources/global-trade/tariff-resources/\" target=\"_self\">Learn More</a></div>, <div class=\"cta-area\"><a class=\"score-button seed-link\" href=\"/resources/Commodities/international-retail-point-of-sale-data/\" target=\"_self\">Learn More</a></div>, <div class=\"cta-area\"><a class=\"score-button seed-link\" href=\"/resources/supply-chain-management/global-market-access/\" target=\"_self\">Learn More</a></div>, <div class=\"cta-area\"><a class=\"score-button seed-link\" href=\"/resources/global-trade/mexico-exports-to-us/\" target=\"_self\">Learn More</a></div>, <div class=\"cta-area\"><a class=\"score-button seed-link\" href=\"/resources/Commodities/global-table-grape-shipment-data/\" target=\"_self\">Learn More</a></div>]\n",
      "Enlace encontrado: /events/the-brazil-conference/\n",
      "Enlace encontrado: /resources/consumer-trends/americans-and-sustainability/\n",
      "Enlace encontrado: /events/the-mexico-conference/\n",
      "Enlace encontrado: /resources/advocacy/trumps-first-100-days/\n",
      "Enlace encontrado: /resources/global-trade/tariff-resources/\n",
      "Enlace encontrado: /resources/Commodities/international-retail-point-of-sale-data/\n",
      "Enlace encontrado: /resources/supply-chain-management/global-market-access/\n",
      "Enlace encontrado: /resources/global-trade/mexico-exports-to-us/\n",
      "Enlace encontrado: /resources/Commodities/global-table-grape-shipment-data/\n"
     ]
    }
   ],
   "source": [
    "etiqueta_cta_area = 'cta-area'  # Definida en este apartado para evitar buscarla arriba en el código\n",
    "encontrar_todos_los_subdominios = result_panel.find_all('div', class_=etiqueta_cta_area)  # Buscar todos los hipervínculos en el HTML\n",
    "print(encontrar_todos_los_subdominios)\n",
    "todos_los_subdominios = []  # Lista para almacenar los subdominios encontrados\n",
    "for enlace in encontrar_todos_los_subdominios:\n",
    "    a_tag = enlace.find('a')  # Buscar la etiqueta <a> dentro de cada div\n",
    "    #print(a_tag)\n",
    "    if a_tag and 'href' in a_tag.attrs:  # Verificar si existe el atributo href\n",
    "        print(f\"Enlace encontrado: {a_tag['href']}\")  # Imprimir el enlace\n",
    "        todos_los_subdominios.append(a_tag['href'])\n",
    "    else:\n",
    "        print(\"No se encontró un enlace válido en este elemento.\")"
   ]
  },
  {
   "cell_type": "markdown",
   "id": "6b798d5a",
   "metadata": {},
   "source": [
    "Al utilizar el dominio principal (https://www.freshproduce.com) junto al subdominio podemos acceder a las páginas web con su respectivo contenido."
   ]
  },
  {
   "cell_type": "code",
   "execution_count": 14,
   "id": "ea83987a",
   "metadata": {},
   "outputs": [
    {
     "name": "stdout",
     "output_type": "stream",
     "text": [
      "Link hacia el articulo: https://www.freshproduce.com/events/the-brazil-conference/\n"
     ]
    }
   ],
   "source": [
    "dominio_principal = \"https://www.freshproduce.com\"\n",
    "subdominio_ejemplo = todos_los_subdominios[0]\n",
    "\n",
    "print(f\"Link hacia el articulo: {dominio_principal}{subdominio_ejemplo}\")"
   ]
  },
  {
   "cell_type": "markdown",
   "id": "ff357a8a",
   "metadata": {},
   "source": [
    "Con ello podemos hacer una función que permita tomar desde el HTML todos los subdominios de la página web. Esto mediante encontrar la clase result-panel, extraer el contenido de cta-area para la obtención de subdominios, y añadirle el dominio principal al inicio de cada subdominio"
   ]
  },
  {
   "cell_type": "code",
   "execution_count": 15,
   "id": "4d52eb9c",
   "metadata": {},
   "outputs": [],
   "source": [
    "def obtener_subdominios(HTML, etiqueta_completa_todos_elementos = 'result-panel' ,etiqueta_elemento_individual='cta-area', dominio_principal=\"https://www.freshproduce.com\"):\n",
    "    result_panel_subdominio = HTML.find(class_=etiqueta_completa_todos_elementos) \n",
    "    \n",
    "    if not result_panel_subdominio:\n",
    "        print(f\"No se encontró la clase '{etiqueta}' en el HTML.\")\n",
    "        return []\n",
    "    subdominios = []\n",
    "    encontrar_todos_los_hipervinculos = result_panel_subdominio.find_all('div', class_=etiqueta_elemento_individual)\n",
    "    for enlace in encontrar_todos_los_hipervinculos:\n",
    "        a_tag = enlace.find('a')\n",
    "        if a_tag and 'href' in a_tag.attrs:\n",
    "            subdominio_completo = f\"{dominio_principal}{a_tag['href']}\"\n",
    "            subdominios.append(subdominio_completo)\n",
    "    \n",
    "    return subdominios"
   ]
  },
  {
   "cell_type": "code",
   "execution_count": 16,
   "id": "53abd74f",
   "metadata": {},
   "outputs": [
    {
     "name": "stdout",
     "output_type": "stream",
     "text": [
      "Subdominios encontrados:\n",
      "https://www.freshproduce.com/events/the-brazil-conference/\n",
      "https://www.freshproduce.com/resources/consumer-trends/americans-and-sustainability/\n",
      "https://www.freshproduce.com/events/the-mexico-conference/\n",
      "https://www.freshproduce.com/resources/advocacy/trumps-first-100-days/\n",
      "https://www.freshproduce.com/resources/global-trade/tariff-resources/\n",
      "https://www.freshproduce.com/resources/Commodities/international-retail-point-of-sale-data/\n",
      "https://www.freshproduce.com/resources/supply-chain-management/global-market-access/\n",
      "https://www.freshproduce.com/resources/global-trade/mexico-exports-to-us/\n",
      "https://www.freshproduce.com/resources/Commodities/global-table-grape-shipment-data/\n"
     ]
    }
   ],
   "source": [
    "ejemplo_subdominios = obtener_subdominios(Extraccion_HTML_dinamico)\n",
    "print(\"Subdominios encontrados:\")\n",
    "for subdominio in ejemplo_subdominios:\n",
    "    print(subdominio)"
   ]
  },
  {
   "cell_type": "markdown",
   "id": "af2aa729",
   "metadata": {},
   "source": [
    "#### Navegar por el numero de paginas del sitio web."
   ]
  },
  {
   "cell_type": "markdown",
   "id": "c97e86cb",
   "metadata": {},
   "source": [
    "Al usar el dominio https://www.freshproduce.com/resources/global-trade/ y navegar por la página, este cambia a https://www.freshproduce.com/resources/global-trade/?pageNumber=0 y https://www.freshproduce.com/resources/global-trade/?pageNumber=1 en su segunda página, por lo que asumimos que para cambiar de página utilizaremos esto:\n",
    "\n",
    "`https://www.freshproduce.com/resources/global-trade/?pageNumber=NUMPAGINA`, donde NUMPAGINA es el número de página (iniciando desde 0).\n",
    "\n",
    "Esto aplica para las demás categorías."
   ]
  },
  {
   "cell_type": "markdown",
   "id": "3b25a172",
   "metadata": {},
   "source": [
    "URLS con su respectiva navegación:\n",
    "- https://www.freshproduce.com/resources/global-trade/?pageNumber=0\n",
    "- https://www.freshproduce.com/resources/technology/?pageNumber=0\n",
    "- https://www.freshproduce.com/resources/food-safety/?pageNumber=0\n",
    "\n",
    "Por lo que el algoritmo para usarlo es:\n",
    "`${URL_BASE}?pageNumber=${NUMPAGINA}` donde por ejemplo la URL base de global-trade es `https://www.freshproduce.com/resources/global-trade/` y NUMPAGINA es el número de página"
   ]
  },
  {
   "cell_type": "code",
   "execution_count": 17,
   "id": "8a093c0b",
   "metadata": {},
   "outputs": [
    {
     "name": "stdout",
     "output_type": "stream",
     "text": [
      "Extrayendo página 1 de 1\n",
      "URL de la página a extraer: https://www.freshproduce.com/resources/global-trade/?pageNumber=0\n",
      "https://www.freshproduce.com/events/the-brazil-conference/\n",
      "https://www.freshproduce.com/resources/consumer-trends/americans-and-sustainability/\n",
      "https://www.freshproduce.com/events/the-mexico-conference/\n",
      "https://www.freshproduce.com/resources/advocacy/trumps-first-100-days/\n",
      "https://www.freshproduce.com/resources/global-trade/tariff-resources/\n",
      "https://www.freshproduce.com/resources/Commodities/international-retail-point-of-sale-data/\n",
      "https://www.freshproduce.com/resources/supply-chain-management/global-market-access/\n",
      "https://www.freshproduce.com/resources/global-trade/mexico-exports-to-us/\n",
      "https://www.freshproduce.com/resources/Commodities/global-table-grape-shipment-data/\n"
     ]
    }
   ],
   "source": [
    "numero_de_paginas_maximo_a_extraer = 1  # Número máximo de páginas a extraer\n",
    "paginas_a_extraer = []  # Lista para almacenar las URLs de las páginas a extraer\n",
    "for i in range (0,numero_de_paginas_maximo_a_extraer):\n",
    "    print(f\"Extrayendo página {i + 1} de {numero_de_paginas_maximo_a_extraer}\")\n",
    "    url_pagina = f\"{primera_url_a_extraer_subdominio_ejemplo}?pageNumber={i}\"\n",
    "    print(f\"URL de la página a extraer: {url_pagina}\")\n",
    "    Extraccion_HTML_dinamico = scrape_website_with_dynamic_content(url_pagina, classes_to_wait=etiquetas_a_extraer, ID_OR_CLASS='CLASS')\n",
    "    \n",
    "    subdominios_en_pagina = obtener_subdominios(Extraccion_HTML_dinamico)\n",
    "    for subdominio in subdominios_en_pagina:\n",
    "        print(subdominio)\n",
    "        paginas_a_extraer.append(subdominio)  # Agregar la URL de la página a la lista\n",
    "\n",
    "    if bool_is_final_page(Extraccion_HTML_dinamico, etiquetas_a_extraer[0]):\n",
    "        print(\"Se ha alcanzado la última página. Terminando la extracción.\")\n",
    "        break"
   ]
  },
  {
   "cell_type": "code",
   "execution_count": 18,
   "id": "7283b612",
   "metadata": {},
   "outputs": [
    {
     "name": "stdout",
     "output_type": "stream",
     "text": [
      "['https://www.freshproduce.com/events/the-brazil-conference/', 'https://www.freshproduce.com/resources/consumer-trends/americans-and-sustainability/', 'https://www.freshproduce.com/events/the-mexico-conference/', 'https://www.freshproduce.com/resources/advocacy/trumps-first-100-days/', 'https://www.freshproduce.com/resources/global-trade/tariff-resources/', 'https://www.freshproduce.com/resources/Commodities/international-retail-point-of-sale-data/', 'https://www.freshproduce.com/resources/supply-chain-management/global-market-access/', 'https://www.freshproduce.com/resources/global-trade/mexico-exports-to-us/', 'https://www.freshproduce.com/resources/Commodities/global-table-grape-shipment-data/']\n"
     ]
    }
   ],
   "source": [
    "print(paginas_a_extraer)"
   ]
  },
  {
   "cell_type": "markdown",
   "id": "e12dc606",
   "metadata": {},
   "source": [
    "Con todo lo anterior podemos realizar una función que realice una extracción de cada página dominio junto a los dominios de cada artículo."
   ]
  },
  {
   "cell_type": "code",
   "execution_count": 19,
   "id": "0a0dd9f8",
   "metadata": {},
   "outputs": [],
   "source": [
    "def extraccion_de_subdominios(url_a_extraer, numero_de_paginas_maximo_a_extraer=1, etiquetas_a_extraer_funcion=['search-stats', 'result-panel'], etiqueta_elemento_individual='cta-area', dominio_principal=\"https://www.freshproduce.com\"):\n",
    "    paginas_a_extraer = []  # Lista para almacenar las URLs de las páginas a extraer\n",
    "    for (url, etiqueta) in url_a_extraer: #Separacion de URL y etiqueta para la extracción\n",
    "        for i in range(0,numero_de_paginas_maximo_a_extraer):\n",
    "            url_pagina = f\"{url}?pageNumber={i}\"\n",
    "            print(f\"URL de la página actual a extraer: {url_pagina}\")\n",
    "            Extraccion_HTML_dinamico = scrape_website_with_dynamic_content(url_pagina, classes_to_wait=etiquetas_a_extraer_funcion, ID_OR_CLASS='CLASS')\n",
    "\n",
    "            etiqueta_completa_todos_elementos = etiquetas_a_extraer_funcion[1]\n",
    "            subdominios_en_pagina = obtener_subdominios(Extraccion_HTML_dinamico, etiqueta_completa_todos_elementos,etiqueta_elemento_individual, dominio_principal)\n",
    "            for subdominio in subdominios_en_pagina:\n",
    "                #print(subdominio)\n",
    "                paginas_a_extraer.append([subdominio, etiqueta])  # Agregar la URL de la página a la lista y su etiqueta asociada\n",
    "            etiqueta_busqueda_numeroElementos = etiquetas_a_extraer_funcion[0]\n",
    "              \n",
    "            # Verificar si se ha alcanzado la última página\n",
    "            if bool_is_final_page(Extraccion_HTML_dinamico, etiqueta_busqueda_numeroElementos):\n",
    "                print(\"Se ha alcanzado la última página. Terminando la extracción.\")\n",
    "                break\n",
    "    print(\"Páginas extraidas:\", len(paginas_a_extraer))\n",
    "    return paginas_a_extraer"
   ]
  },
  {
   "cell_type": "code",
   "execution_count": 20,
   "id": "e4adbfdd",
   "metadata": {},
   "outputs": [],
   "source": [
    "urls_extraer_información = [\n",
    "                            [\"https://www.freshproduce.com/resources/global-trade/\",\"Global Trade\"],\n",
    "                            [\"https://www.freshproduce.com/resources/technology/\",\"Technology\"],\n",
    "                            [\"https://www.freshproduce.com/resources/food-safety/\",\"Food Safety\"]\n",
    "                            ] # Ya viene con su respectivo etiquetado para identificar el subdominio"
   ]
  },
  {
   "cell_type": "code",
   "execution_count": 21,
   "id": "4b329bf0",
   "metadata": {},
   "outputs": [
    {
     "name": "stdout",
     "output_type": "stream",
     "text": [
      "URL de la página actual a extraer: https://www.freshproduce.com/resources/global-trade/?pageNumber=0\n",
      "URL de la página actual a extraer: https://www.freshproduce.com/resources/technology/?pageNumber=0\n",
      "URL de la página actual a extraer: https://www.freshproduce.com/resources/food-safety/?pageNumber=0\n",
      "Páginas extraidas: 27\n"
     ]
    }
   ],
   "source": [
    "num_paginas_extraer = 1 # Solo se ocupa extraer una página, la primera página.\n",
    "paginas_extraidas = extraccion_de_subdominios(urls_extraer_información, num_paginas_extraer)"
   ]
  },
  {
   "cell_type": "code",
   "execution_count": 22,
   "id": "28f4ab8d",
   "metadata": {},
   "outputs": [
    {
     "name": "stdout",
     "output_type": "stream",
     "text": [
      "Total de subdominios extraídos: 27\n"
     ]
    }
   ],
   "source": [
    "print(f\"Total de subdominios extraídos: {len(paginas_extraidas)}\")"
   ]
  },
  {
   "cell_type": "markdown",
   "id": "80b6e236",
   "metadata": {},
   "source": [
    "Ahora lo pasamos a un formato Pandas para mejor control de los datos"
   ]
  },
  {
   "cell_type": "code",
   "execution_count": 23,
   "id": "c07d0d26",
   "metadata": {},
   "outputs": [],
   "source": [
    "import pandas as pd\n",
    "columnas = ['URL','Category']\n",
    "df_dominios = pd.DataFrame(paginas_extraidas, columns=columnas)"
   ]
  },
  {
   "cell_type": "code",
   "execution_count": 24,
   "id": "3d7f7584",
   "metadata": {},
   "outputs": [
    {
     "name": "stdout",
     "output_type": "stream",
     "text": [
      "                                                 URL      Category\n",
      "0  https://www.freshproduce.com/events/the-brazil...  Global Trade\n",
      "1  https://www.freshproduce.com/resources/consume...  Global Trade\n",
      "2  https://www.freshproduce.com/events/the-mexico...  Global Trade\n",
      "3  https://www.freshproduce.com/resources/advocac...  Global Trade\n",
      "4  https://www.freshproduce.com/resources/global-...  Global Trade\n"
     ]
    }
   ],
   "source": [
    "print(df_dominios.head())"
   ]
  },
  {
   "cell_type": "code",
   "execution_count": 25,
   "id": "a9baf342",
   "metadata": {},
   "outputs": [
    {
     "name": "stdout",
     "output_type": "stream",
     "text": [
      "count               27\n",
      "unique               3\n",
      "top       Global Trade\n",
      "freq                 9\n",
      "Name: Category, dtype: object\n"
     ]
    }
   ],
   "source": [
    "print(df_dominios.Category.describe()) #Ver descripción de las categorías"
   ]
  },
  {
   "cell_type": "code",
   "execution_count": 26,
   "id": "6f2590f0",
   "metadata": {},
   "outputs": [],
   "source": [
    "df_dominios.to_csv(f\"extracted_subdomains.csv\", index=False)  # Guardar el DataFrame en un archivo CSV"
   ]
  },
  {
   "cell_type": "markdown",
   "id": "517b33a1",
   "metadata": {},
   "source": [
    "### Extracción de información de artículos."
   ]
  },
  {
   "cell_type": "markdown",
   "id": "865f2014",
   "metadata": {},
   "source": [
    "Teniendo la información de los anteriores subdominios en un .csv vamos a extraer toda la información de cada página web."
   ]
  },
  {
   "cell_type": "code",
   "execution_count": 14,
   "id": "59403c01",
   "metadata": {},
   "outputs": [
    {
     "data": {
      "text/html": [
       "<div>\n",
       "<style scoped>\n",
       "    .dataframe tbody tr th:only-of-type {\n",
       "        vertical-align: middle;\n",
       "    }\n",
       "\n",
       "    .dataframe tbody tr th {\n",
       "        vertical-align: top;\n",
       "    }\n",
       "\n",
       "    .dataframe thead th {\n",
       "        text-align: right;\n",
       "    }\n",
       "</style>\n",
       "<table border=\"1\" class=\"dataframe\">\n",
       "  <thead>\n",
       "    <tr style=\"text-align: right;\">\n",
       "      <th></th>\n",
       "      <th>URL</th>\n",
       "      <th>Category</th>\n",
       "    </tr>\n",
       "  </thead>\n",
       "  <tbody>\n",
       "    <tr>\n",
       "      <th>0</th>\n",
       "      <td>https://www.freshproduce.com/events/the-brazil...</td>\n",
       "      <td>Global Trade</td>\n",
       "    </tr>\n",
       "    <tr>\n",
       "      <th>1</th>\n",
       "      <td>https://www.freshproduce.com/resources/consume...</td>\n",
       "      <td>Global Trade</td>\n",
       "    </tr>\n",
       "    <tr>\n",
       "      <th>2</th>\n",
       "      <td>https://www.freshproduce.com/events/the-mexico...</td>\n",
       "      <td>Global Trade</td>\n",
       "    </tr>\n",
       "    <tr>\n",
       "      <th>3</th>\n",
       "      <td>https://www.freshproduce.com/resources/advocac...</td>\n",
       "      <td>Global Trade</td>\n",
       "    </tr>\n",
       "    <tr>\n",
       "      <th>4</th>\n",
       "      <td>https://www.freshproduce.com/resources/global-...</td>\n",
       "      <td>Global Trade</td>\n",
       "    </tr>\n",
       "  </tbody>\n",
       "</table>\n",
       "</div>"
      ],
      "text/plain": [
       "                                                 URL      Category\n",
       "0  https://www.freshproduce.com/events/the-brazil...  Global Trade\n",
       "1  https://www.freshproduce.com/resources/consume...  Global Trade\n",
       "2  https://www.freshproduce.com/events/the-mexico...  Global Trade\n",
       "3  https://www.freshproduce.com/resources/advocac...  Global Trade\n",
       "4  https://www.freshproduce.com/resources/global-...  Global Trade"
      ]
     },
     "execution_count": 14,
     "metadata": {},
     "output_type": "execute_result"
    }
   ],
   "source": [
    "import pandas as pd\n",
    "df_subdominios = pd.read_csv(\"extracted_subdomains.csv\")  # Cargar el DataFrame desde el archivo CSV\n",
    "df_subdominios.head()  # Mostrar las primeras filas del DataFrame"
   ]
  },
  {
   "cell_type": "markdown",
   "id": "d275c468",
   "metadata": {},
   "source": [
    "Ciclo for para ver todo el contenido"
   ]
  },
  {
   "cell_type": "code",
   "execution_count": 15,
   "id": "9024d05c",
   "metadata": {},
   "outputs": [
    {
     "name": "stdout",
     "output_type": "stream",
     "text": [
      "URL: https://www.freshproduce.com/events/the-brazil-conference/, Category: Global Trade\n",
      "URL: https://www.freshproduce.com/resources/consumer-trends/americans-and-sustainability/, Category: Global Trade\n",
      "URL: https://www.freshproduce.com/events/the-mexico-conference/, Category: Global Trade\n",
      "URL: https://www.freshproduce.com/resources/advocacy/trumps-first-100-days/, Category: Global Trade\n",
      "URL: https://www.freshproduce.com/resources/global-trade/tariff-resources/, Category: Global Trade\n",
      "URL: https://www.freshproduce.com/resources/Commodities/international-retail-point-of-sale-data/, Category: Global Trade\n",
      "URL: https://www.freshproduce.com/resources/supply-chain-management/global-market-access/, Category: Global Trade\n",
      "URL: https://www.freshproduce.com/resources/global-trade/mexico-exports-to-us/, Category: Global Trade\n",
      "URL: https://www.freshproduce.com/resources/Commodities/global-table-grape-shipment-data/, Category: Global Trade\n",
      "URL: https://www.freshproduce.com/resources/technology/takes-on-tech-podcast/episode-118-behind-the-scenes-of-produce-policy/, Category: Technology\n",
      "URL: https://www.freshproduce.com/resources/technology/takes-on-tech-podcast/episode-117-the-future-of-agtech/, Category: Technology\n",
      "URL: https://www.freshproduce.com/resources/technology/takes-on-tech-podcast/episode-116-innovating-produce-supply-chains/, Category: Technology\n",
      "URL: https://www.freshproduce.com/resources/technology/takes-on-tech-podcast/episode-115advancing-fresh-produce-preservation/, Category: Technology\n",
      "URL: https://www.freshproduce.com/resources/technology/takes-on-tech-podcast/episode-113-transforming-pest-control-and-pollination-practices/, Category: Technology\n",
      "URL: https://www.freshproduce.com/resources/technology/takes-on-tech-podcast/episode-112-environmental-footprint/, Category: Technology\n",
      "URL: https://www.freshproduce.com/resources/technology/ai-in-the-fresh-produce-industry/, Category: Technology\n",
      "URL: https://www.freshproduce.com/resources/retail/roots-to-retail-webinar/, Category: Technology\n",
      "URL: https://www.freshproduce.com/resources/technology/takes-on-tech-podcast/episode-101-sustainable-agriculture-strategies/, Category: Technology\n",
      "URL: https://www.freshproduce.com/resources/food-safety/risk-scoring-for-produce/, Category: Food Safety\n",
      "URL: https://www.freshproduce.com/resources/consumer-trends/americans-and-sustainability/, Category: Food Safety\n",
      "URL: https://www.freshproduce.com/resources/food-safety/pfas-in-specialty-crop-production/, Category: Food Safety\n",
      "URL: https://www.freshproduce.com/resources/consumer-trends/purchasing-behavior/, Category: Food Safety\n",
      "URL: https://www.freshproduce.com/resources/food-safety/microplastics-and-nanoplastics-in-specialty-crop-production/, Category: Food Safety\n",
      "URL: https://www.freshproduce.com/resources/consumer-trends/americans-and-the-grocery-store/, Category: Food Safety\n",
      "URL: https://www.freshproduce.com/resources/consumer-trends/eating-behavior/, Category: Food Safety\n",
      "URL: https://www.freshproduce.com/resources/consumer-trends/healthy-eating-behavior/, Category: Food Safety\n",
      "URL: https://www.freshproduce.com/resources/food-safety/evaluacion-de-riesgos-en-productos-frescos/, Category: Food Safety\n"
     ]
    }
   ],
   "source": [
    "for i in range(len(df_subdominios)):\n",
    "    URL, Category = df_subdominios.iloc[i][['URL', 'Category']]  # Acceder a cada fila por índice\n",
    "    print(f\"URL: {URL}, Category: {Category}\")"
   ]
  },
  {
   "cell_type": "code",
   "execution_count": 16,
   "id": "711c184f",
   "metadata": {},
   "outputs": [
    {
     "name": "stdout",
     "output_type": "stream",
     "text": [
      "https://www.freshproduce.com/events/the-brazil-conference/\n"
     ]
    }
   ],
   "source": [
    "primer_ejemplo_url_a_extraer_informacion_completa = df_subdominios.iloc[0]['URL']  # Obtener la primera URL del DataFrame\n",
    "print(primer_ejemplo_url_a_extraer_informacion_completa)"
   ]
  },
  {
   "cell_type": "markdown",
   "id": "dda08063",
   "metadata": {},
   "source": [
    "Volvemos a colocar la función de Web scrapping para contenido dinámico, para evitar correr el proceso anterior"
   ]
  },
  {
   "cell_type": "code",
   "execution_count": 17,
   "id": "2d86c86b",
   "metadata": {},
   "outputs": [],
   "source": [
    "from selenium import webdriver #Controlar google chrome para obtener HTML con contenido dinámico\n",
    "from selenium.webdriver.chrome.options import Options #Controlar google chrome sin interfaz gráfica\n",
    "from selenium.webdriver.support.ui import WebDriverWait  # Para esperar elementos dinámicos\n",
    "from selenium.webdriver.support import expected_conditions as EC  # Condiciones para la espera\n",
    "from selenium.webdriver.common.by import By  # Para localizar elementos (por clase, ID, etc.)\n",
    "from bs4 import BeautifulSoup # #Para parsear el HTML obtenido con selenium\n",
    "import chromedriver_autoinstaller #Instalación automática del driver de Chrome\n",
    "\n",
    "def scrape_website_with_dynamic_content(page, classes_to_wait = None, ID_OR_CLASS='CLASS'):\n",
    "    # Instala automáticamente el chromedriver compatible con la versión de Chrome instalada\n",
    "    chromedriver_autoinstaller.install() \n",
    "\n",
    "    options = Options() # Configuraciones de opciones para el navegador\n",
    "    options.add_argument(\"--headless\") # Ejecuta chrome sin interfaz gráfica\n",
    "\n",
    "    #Necesario por falta de permisos en el entorno aislado del contenedor\n",
    "    options.add_argument(\"--no-sandbox\") #Desactiva seguridad de Chrome por problemas de permisos en algunos sistemas\n",
    "    \n",
    "    options.add_argument(\"--disable-dev-shm-usage\") #Prevenir fallos por falta de memoria (RAM) compartida en algunos sistemas. Usa memoria de disco duro.\n",
    "\n",
    "    driver = webdriver.Chrome(options=options) # Inicia navegador chrome con las opciones configuradas\n",
    "\n",
    "    driver.get(page) # Carga la página web en el navegador\n",
    "\n",
    "    \n",
    "    if classes_to_wait:\n",
    "        tiempo_espera = 30 # Tiempo máximo de espera en segundos para que se cargue el contenido dinámico\n",
    "        wait = WebDriverWait(driver, tiempo_espera)\n",
    "        if ID_OR_CLASS.upper() == 'CLASS':\n",
    "            for class_to_wait in classes_to_wait: #Recorre cada clase a esperar\n",
    "                wait.until(\n",
    "                    EC.presence_of_element_located((By.CLASS_NAME, class_to_wait)) #CAMBIO: Cambié By.CLASS_NAME por By.ID para esperar por ID en lugar de clase\n",
    "                )# Espera cada una de las clases\n",
    "        elif ID_OR_CLASS.upper() == 'ID':\n",
    "            for id_to_wait in classes_to_wait: #Recorre cada ID a esperar\n",
    "                wait.until(\n",
    "                    EC.presence_of_element_located((By.ID, id_to_wait)) #CAMBIO: Cambié By.ID por By.CLASS_NAME para esperar por clase en lugar de ID\n",
    "                )# Espera cada uno de los IDs\n",
    "        else:\n",
    "            raise ValueError(\"ID_OR_CLASS debe ser 'CLASS' o 'ID'.\")  # Manejo de error si el parámetro no es válido\n",
    "\n",
    "\n",
    "\n",
    "    html_completo = driver.page_source  # Obtención del HTML renderizado completo\n",
    "\n",
    "    # Usar BeautifulSoup para parsear\n",
    "    soup = BeautifulSoup(html_completo, \"html.parser\")\n",
    "    # Por ejemplo, buscar la tabla con clase 'search-results'\n",
    "    driver.quit() #Cerrar navegador de Chrome\n",
    "    return soup"
   ]
  },
  {
   "cell_type": "markdown",
   "id": "798f9d53",
   "metadata": {},
   "source": [
    "Inspeccionado la página web, lo que se requiere en lugar de una clase será un identificador id llamado \"pageContent\""
   ]
  },
  {
   "cell_type": "code",
   "execution_count": 18,
   "id": "a693d0bf",
   "metadata": {},
   "outputs": [],
   "source": [
    "Extraccion_HTML_dinamico_todo_el_contenido = scrape_website_with_dynamic_content(primer_ejemplo_url_a_extraer_informacion_completa, \n",
    "                                                                                 classes_to_wait=['pageContent'], ID_OR_CLASS='ID')"
   ]
  },
  {
   "cell_type": "markdown",
   "id": "22d7b8f8",
   "metadata": {},
   "source": [
    "Se requiere el titulo de la página. Esta es la etiqueta h1 de la página"
   ]
  },
  {
   "cell_type": "code",
   "execution_count": 19,
   "id": "c5d74217",
   "metadata": {},
   "outputs": [
    {
     "name": "stdout",
     "output_type": "stream",
     "text": [
      "Título de la página: The Brazil Conference\n"
     ]
    }
   ],
   "source": [
    "titulo = Extraccion_HTML_dinamico_todo_el_contenido.find('h1')  # Buscar el título de la página\n",
    "print(f\"Título de la página: {titulo.text.strip() if titulo else 'No se encontró el título'}\")"
   ]
  },
  {
   "cell_type": "markdown",
   "id": "7170e01b",
   "metadata": {},
   "source": [
    "Extraer todo el contenido de la página"
   ]
  },
  {
   "cell_type": "code",
   "execution_count": 20,
   "id": "65a4a16d",
   "metadata": {},
   "outputs": [
    {
     "name": "stdout",
     "output_type": "stream",
     "text": [
      "Contenido de la página:\n",
      "\n",
      "\n",
      "\n",
      "\n",
      "\n",
      "\n",
      "\n",
      "\n",
      "\n",
      "August 6-7, 2025 | São Paulo, Brazil\n",
      "The Brazil Conference\n",
      "\n",
      "\n",
      "THE BRAZIL CONFERENCE & EXPO is the meeting point for the main retail buyers, high-level production executives and industry leaders at the only event in Brazil dedicated to the entire fresh produce supply chain.\n",
      "\n",
      "\n",
      "\n",
      "\n",
      "    Register now\n",
      "\n",
      "\n",
      "\n",
      "\n",
      "\n",
      "\n",
      "\n",
      "\n",
      "\n",
      "\n",
      "\n",
      "\n",
      "\n",
      "\n",
      "\n",
      "\n",
      "\n",
      "\n",
      "\n",
      "\n",
      "IFPA Home\n",
      "\n",
      "\n",
      "\n",
      "\n",
      "\n",
      "Events\n",
      "\n",
      "\n",
      "\n",
      "\n",
      "\n",
      "The Brazil Conference\n",
      "\n",
      "\n",
      "\n",
      "\n",
      "\n",
      "\n",
      "\n",
      "\n",
      "\n",
      "Share\n",
      "\n",
      "\n",
      "Tweet\n",
      "\n",
      "\n",
      "Email\n",
      "\n",
      "\n",
      "Share\n",
      "\n",
      "\n",
      "\n",
      "\n",
      "\n",
      "\n",
      "\n",
      "\n",
      "\n",
      "\n",
      "\n",
      "\n",
      "\n",
      "\n",
      "\n",
      "\n",
      "\n",
      "\n",
      "\n",
      "\n",
      "\n",
      "\n",
      "\n",
      "\n",
      "\n",
      "\n",
      "Why Attend?\n",
      "\n",
      "Find innovation. Strengthen business relationships. Network with industry leaders and stay on top of industry trends and news.\n",
      "\n",
      "\n",
      "\n",
      "\n",
      "\n",
      "\n",
      "\n",
      "\n",
      "\n",
      "Who Attends?\n",
      "\n",
      "Retailers, producers, wholesalers, importers, exporters, industry associations, government agencies, solution and service providers\n",
      "\n",
      "\n",
      "\n",
      "\n",
      "\n",
      "\n",
      "\n",
      "\n",
      "\n",
      "\n",
      "\n",
      "\n",
      "2024 Brazil Conference Photos\n",
      "\n",
      "\n",
      "\n",
      "\n",
      "\n",
      "Business, networking, and innovation! Discover the latest trends in the fruit, flower, vegetable, and produce market at The Produce Fresh International.\n",
      "\n",
      "\n",
      "\n",
      "\n",
      "\n",
      "From farm to table! The Produce Fresh International is the perfect platform to connect producers and consumers.\n",
      "\n",
      "\n",
      "\n",
      "\n",
      "\n",
      "Kitchen inspiration! Discover new ideas and recipes with fresh products from The Produce Fresh International.\n",
      "\n",
      "\n",
      "\n",
      "\n",
      "\n",
      "Keeping up with trends and driving growth in the fruit, flower, vegetable, and produce market.\n",
      "\n",
      "\n",
      "\n",
      "\n",
      "\n",
      "Connections that flourish! At The Produce Fresh International, strategic partnerships and new business opportunities come to life.\n",
      "\n",
      "\n",
      "\n",
      "\n",
      "\n",
      "Numbers that inspire! The Produce Fresh International brings together key players in the market to discuss the latest trends and drive growth.\n",
      "\n",
      "\n",
      "\n",
      "\n",
      "\n",
      "Your key to success! Accredited and granting access to all areas of The Produce Fresh International, including lectures, exhibitions, and networking.\n",
      "\n",
      "\n",
      "\n",
      "\n",
      "\n",
      "\n",
      "Fresh food for all! The IFPA supports the distribution of fresh food to individuals facing food insecurity.\n",
      "\n",
      "\n",
      "\n",
      "\n",
      "\n",
      "Inspiring voices! Lectures and workshops to expand knowledge and connect with industry leaders.\n",
      "\n",
      "\n",
      "\n",
      "\n",
      "\n",
      "Technology and sustainability side by side! The Produce Fresh International is the perfect stage for innovation and business.\n",
      "\n",
      "\n",
      "\n",
      "\n",
      "\n",
      "Take your business to new heights in the fruit, flower, vegetable, and produce market! At The Produce Fresh International, opportunities are just a step away.\n",
      "\n",
      "\n",
      "\n",
      "\n",
      "\n",
      "Building connections and business opportunities at The Produce Fresh International.\n",
      "\n",
      "\n",
      "\n",
      "\n",
      "\n",
      "\n",
      "\n",
      "\n",
      "\n",
      "\n",
      "\n",
      "\n",
      "\n",
      "\n",
      "\n",
      "\n",
      "Wednesday, August 6, 2025\n",
      "\n",
      "\n",
      "\n",
      "\n",
      "\n",
      "8:00 AM - 9:15 AM\n",
      "\n",
      "\n",
      "\n",
      "Networking Breakfast\n",
      "\n",
      "\n",
      "\n",
      "\n",
      "\n",
      "9:15 AM - 9:30 AM\n",
      "\n",
      "\n",
      "\n",
      "Welcome\n",
      "\n",
      "\n",
      "\n",
      "\n",
      "\n",
      "9:30 AM - 10:20 AM\n",
      "\n",
      "\n",
      "\n",
      "State of the Industry – Brazil\n",
      "Join us for this session to hear from IFPA’s CEO, Cathy Burns, as she shares the latest global information, research, and what it means to IFPA members in Brazil.\n",
      "Speaker\n",
      "\n",
      "\n",
      "\n",
      "\n",
      "\n",
      "\n",
      "\n",
      "Cathy BurnsCEOInternational Fresh Produce Association\n",
      "\n",
      "\n",
      "\n",
      "\n",
      "\n",
      "\n",
      "\n",
      "10:20 AM - 11:10 AM\n",
      "\n",
      "\n",
      "\n",
      "Education Session\n",
      "\n",
      "\n",
      "\n",
      "\n",
      "\n",
      "11:10 AM - 11:20 AM\n",
      "\n",
      "\n",
      "\n",
      "Day 1 Closing Remarks\n",
      "\n",
      "\n",
      "\n",
      "\n",
      "\n",
      "11:30 AM - 7:00 PM\n",
      "\n",
      "\n",
      "\n",
      "Expo Open\n",
      "\n",
      "\n",
      "\n",
      "\n",
      "\n",
      "\n",
      "Thursday, August 7, 2025\n",
      "\n",
      "\n",
      "\n",
      "\n",
      "\n",
      "8:00 AM - 9:15 AM\n",
      "\n",
      "\n",
      "\n",
      "Networking Breakfast\n",
      "\n",
      "\n",
      "\n",
      "\n",
      "\n",
      "9:15 AM - 9:30 AM\n",
      "\n",
      "\n",
      "\n",
      "Welcome\n",
      "\n",
      "\n",
      "\n",
      "\n",
      "\n",
      "9:30 AM - 10:20 AM\n",
      "\n",
      "\n",
      "\n",
      "Education Session \n",
      "\n",
      "\n",
      "\n",
      "\n",
      "\n",
      "10:20 AM - 11:10 AM\n",
      "\n",
      "\n",
      "\n",
      "Agriculture as Climate Solution: Insights from COP30 and Brazil's Sustainability Leadership\n",
      "As the global conversation around climate action intensifies, the agricultural sector is stepping up not only as a stakeholder—but as a critical part of the solution. This session will include key takeaways from the recent United Nations COP30 event and explore how these developments intersect with Brazil’s unique environmental landscape.\n",
      "Panelists will examine Brazil’s growing leadership in sustainable agriculture, the implications of COP30 for global and local produce industries, and how IFPA members can stay ahead of policy, market, and environmental shifts. The discussion will reinforce the powerful narrative that agriculture—particularly in Brazil—is not the cause of climate change, but a vital tool to combat it. Don’t miss this opportunity to align your business with the future of sustainability and climate-smart agriculture.\n",
      "Moderator\n",
      "\n",
      "\n",
      "\n",
      "\n",
      "\n",
      "\n",
      "\n",
      "Jessica KellerVice President, Global Industry RelationsInternational Fresh Produce Associations\n",
      "\n",
      "\n",
      " \n",
      "Panelist\n",
      "\n",
      "\n",
      "\n",
      "\n",
      "\n",
      "\n",
      "\n",
      "Tamara MuruetagoienaVice President, SustainabilityInternational Fresh Produce Association\n",
      "\n",
      "\n",
      "\n",
      "\n",
      "\n",
      "\n",
      "\n",
      "11:10 AM - 11:20 AM\n",
      "\n",
      "\n",
      "\n",
      "Day 2 Closing Remarks\n",
      "\n",
      "\n",
      "\n",
      "\n",
      "\n",
      "11:30 AM - 7:00 PM\n",
      "\n",
      "\n",
      "\n",
      "Expo Open\n",
      "\n",
      "\n",
      "\n",
      "\n",
      "\n",
      "\n",
      "\n",
      "\n",
      "\n",
      "\n",
      "\n",
      "\n",
      "\n",
      "\n",
      "\n",
      "\n",
      "\n",
      "\n",
      "Event Location\n",
      "Expo Center Norte\n",
      "Rua José Bernardo Pinto, 333 - Vila Guilherme,São Paulo - SP, 02055-000, Brazil\n",
      " \n",
      "\n",
      "\n",
      "\n",
      "\n",
      "\n",
      "\n",
      "\n",
      "\n",
      "\n",
      "\n",
      "\n",
      "Thank You to Our 2025 Sponsors\n",
      "\n",
      "\n",
      "\n",
      "\n",
      "\n",
      "\n",
      "\n",
      "    See All Sponsors\n",
      "\n",
      "\n",
      "\n",
      "\n",
      "\n",
      "\n",
      "\n",
      "\n",
      "Get involved\n",
      "\n",
      "                                    Inquire about sponsorship information\n",
      "                                \n",
      "\n",
      "\n",
      "\n",
      "\n",
      "\n",
      "\n",
      "\n",
      "\n",
      "Valeska de Oliveira\n",
      "\n",
      "Brazil Representative\n",
      "\n",
      "+55 11 3522 7348\n",
      "Email Valeska de Oliveira\n",
      "\n",
      "\n",
      "\n",
      "\n",
      "\n",
      "\n",
      "\n",
      "\n",
      "Valerie Mendoza\n",
      "\n",
      "Events Manager\n",
      "\n",
      "+1(302)607-2132\n",
      "Email Valerie Mendoza\n",
      "\n",
      "\n",
      "\n",
      "\n",
      "\n",
      "\n",
      "\n",
      "\n",
      "\n"
     ]
    }
   ],
   "source": [
    "all_content_page = Extraccion_HTML_dinamico_todo_el_contenido.find(id='pageContent')  # Buscar el contenido principal de la página. Evitamos barras como cookies, banners, etc.\n",
    "if all_content_page:\n",
    "    print(\"Contenido de la página:\")\n",
    "    print(all_content_page.text)"
   ]
  },
  {
   "cell_type": "markdown",
   "id": "19dd3c58",
   "metadata": {},
   "source": [
    "Muchos espacios en blanco. Esto puede afectar en el número de Tokens que puede recibir la LLM. Hay que reducirlo"
   ]
  },
  {
   "cell_type": "code",
   "execution_count": 21,
   "id": "4880463b",
   "metadata": {},
   "outputs": [
    {
     "name": "stdout",
     "output_type": "stream",
     "text": [
      "Texto final:\n",
      "Contenido de la página:\n",
      "August 6-7, 2025 | São Paulo, Brazil\n",
      "The Brazil Conference\n",
      "THE BRAZIL CONFERENCE & EXPO is the meeting point for the main retail buyers, high-level production executives and industry leaders at the only event in Brazil dedicated to the entire fresh produce supply chain.\n",
      "Register now\n"
     ]
    }
   ],
   "source": [
    "string_prueba = \"\"\"\n",
    "Contenido de la página:\n",
    "\n",
    "\n",
    "\n",
    "\n",
    "\n",
    "\n",
    "\n",
    "\n",
    "\n",
    "August 6-7, 2025 | São Paulo, Brazil\n",
    "The Brazil Conference\n",
    "\n",
    "\n",
    "THE BRAZIL CONFERENCE & EXPO is the meeting point for the main retail buyers, high-level production executives and industry leaders at the only event in Brazil dedicated to the entire fresh produce supply chain.\n",
    "\n",
    "\n",
    "\n",
    "\n",
    "    Register now\n",
    "\"\"\"\n",
    "\n",
    "#print(string_prueba.strip())  # Eliminar espacios en blanco al principio y al final del string\n",
    "string_prueba_sin_espacios_inicio_y_final = string_prueba.strip()  # Eliminar espacios en blanco al principio y al final del string\n",
    "texto = \"\"\n",
    "for line in string_prueba_sin_espacios_inicio_y_final.split('\\n'): #Hace un arreglo de saltos de linea\n",
    "    line = line.strip() # Eliminar espacios en blanco al principio y al final de cada línea\n",
    "    if line:  # Verificar si la línea no está vacía\n",
    "        texto += line + \"\\n\"  # Concatenar la línea al texto final, agregando un espacio al final\n",
    "\n",
    "print(\"Texto final:\")\n",
    "print(texto.strip())  # Imprimir el texto final después de eliminar espacios en blanco al principio y al final\n"
   ]
  },
  {
   "cell_type": "markdown",
   "id": "c52932ed",
   "metadata": {},
   "source": [
    "Podemos hacer una función para limpieza de espacios en blanco"
   ]
  },
  {
   "cell_type": "code",
   "execution_count": 22,
   "id": "d01109fd",
   "metadata": {},
   "outputs": [],
   "source": [
    "def clean_text(text):\n",
    "    # Elimina espacios en blanco al principio y al final, y elimina líneas vacías\n",
    "    text_without_empty_lines_start_end = text.strip()  # Eliminar espacios en blanco al principio y al final del texto \n",
    "    cleaned_text = \"\"\n",
    "    for line in text_without_empty_lines_start_end.split('\\n'):  # Hace un arreglo de saltos de línea\n",
    "        line = line.strip()  # Eliminar espacios en blanco al principio y al final de cada línea\n",
    "        if line:  # Verificar si la línea no está vacía\n",
    "            cleaned_text += line + \"\\n\"  # Concatenar la línea al texto final, agregando un salto de línea al final\n",
    "    return cleaned_text.strip()  # Devolver el texto final después de eliminar espacios en blanco al principio y al final\n"
   ]
  },
  {
   "cell_type": "code",
   "execution_count": 23,
   "id": "8c08f163",
   "metadata": {},
   "outputs": [],
   "source": [
    "clean_text_final = clean_text(all_content_page.text)"
   ]
  },
  {
   "cell_type": "code",
   "execution_count": 24,
   "id": "57c04368",
   "metadata": {},
   "outputs": [
    {
     "name": "stdout",
     "output_type": "stream",
     "text": [
      "August 6-7, 2025 | São Paulo, Brazil\n",
      "The Brazil Conference\n",
      "THE BRAZIL CONFERENCE & EXPO is the meeting point for the main retail buyers, high-level production executives and industry leaders at the only event in Brazil dedicated to the entire fresh produce supply chain.\n",
      "Register now\n",
      "IFPA Home\n",
      "Events\n",
      "The Brazil Conference\n",
      "Share\n",
      "Tweet\n",
      "Email\n",
      "Share\n",
      "Why Attend?\n",
      "Find innovation. Strengthen business relationships. Network with industry leaders and stay on top of industry trends and news.\n",
      "Who Attends?\n",
      "Retailers, producers, wholesalers, importers, exporters, industry associations, government agencies, solution and service providers\n",
      "2024 Brazil Conference Photos\n",
      "Business, networking, and innovation! Discover the latest trends in the fruit, flower, vegetable, and produce market at The Produce Fresh International.\n",
      "From farm to table! The Produce Fresh International is the perfect platform to connect producers and consumers.\n",
      "Kitchen inspiration! Discover new ideas and recipes with fresh products from The Produce Fresh International.\n",
      "Keeping up with trends and driving growth in the fruit, flower, vegetable, and produce market.\n",
      "Connections that flourish! At The Produce Fresh International, strategic partnerships and new business opportunities come to life.\n",
      "Numbers that inspire! The Produce Fresh International brings together key players in the market to discuss the latest trends and drive growth.\n",
      "Your key to success! Accredited and granting access to all areas of The Produce Fresh International, including lectures, exhibitions, and networking.\n",
      "Fresh food for all! The IFPA supports the distribution of fresh food to individuals facing food insecurity.\n",
      "Inspiring voices! Lectures and workshops to expand knowledge and connect with industry leaders.\n",
      "Technology and sustainability side by side! The Produce Fresh International is the perfect stage for innovation and business.\n",
      "Take your business to new heights in the fruit, flower, vegetable, and produce market! At The Produce Fresh International, opportunities are just a step away.\n",
      "Building connections and business opportunities at The Produce Fresh International.\n",
      "Wednesday, August 6, 2025\n",
      "8:00 AM - 9:15 AM\n",
      "Networking Breakfast\n",
      "9:15 AM - 9:30 AM\n",
      "Welcome\n",
      "9:30 AM - 10:20 AM\n",
      "State of the Industry – Brazil\n",
      "Join us for this session to hear from IFPA’s CEO, Cathy Burns, as she shares the latest global information, research, and what it means to IFPA members in Brazil.\n",
      "Speaker\n",
      "Cathy BurnsCEOInternational Fresh Produce Association\n",
      "10:20 AM - 11:10 AM\n",
      "Education Session\n",
      "11:10 AM - 11:20 AM\n",
      "Day 1 Closing Remarks\n",
      "11:30 AM - 7:00 PM\n",
      "Expo Open\n",
      "Thursday, August 7, 2025\n",
      "8:00 AM - 9:15 AM\n",
      "Networking Breakfast\n",
      "9:15 AM - 9:30 AM\n",
      "Welcome\n",
      "9:30 AM - 10:20 AM\n",
      "Education Session\n",
      "10:20 AM - 11:10 AM\n",
      "Agriculture as Climate Solution: Insights from COP30 and Brazil's Sustainability Leadership\n",
      "As the global conversation around climate action intensifies, the agricultural sector is stepping up not only as a stakeholder—but as a critical part of the solution. This session will include key takeaways from the recent United Nations COP30 event and explore how these developments intersect with Brazil’s unique environmental landscape.\n",
      "Panelists will examine Brazil’s growing leadership in sustainable agriculture, the implications of COP30 for global and local produce industries, and how IFPA members can stay ahead of policy, market, and environmental shifts. The discussion will reinforce the powerful narrative that agriculture—particularly in Brazil—is not the cause of climate change, but a vital tool to combat it. Don’t miss this opportunity to align your business with the future of sustainability and climate-smart agriculture.\n",
      "Moderator\n",
      "Jessica KellerVice President, Global Industry RelationsInternational Fresh Produce Associations\n",
      "Panelist\n",
      "Tamara MuruetagoienaVice President, SustainabilityInternational Fresh Produce Association\n",
      "11:10 AM - 11:20 AM\n",
      "Day 2 Closing Remarks\n",
      "11:30 AM - 7:00 PM\n",
      "Expo Open\n",
      "Event Location\n",
      "Expo Center Norte\n",
      "Rua José Bernardo Pinto, 333 - Vila Guilherme,São Paulo - SP, 02055-000, Brazil\n",
      "Thank You to Our 2025 Sponsors\n",
      "See All Sponsors\n",
      "Get involved\n",
      "Inquire about sponsorship information\n",
      "Valeska de Oliveira\n",
      "Brazil Representative\n",
      "+55 11 3522 7348\n",
      "Email Valeska de Oliveira\n",
      "Valerie Mendoza\n",
      "Events Manager\n",
      "+1(302)607-2132\n",
      "Email Valerie Mendoza\n"
     ]
    }
   ],
   "source": [
    "print(clean_text_final)  # Imprimir el texto limpio"
   ]
  },
  {
   "cell_type": "markdown",
   "id": "a5278e91",
   "metadata": {},
   "source": [
    "Hacemos una función que al recibir un pandas, extraiga la información del contentpage de cada URL y a su vez el título de la página"
   ]
  },
  {
   "cell_type": "code",
   "execution_count": 25,
   "id": "ffcf6728",
   "metadata": {},
   "outputs": [],
   "source": [
    "def copy_df_and_add_title_and_text_from_URL(dataframe):\n",
    "    # Extrae el texto de la columna 'URL' del DataFrame y lo coloca en una nueva columna 'Text'\n",
    "    dataframe_result = dataframe.copy()  # Hacer una copia del DataFrame original para evitar modificarlo directamente\n",
    "    dataframe_result['Title'] = None  # Crear una nueva columna 'Title' con valores nulos\n",
    "    dataframe_result['FullArticleText'] = None  # Crear una nueva columna 'Topics' con valores nulos\n",
    "    \n",
    "    for i in range(len(dataframe_result)):\n",
    "        URL, Category = dataframe_result.iloc[i][['URL', 'Category']]  # Acceder a cada fila por índice\n",
    "        print(f\"Extrayendo texto de la URL: {URL}, Categoría: {Category}\")\n",
    "        id_a_extraer = 'pageContent'  # ID del elemento HTML que contiene el texto\n",
    "        Extraccion_HTML_dinamico_todo_el_contenido = scrape_website_with_dynamic_content(URL, classes_to_wait=[id_a_extraer], ID_OR_CLASS='ID')\n",
    "        title_page = Extraccion_HTML_dinamico_todo_el_contenido.find('h1')  # Buscar el título de la página\n",
    "        if title_page:\n",
    "            dataframe_result.at[i, 'Title'] = title_page.text.strip()  # Asignar el título a una nueva columna 'Title'\n",
    "        else:\n",
    "            print(f\"No se encontró el título en la URL: {URL}\")\n",
    "            dataframe_result.at[i, 'Title'] = None\n",
    "        all_content_page = Extraccion_HTML_dinamico_todo_el_contenido.find(id=id_a_extraer)  # Buscar el contenido principal de la página\n",
    "        if all_content_page:\n",
    "            cleaned_text = clean_text(all_content_page.text)\n",
    "            dataframe_result.at[i, 'FullArticleText'] = cleaned_text  # Asignar el texto limpio a la nueva columna\n",
    "        else:\n",
    "            print(f\"No se encontró el contenido principal en la URL: {URL}\")\n",
    "            dataframe_result.at[i, 'FullArticleText'] = None\n",
    "    dataframe_result = dataframe_result[['Title', 'URL', 'Category', 'FullArticleText']]  # Reordenar las columnas del DataFrame\n",
    "    return dataframe_result  # Devolver el DataFrame con la nueva columna 'Text' que contiene el texto extraído de las URLs"
   ]
  },
  {
   "cell_type": "code",
   "execution_count": 26,
   "id": "4402cdf2",
   "metadata": {},
   "outputs": [
    {
     "name": "stdout",
     "output_type": "stream",
     "text": [
      "Extrayendo texto de la URL: https://www.freshproduce.com/events/the-brazil-conference/, Categoría: Global Trade\n",
      "Extrayendo texto de la URL: https://www.freshproduce.com/resources/consumer-trends/americans-and-sustainability/, Categoría: Global Trade\n",
      "Extrayendo texto de la URL: https://www.freshproduce.com/events/the-mexico-conference/, Categoría: Global Trade\n",
      "Extrayendo texto de la URL: https://www.freshproduce.com/resources/advocacy/trumps-first-100-days/, Categoría: Global Trade\n",
      "Extrayendo texto de la URL: https://www.freshproduce.com/resources/global-trade/tariff-resources/, Categoría: Global Trade\n",
      "Extrayendo texto de la URL: https://www.freshproduce.com/resources/Commodities/international-retail-point-of-sale-data/, Categoría: Global Trade\n",
      "Extrayendo texto de la URL: https://www.freshproduce.com/resources/supply-chain-management/global-market-access/, Categoría: Global Trade\n",
      "Extrayendo texto de la URL: https://www.freshproduce.com/resources/global-trade/mexico-exports-to-us/, Categoría: Global Trade\n",
      "Extrayendo texto de la URL: https://www.freshproduce.com/resources/Commodities/global-table-grape-shipment-data/, Categoría: Global Trade\n",
      "Extrayendo texto de la URL: https://www.freshproduce.com/resources/technology/takes-on-tech-podcast/episode-118-behind-the-scenes-of-produce-policy/, Categoría: Technology\n",
      "Extrayendo texto de la URL: https://www.freshproduce.com/resources/technology/takes-on-tech-podcast/episode-117-the-future-of-agtech/, Categoría: Technology\n",
      "Extrayendo texto de la URL: https://www.freshproduce.com/resources/technology/takes-on-tech-podcast/episode-116-innovating-produce-supply-chains/, Categoría: Technology\n",
      "Extrayendo texto de la URL: https://www.freshproduce.com/resources/technology/takes-on-tech-podcast/episode-115advancing-fresh-produce-preservation/, Categoría: Technology\n",
      "Extrayendo texto de la URL: https://www.freshproduce.com/resources/technology/takes-on-tech-podcast/episode-113-transforming-pest-control-and-pollination-practices/, Categoría: Technology\n",
      "Extrayendo texto de la URL: https://www.freshproduce.com/resources/technology/takes-on-tech-podcast/episode-112-environmental-footprint/, Categoría: Technology\n",
      "Extrayendo texto de la URL: https://www.freshproduce.com/resources/technology/ai-in-the-fresh-produce-industry/, Categoría: Technology\n",
      "Extrayendo texto de la URL: https://www.freshproduce.com/resources/retail/roots-to-retail-webinar/, Categoría: Technology\n",
      "Extrayendo texto de la URL: https://www.freshproduce.com/resources/technology/takes-on-tech-podcast/episode-101-sustainable-agriculture-strategies/, Categoría: Technology\n",
      "Extrayendo texto de la URL: https://www.freshproduce.com/resources/food-safety/risk-scoring-for-produce/, Categoría: Food Safety\n",
      "Extrayendo texto de la URL: https://www.freshproduce.com/resources/consumer-trends/americans-and-sustainability/, Categoría: Food Safety\n",
      "Extrayendo texto de la URL: https://www.freshproduce.com/resources/food-safety/pfas-in-specialty-crop-production/, Categoría: Food Safety\n",
      "Extrayendo texto de la URL: https://www.freshproduce.com/resources/consumer-trends/purchasing-behavior/, Categoría: Food Safety\n",
      "Extrayendo texto de la URL: https://www.freshproduce.com/resources/food-safety/microplastics-and-nanoplastics-in-specialty-crop-production/, Categoría: Food Safety\n",
      "Extrayendo texto de la URL: https://www.freshproduce.com/resources/consumer-trends/americans-and-the-grocery-store/, Categoría: Food Safety\n",
      "Extrayendo texto de la URL: https://www.freshproduce.com/resources/consumer-trends/eating-behavior/, Categoría: Food Safety\n",
      "Extrayendo texto de la URL: https://www.freshproduce.com/resources/consumer-trends/healthy-eating-behavior/, Categoría: Food Safety\n",
      "Extrayendo texto de la URL: https://www.freshproduce.com/resources/food-safety/evaluacion-de-riesgos-en-productos-frescos/, Categoría: Food Safety\n"
     ]
    }
   ],
   "source": [
    "dataframe_nuevo = copy_df_and_add_title_and_text_from_URL(df_subdominios)  # Llamar a la función para extraer el texto de las URLs y crear un nuevo DataFrame"
   ]
  },
  {
   "cell_type": "code",
   "execution_count": 27,
   "id": "0ae41358",
   "metadata": {},
   "outputs": [
    {
     "name": "stdout",
     "output_type": "stream",
     "text": [
      "Datos extraídos y guardados en 'scraped_data.csv'.\n"
     ]
    }
   ],
   "source": [
    "dataframe_nuevo.to_csv(\"scraped_data.csv\", index=False)  # Guardar el DataFrame en un archivo CSV\n",
    "print(\"Datos extraídos y guardados en 'scraped_data.csv'.\")"
   ]
  },
  {
   "cell_type": "code",
   "execution_count": 28,
   "id": "7b47ae9e",
   "metadata": {},
   "outputs": [
    {
     "name": "stdout",
     "output_type": "stream",
     "text": [
      "                                    Title  \\\n",
      "count                                  27   \n",
      "unique                                 26   \n",
      "top     Americans & Sustainable Practices   \n",
      "freq                                    2   \n",
      "\n",
      "                                                      URL      Category  \\\n",
      "count                                                  27            27   \n",
      "unique                                                 26             3   \n",
      "top     https://www.freshproduce.com/resources/consume...  Global Trade   \n",
      "freq                                                    2             9   \n",
      "\n",
      "                                          FullArticleText  \n",
      "count                                                  27  \n",
      "unique                                                 26  \n",
      "top     Consumer Trends\\nAmericans & Sustainable Pract...  \n",
      "freq                                                    2  \n"
     ]
    }
   ],
   "source": [
    "print(dataframe_nuevo.describe())"
   ]
  },
  {
   "cell_type": "markdown",
   "id": "563cae9b",
   "metadata": {},
   "source": [
    "## AI-Powered Analysis & Enrichment"
   ]
  },
  {
   "cell_type": "markdown",
   "id": "de689265",
   "metadata": {},
   "source": [
    "En este apartado usaremos una LLM, mediante una interface API"
   ]
  },
  {
   "cell_type": "markdown",
   "id": "f7821d39",
   "metadata": {},
   "source": [
    "### Carga de datos del proceso anterior"
   ]
  },
  {
   "cell_type": "code",
   "execution_count": 14,
   "id": "94fa50fa",
   "metadata": {},
   "outputs": [
    {
     "data": {
      "text/html": [
       "<div>\n",
       "<style scoped>\n",
       "    .dataframe tbody tr th:only-of-type {\n",
       "        vertical-align: middle;\n",
       "    }\n",
       "\n",
       "    .dataframe tbody tr th {\n",
       "        vertical-align: top;\n",
       "    }\n",
       "\n",
       "    .dataframe thead th {\n",
       "        text-align: right;\n",
       "    }\n",
       "</style>\n",
       "<table border=\"1\" class=\"dataframe\">\n",
       "  <thead>\n",
       "    <tr style=\"text-align: right;\">\n",
       "      <th></th>\n",
       "      <th>Title</th>\n",
       "      <th>URL</th>\n",
       "      <th>Category</th>\n",
       "      <th>FullArticleText</th>\n",
       "    </tr>\n",
       "  </thead>\n",
       "  <tbody>\n",
       "    <tr>\n",
       "      <th>0</th>\n",
       "      <td>The Brazil Conference</td>\n",
       "      <td>https://www.freshproduce.com/events/the-brazil...</td>\n",
       "      <td>Global Trade</td>\n",
       "      <td>August 6-7, 2025 | São Paulo, Brazil\\nThe Braz...</td>\n",
       "    </tr>\n",
       "    <tr>\n",
       "      <th>1</th>\n",
       "      <td>Americans &amp; Sustainable Practices</td>\n",
       "      <td>https://www.freshproduce.com/resources/consume...</td>\n",
       "      <td>Global Trade</td>\n",
       "      <td>Consumer Trends\\nAmericans &amp; Sustainable Pract...</td>\n",
       "    </tr>\n",
       "    <tr>\n",
       "      <th>2</th>\n",
       "      <td>The Mexico Conference</td>\n",
       "      <td>https://www.freshproduce.com/events/the-mexico...</td>\n",
       "      <td>Global Trade</td>\n",
       "      <td>May 14-15, 2025 | Guadalajara, Mexico\\nThe Mex...</td>\n",
       "    </tr>\n",
       "    <tr>\n",
       "      <th>3</th>\n",
       "      <td>Trump’s First 100 Days</td>\n",
       "      <td>https://www.freshproduce.com/resources/advocac...</td>\n",
       "      <td>Global Trade</td>\n",
       "      <td>Webinar\\nTrump’s First 100 Days\\nWhat It Means...</td>\n",
       "    </tr>\n",
       "    <tr>\n",
       "      <th>4</th>\n",
       "      <td>Tariff Resources</td>\n",
       "      <td>https://www.freshproduce.com/resources/global-...</td>\n",
       "      <td>Global Trade</td>\n",
       "      <td>Global Trade\\nTariff Resources\\nImpact of Tari...</td>\n",
       "    </tr>\n",
       "  </tbody>\n",
       "</table>\n",
       "</div>"
      ],
      "text/plain": [
       "                               Title  \\\n",
       "0              The Brazil Conference   \n",
       "1  Americans & Sustainable Practices   \n",
       "2              The Mexico Conference   \n",
       "3             Trump’s First 100 Days   \n",
       "4                   Tariff Resources   \n",
       "\n",
       "                                                 URL      Category  \\\n",
       "0  https://www.freshproduce.com/events/the-brazil...  Global Trade   \n",
       "1  https://www.freshproduce.com/resources/consume...  Global Trade   \n",
       "2  https://www.freshproduce.com/events/the-mexico...  Global Trade   \n",
       "3  https://www.freshproduce.com/resources/advocac...  Global Trade   \n",
       "4  https://www.freshproduce.com/resources/global-...  Global Trade   \n",
       "\n",
       "                                     FullArticleText  \n",
       "0  August 6-7, 2025 | São Paulo, Brazil\\nThe Braz...  \n",
       "1  Consumer Trends\\nAmericans & Sustainable Pract...  \n",
       "2  May 14-15, 2025 | Guadalajara, Mexico\\nThe Mex...  \n",
       "3  Webinar\\nTrump’s First 100 Days\\nWhat It Means...  \n",
       "4  Global Trade\\nTariff Resources\\nImpact of Tari...  "
      ]
     },
     "execution_count": 14,
     "metadata": {},
     "output_type": "execute_result"
    }
   ],
   "source": [
    "import pandas as pd\n",
    "df_scraped_data = pd.read_csv(\"scraped_data.csv\")  # Cargar el DataFrame desde el archivo CSV\n",
    "(df_scraped_data.head())  # Mostrar las primeras filas del DataFrame"
   ]
  },
  {
   "cell_type": "markdown",
   "id": "d86bfeb2",
   "metadata": {},
   "source": [
    "### Descarga del modelo LLM\n",
    "\n",
    "Al correr la red docker-compose, se corre un contenedor con Ollama. Se puede acceder a modelos LLM descargados desde un repositorio de LLM (https://ollama.com/search) y mediante su apartado de API (https://github.com/ollama/ollama/blob/main/docs/api.md) podemos descargar el modelo y/o hacer peticiones mediante prompts"
   ]
  },
  {
   "cell_type": "code",
   "execution_count": 15,
   "id": "b3a439cc",
   "metadata": {},
   "outputs": [
    {
     "name": "stdout",
     "output_type": "stream",
     "text": [
      "URL de Ollama: http://localhost:11434\n"
     ]
    }
   ],
   "source": [
    "import json\n",
    "import requests\n",
    "from dotenv import load_dotenv\n",
    "import os\n",
    "load_dotenv()\n",
    "\n",
    "URL_OLLAMA = os.getenv(\"URL_OLLAMA\") #Cargamos un archivo .env con la URL de Ollama\n",
    "print(f\"URL de Ollama: {URL_OLLAMA}\")"
   ]
  },
  {
   "cell_type": "markdown",
   "id": "9d1829cb",
   "metadata": {},
   "source": [
    "Descargamos el modelo con la siguiente función."
   ]
  },
  {
   "cell_type": "code",
   "execution_count": 16,
   "id": "1ad1ca98",
   "metadata": {},
   "outputs": [],
   "source": [
    "def pull(model):\n",
    "    #URL por defecto para descargas de modelos LLM\n",
    "    url = f'{URL_OLLAMA}/api/pull'\n",
    "    # Comprobar que los valores obligatorios están presentes\n",
    "    response_data = {\n",
    "        \"model\": model,\n",
    "        \"stream\": False #Evita usar streaming. Que no mande la información en partes y la mande en su lugar todo en conjunto\n",
    "    }\n",
    "    try:\n",
    "        #Usa POST para enviar los datos al servidor\n",
    "        response = requests.post(url, json=response_data)\n",
    "        if response.status_code == 200:\n",
    "            return response.json(), 200\n",
    "        else:\n",
    "            print(\"Error:\", response.status_code, response.text)\n",
    "            return {\"error\": f\"Error {response.status_code}: {response.text}\"}, response.status_code\n",
    "    except requests.exceptions.RequestException as e:\n",
    "        print(\"An error occurred:\", e)\n",
    "        return {\"error\": f\"An error occurred: {e}\"}, 500"
   ]
  },
  {
   "cell_type": "markdown",
   "id": "dd392430",
   "metadata": {},
   "source": [
    "Descargamos el modelo Llama3.2"
   ]
  },
  {
   "cell_type": "code",
   "execution_count": 17,
   "id": "d21de923",
   "metadata": {},
   "outputs": [
    {
     "name": "stdout",
     "output_type": "stream",
     "text": [
      "({'status': 'success'}, 200)\n"
     ]
    }
   ],
   "source": [
    "model_pull = \"llama3.2\"\n",
    "\n",
    "response = pull(model_pull)\n",
    "print(response)"
   ]
  },
  {
   "cell_type": "markdown",
   "id": "2ff02e9e",
   "metadata": {},
   "source": [
    "### Envío de promps a una LLM local mediante Ollama y su API\n",
    "\n",
    "Ollama ofrece una interfaz que permite hacer consultas a una LLM descargada, esto mediante bibliotecas como ollama-python, o mediante su API. Para este ejercicio usaremos la API de Ollama"
   ]
  },
  {
   "cell_type": "markdown",
   "id": "c0f13e78",
   "metadata": {},
   "source": [
    "Mediante esta función podemos realizar consultas a un modelo LLM local.\n",
    "- El modelo LLM debe de estar previamente descargado mediante el paso \"Descarga del modelo LLM\"\n",
    "- Se puede usar un formato JSON schema que el modelo puede entregar como respuesta\n",
    "- se puede mantener vivo por X cantidad de minutos mediante keep_alive (-1 es por siempre, y 0 detiene la LLM en memoria)"
   ]
  },
  {
   "cell_type": "code",
   "execution_count": 18,
   "id": "b01fd990",
   "metadata": {},
   "outputs": [],
   "source": [
    "def generate(model,prompt = None, format = None, keep_alive = None):\n",
    "    url = f'{URL_OLLAMA}/api/generate'\n",
    "    # Comprobar que los valores obligatorios están presentes\n",
    "    response_data = {\n",
    "        \"model\": model,\n",
    "        \"stream\": False #Evita usar streaming. Que no mande la información en partes y la mande en su lugar todo en conjunto\n",
    "    }\n",
    "    #Corroborar los valores opcionales y los añade en dado caso de existir\n",
    "    if prompt:\n",
    "        response_data[\"prompt\"] = prompt\n",
    "    if format:\n",
    "        response_data[\"format\"] = format\n",
    "    if keep_alive:\n",
    "        response_data[\"keep_alive\"] = keep_alive\n",
    "    try:\n",
    "        response = requests.post(url, json=response_data)\n",
    "        if response.status_code == 200:\n",
    "            return response.json()['response'], 200 #Devolver código HTTP junto a la respuesta del modelo\n",
    "        else:\n",
    "            print(\"Error:\", response.status_code, response.text)\n",
    "            return {\"error\": f\"Error {response.status_code}: {response.text}\"}, response.status_code # Devolver error si la solicitud no fue exitosa junto con el código HTTP correspondiente\n",
    "    except requests.exceptions.RequestException as e:\n",
    "        print(\"An error occurred:\", e)\n",
    "        return {\"error\": f\"An error occurred: {e}\"}, 500 # Devolver error si ocurre un problema con la solicitud HTTP junto con el código HTTP 500"
   ]
  },
  {
   "cell_type": "markdown",
   "id": "cbc0eed9",
   "metadata": {},
   "source": [
    "### Rubricas en Ollama\n",
    "Ollama acepta rúbricas del tipo JSON schema, por lo tanto usaremos la siguiente rúbrica para el topic extraction:"
   ]
  },
  {
   "cell_type": "code",
   "execution_count": 19,
   "id": "8fff2b1b",
   "metadata": {},
   "outputs": [
    {
     "data": {
      "text/plain": [
       "'\\nRespuesta entregada de ejemplo: {\\n\\n  \"response\": [\\n    \"The Brazil Conference & Expo\",\\n    \"International Fresh Produce Association\",\\n    \"COP30\",\\n    \"Brazil Sustainability Leadership\"\\n  ]\\n}\\n   \\nCodigo de respuesta: 200\\n'"
      ]
     },
     "execution_count": 19,
     "metadata": {},
     "output_type": "execute_result"
    }
   ],
   "source": [
    "format = {\n",
    "    \"type\": \"object\",\n",
    "    \"properties\": {\n",
    "      \"response\": {\n",
    "        \"type\": \"array\",\n",
    "        \"minItems\": 3,\n",
    "        \"maxItems\": 5,\n",
    "        \"items\": {\n",
    "          \"type\": \"string\"\n",
    "        }\n",
    "      }\n",
    "    },\n",
    "    \"required\": [\n",
    "      \"response\"\n",
    "    ]\n",
    "  }\n",
    "\n",
    "\"\"\"\n",
    "Respuesta entregada de ejemplo: {\n",
    "\n",
    "  \"response\": [\n",
    "    \"The Brazil Conference & Expo\",\n",
    "    \"International Fresh Produce Association\",\n",
    "    \"COP30\",\n",
    "    \"Brazil Sustainability Leadership\"\n",
    "  ]\n",
    "}\n",
    "   \n",
    "Codigo de respuesta: 200\n",
    "\"\"\""
   ]
  },
  {
   "cell_type": "markdown",
   "id": "3545cb68",
   "metadata": {},
   "source": [
    "### Prompt para el modelo.\n",
    "\n",
    "En este apartado se hace la propuesta de prompt para los dos incisos descritos en el documento"
   ]
  },
  {
   "cell_type": "markdown",
   "id": "50d87060",
   "metadata": {},
   "source": [
    "#### Primer inciso"
   ]
  },
  {
   "cell_type": "markdown",
   "id": "a896c572",
   "metadata": {},
   "source": [
    "Realizamos el prompt para el primer inciso:\n",
    "\n",
    "*Summarization: Generate a concise, one-sentence summary of the article's main point.*"
   ]
  },
  {
   "cell_type": "markdown",
   "id": "8c443f6a",
   "metadata": {},
   "source": [
    "- Propuesta: This is a article about the category **VAR_CATEGORY** with the title '**VAR_TITLE**'.\n",
    "Generate a concise, one-sentence summary of the article's main point.\n",
    "The article is as follows:\n",
    "**VAR_FULL_ARTICLE_TEXT**"
   ]
  },
  {
   "cell_type": "code",
   "execution_count": 20,
   "id": "05450e1c",
   "metadata": {},
   "outputs": [],
   "source": [
    "category_example_1 = \"Global Trade\"  # Categoría del artículo\n",
    "title_example_1 = \"The Brazil Conference & Expo\"  # Título del artículo\n",
    "full_article_text_example_1 = \"\"\"\n",
    "\"This is an article about brazil\"\n",
    "\"\"\"\n",
    "prompt_first_example= f\"\"\"\n",
    "This is a article about the category {category_example_1} with the title '{title_example_1}'.\n",
    "Generate a concise, one-sentence summary of the article's main point.\n",
    "The article is as follows:\n",
    "{full_article_text_example_1} \n",
    "    \"\"\""
   ]
  },
  {
   "cell_type": "markdown",
   "id": "1b6cbb04",
   "metadata": {},
   "source": [
    "#### Segundo inciso"
   ]
  },
  {
   "cell_type": "markdown",
   "id": "9b4e7572",
   "metadata": {},
   "source": [
    "Realizamos el prompt para el segundo inciso:\n",
    "\n",
    "*Topic Extraction: Identify and list 3-5 primary topics or keywords from the text (e.g., [\"Avocado Trade\", \"Supply Chain\", \"AI in Agriculture\", \"Foodborne Illness\"]).*"
   ]
  },
  {
   "cell_type": "markdown",
   "id": "8f30d623",
   "metadata": {},
   "source": [
    "- Propuesta: This is a article about the category **VAR_CATEGORY** with the title '**VAR_TITLE**'.\n",
    "Identify and list 3-5 primary topics or keywords from the text.\n",
    "RESPOND USING A JSON FORMAT.\n",
    "The article is as follows:\n",
    "**VAR_FULL_ARTICLE_TEXT**"
   ]
  },
  {
   "cell_type": "markdown",
   "id": "d527e422",
   "metadata": {},
   "source": [
    "Para la rúbrica utilizaremos structured outputs de Ollama (https://ollama.com/blog/structured-outputs)\n",
    "\n",
    "Utilizaremos la siguiente rúbrica para dar un resultado similar a este: [\"Avocado Trade\", \"Supply Chain\", \"AI in Agriculture\", \"Foodborne Illness\"]"
   ]
  },
  {
   "cell_type": "code",
   "execution_count": 21,
   "id": "01bd8338",
   "metadata": {},
   "outputs": [],
   "source": [
    "category_example_2 = \"Global Trade\"  # Categoría del artículo\n",
    "title_example_2 = \"The Brazil Conference & Expo\"  # Título del artículo\n",
    "full_article_text_example_2 = \"\"\"\n",
    "\"This is an article about brazil\"\n",
    "\"\"\"\n",
    "prompt_first_example= f\"\"\"\n",
    "This is a article about the category {category_example_1} with the title '{title_example_1}'.\n",
    "Identify and list 3-5 primary topics or keywords from the text.\n",
    "RESPOND USING A JSON FORMAT.\n",
    "The article is as follows:\n",
    "{full_article_text_example_1} \n",
    "\"\"\"\n",
    "\n",
    "format_a_usar = {\n",
    "    \"type\": \"object\",\n",
    "    \"properties\": {\n",
    "      \"response\": {\n",
    "        \"type\": \"array\",\n",
    "        \"minItems\": 3, #Numero de elementos mínimo a devolver\n",
    "        \"maxItems\": 5, #Numero de elementos máximo a devolver\n",
    "        \"items\": {\n",
    "          \"type\": \"string\"\n",
    "        }\n",
    "      }\n",
    "    },\n",
    "    \"required\": [\n",
    "      \"response\"\n",
    "    ]\n",
    "  }\n",
    "\n",
    "  # Formato a usar para la respuesta del modelo, visto en el apartado de rubricas en Ollama"
   ]
  },
  {
   "cell_type": "markdown",
   "id": "752361fc",
   "metadata": {},
   "source": [
    "La razón de un JSON en lugar de un arreglo es porque es un formato más controlado que Ollama nos ofrece, y que tiene más robustés de ofrecernos sin que ofrezca resultados extraños.\n",
    "\n",
    "Para acceder al resultado deseado, solo es cuestión de acceder al valor del JSON response"
   ]
  },
  {
   "cell_type": "markdown",
   "id": "fcc9f5d7",
   "metadata": {},
   "source": [
    "### Consultas con la información en el Dataframe\n",
    "Se realiza una función que automatice los pasos anteriores, para añadir la respectiva respuesta a una columna *Summary* y a una columna *Topics* del dataframe obtenido en webScrapping"
   ]
  },
  {
   "cell_type": "markdown",
   "id": "9884baae",
   "metadata": {},
   "source": [
    "Para la función automatizada realizamos los siguientes pasos:\n",
    "1. Copia del Dataframe (para no alterar el original)\n",
    "2. Añadido columna \"Summary\" y \"Topics\" con valores None\n",
    "3. Ciclo for para pasar todos los elementos\n",
    "4. Cada elemento hace una consulta para la primera y segunda petición\n",
    "5. Si ambas dan código 200 y pasan, se guardan en el dataframe copia\n",
    "6. Si algo da error, se guarda como None"
   ]
  },
  {
   "cell_type": "code",
   "execution_count": 22,
   "id": "612f2718",
   "metadata": {},
   "outputs": [],
   "source": [
    "def generate_summary_and_topics_with_llm(dataframe, modelo=\"llama3.2\", format=None):\n",
    "    if format is None: #Formato por defecto si no se especifica\n",
    "        format = {\n",
    "    \"type\": \"object\",\n",
    "    \"properties\": {\n",
    "      \"response\": {\n",
    "        \"type\": \"array\",\n",
    "        \"minItems\": 3,\n",
    "        \"maxItems\": 5,\n",
    "        \"items\": {\n",
    "          \"type\": \"string\"\n",
    "        }\n",
    "      }\n",
    "    },\n",
    "    \"required\": [\n",
    "      \"response\"\n",
    "    ]\n",
    "  }\n",
    "    dataframe_with_llm_responses = dataframe.copy()  # Hacer una copia del DataFrame original para evitar modificarlo directamente\n",
    "    dataframe_with_llm_responses['Summary'] = None  # Crear una nueva columna 'Summary' para almacenar las respuestas del LLM\n",
    "    dataframe_with_llm_responses['Topics'] = None  # Crear una nueva columna 'Topics' para almacenar las respuestas del LLM\n",
    "    for i in range(len(dataframe_with_llm_responses)):\n",
    "        title = dataframe_with_llm_responses.iloc[i]['Title']  # Obtener el título de la fila actual\n",
    "        url = dataframe_with_llm_responses.iloc[i]['URL']  # Obtener la URL de la fila actual\n",
    "        category = dataframe_with_llm_responses.iloc[i]['Category']\n",
    "        full_article_text = dataframe_with_llm_responses.iloc[i]['FullArticleText']\n",
    "        print(f\"Article Number {i + 1} of {len(dataframe_with_llm_responses)}\")\n",
    "\n",
    "        prompt_first= f\"\"\"\n",
    "    This is a article about the category {category} with the title '{title}'.\n",
    "    Generate a concise, one-sentence summary of the article's main point.\n",
    "    The article is as follows:\n",
    "    {full_article_text} \n",
    "        \"\"\"\n",
    "\n",
    "        prompt_second = f\"\"\"\n",
    "    This is a article about the category {category} with the title '{title}'.\n",
    "    Identify and list 3-5 primary topics or keywords from the text.\n",
    "    RESPOND USING A JSON FORMAT.\n",
    "    The article is as follows:\n",
    "    {full_article_text}\n",
    "        \"\"\"\n",
    "        #\"\"\"\n",
    "        \n",
    "        response_first, code = generate(modelo, prompt=prompt_first, format=None, keep_alive=False)\n",
    "        if code == 200:\n",
    "            dataframe_with_llm_responses.at[i, 'Summary'] = response_first  # Asignar None si hay error\n",
    "        else:\n",
    "            print(\"Error al generar la respuesta del LLM para la primera solicitud. URL:\", url)\n",
    "            dataframe_with_llm_responses.at[i, 'Summary'] = None  # Asignar la respuesta del LLM a la columna 'Summary'\n",
    "        #\"\"\"\n",
    "        response_second, code = generate(modelo, prompt=prompt_second, format=format, keep_alive=False)\n",
    "        if code == 200:\n",
    "            response_second_in_json = json.loads(response_second)  # Convertir la respuesta a JSON\n",
    "            response_second_just_response = response_second_in_json['response']  # Extraer el campo 'response' del JSON\n",
    "            dataframe_with_llm_responses.at[i, 'Topics'] = response_second_just_response  # Asignar None si hay error\n",
    "        else:\n",
    "            print(\"Error al generar la respuesta del LLM para la segunda solicitud. URL: \",url)\n",
    "            dataframe_with_llm_responses.at[i, 'Topics'] = None  # Asignar la respuesta del LLM a la columna 'Topics'\n",
    "    return dataframe_with_llm_responses  # Devolver el DataFrame con las nuevas columnas 'Summary' y 'Topics'\n",
    "\n"
   ]
  },
  {
   "cell_type": "code",
   "execution_count": 23,
   "id": "51d8a6f5",
   "metadata": {},
   "outputs": [
    {
     "name": "stdout",
     "output_type": "stream",
     "text": [
      "Article Number 1 of 27\n",
      "Article Number 2 of 27\n",
      "Article Number 3 of 27\n",
      "Article Number 4 of 27\n",
      "Article Number 5 of 27\n",
      "Article Number 6 of 27\n",
      "Article Number 7 of 27\n",
      "Article Number 8 of 27\n",
      "Article Number 9 of 27\n",
      "Article Number 10 of 27\n",
      "Article Number 11 of 27\n",
      "Article Number 12 of 27\n",
      "Article Number 13 of 27\n",
      "Article Number 14 of 27\n",
      "Article Number 15 of 27\n",
      "Article Number 16 of 27\n",
      "Article Number 17 of 27\n",
      "Article Number 18 of 27\n",
      "Article Number 19 of 27\n",
      "Article Number 20 of 27\n",
      "Article Number 21 of 27\n",
      "Article Number 22 of 27\n",
      "Article Number 23 of 27\n",
      "Article Number 24 of 27\n",
      "Article Number 25 of 27\n",
      "Article Number 26 of 27\n",
      "Article Number 27 of 27\n"
     ]
    }
   ],
   "source": [
    "modelo = \"llama3.2\"  # Modelo LLM a usar\n",
    "dataframe_a_usar = df_scraped_data  # DataFrame con los artículos a procesar\n",
    "formato = format = {\n",
    "    \"type\": \"object\",\n",
    "    \"properties\": {\n",
    "      \"response\": {\n",
    "        \"type\": \"array\",\n",
    "        \"minItems\": 3,\n",
    "        \"maxItems\": 5,\n",
    "        \"items\": {\n",
    "          \"type\": \"string\"\n",
    "        }\n",
    "      }\n",
    "    },\n",
    "    \"required\": [\n",
    "      \"response\"\n",
    "    ]\n",
    "  }\n",
    "dataframe_with_llm_responses = generate_summary_and_topics_with_llm(dataframe_a_usar, modelo=modelo, format=formato)  # Llamar a la función para generar las respuestas del LLM"
   ]
  },
  {
   "cell_type": "code",
   "execution_count": 34,
   "id": "0efb9a89",
   "metadata": {},
   "outputs": [
    {
     "name": "stdout",
     "output_type": "stream",
     "text": [
      "The Brazil Conference is a major event in the global trade of fresh produce, where industry leaders and buyers gather to network, innovate, and stay informed on market trends and sustainability.\n",
      "['Global Trade', 'Brazil Conference', 'Fresh Produce Supply Chain']\n"
     ]
    }
   ],
   "source": [
    "print(dataframe_with_llm_responses.Summary[0])\n",
    "print(dataframe_with_llm_responses.Topics[0])"
   ]
  },
  {
   "cell_type": "code",
   "execution_count": 35,
   "id": "c80ed20a",
   "metadata": {},
   "outputs": [],
   "source": [
    "dataframe_with_llm_responses.to_csv(\"analysis_summary.csv\", index=False)  # Guardar el DataFrame en un archivo CSV"
   ]
  },
  {
   "cell_type": "markdown",
   "id": "e32484b9",
   "metadata": {},
   "source": [
    "### Verificación de valores No None en el csv final\n",
    "Cargamos el CSV para verificar valores null"
   ]
  },
  {
   "cell_type": "code",
   "execution_count": 36,
   "id": "acd215e3",
   "metadata": {},
   "outputs": [
    {
     "name": "stdout",
     "output_type": "stream",
     "text": [
      "Empty DataFrame\n",
      "Columns: [Title, URL, Category, FullArticleText, Summary, Topics]\n",
      "Index: []\n",
      "\n",
      "\n",
      "Empty DataFrame\n",
      "Columns: [Title, URL, Category, FullArticleText, Summary, Topics]\n",
      "Index: []\n"
     ]
    }
   ],
   "source": [
    "import pandas as pd\n",
    "df_analysis = pd.read_csv(\"analysis_summary.csv\")  # Cargar el DataFrame desde el archivo CSV\n",
    "print(df_analysis.loc[df_analysis.Summary.isnull()])  # Mostrar las primeras filas del DataFrame\n",
    "print(\"\\n\")\n",
    "print(df_analysis.loc[df_analysis.Topics.isnull()])  # Mostrar las primeras filas del DataFrame"
   ]
  },
  {
   "cell_type": "markdown",
   "id": "cbf5175b",
   "metadata": {},
   "source": [
    "#### Ejemplo de resultado que debe de dar si existen valores null"
   ]
  },
  {
   "cell_type": "markdown",
   "id": "6df77683",
   "metadata": {},
   "source": [
    "Creación de Tabla con valores None o null"
   ]
  },
  {
   "cell_type": "code",
   "execution_count": 38,
   "id": "8c5de7c3",
   "metadata": {},
   "outputs": [],
   "source": [
    "columns_name_example_null = ['Title', 'URL', 'Category', 'FullArticleText', 'Summary', 'Topics']  # Nombres de las columnas del DataFrame\n",
    "df_with_null = df_analysis[columns_name_example_null]  # Crear un nuevo DataFrame con las columnas especificadas\n",
    "df_with_null.loc[0] = (\"None\",\"None\",\"None\",\"None\",None,\"None\")  # Agregar las filas donde el título es nulo al nuevo DataFrame\n",
    "df_with_null.loc[1] = (\"None\",\"None\",\"None\",\"None\",None,None)  # Agregar las filas donde el título es nulo al nuevo DataFrame\n",
    "df_with_null.loc[2] = (\"None\",\"None\",\"None\",\"None\",\"None\",None)  # Agregar las filas donde el título es nulo al nuevo DataFrame\n",
    "df_with_null.loc[3] = (\"None\",\"None\",\"None\",\"None\",None,\"None\")  # Agregar las filas donde el título es nulo al nuevo DataFrame\n",
    "df_with_null.loc[4] = (\"None\",\"None\",\"None\",\"None\",\"None\",None)  # Agregar las filas donde el título es nulo al nuevo DataFrame"
   ]
  },
  {
   "cell_type": "code",
   "execution_count": 39,
   "id": "60d224ae",
   "metadata": {},
   "outputs": [
    {
     "name": "stdout",
     "output_type": "stream",
     "text": [
      "  Title   URL Category FullArticleText Summary Topics\n",
      "0  None  None     None            None    None   None\n",
      "1  None  None     None            None    None   None\n",
      "3  None  None     None            None    None   None\n",
      "\n",
      "\n",
      "  Title   URL Category FullArticleText Summary Topics\n",
      "1  None  None     None            None    None   None\n",
      "2  None  None     None            None    None   None\n",
      "4  None  None     None            None    None   None\n"
     ]
    }
   ],
   "source": [
    "print(df_with_null.loc[df_with_null.Summary.isnull()])  # Mostrar valores nulos en la columna 'Summary'\n",
    "print(\"\\n\")\n",
    "print(df_with_null.loc[df_with_null.Topics.isnull()])  # Mostrar valores nulos en la columna 'Topics'"
   ]
  },
  {
   "cell_type": "markdown",
   "id": "25564273",
   "metadata": {},
   "source": [
    "## Analisis de datos"
   ]
  },
  {
   "cell_type": "code",
   "execution_count": 1,
   "id": "7e568517",
   "metadata": {},
   "outputs": [
    {
     "name": "stdout",
     "output_type": "stream",
     "text": [
      "Categorias: ['Global Trade' 'Technology' 'Food Safety']\n",
      "Columnas de la tabla: Index(['Title', 'URL', 'Category', 'FullArticleText', 'Summary', 'Topics'], dtype='object')\n"
     ]
    }
   ],
   "source": [
    "import pandas as pd\n",
    "df_analysis = pd.read_csv(\"analysis_summary.csv\")  # Cargar el DataFrame desde el archivo CSV\n",
    "print( \"Categorias:\",df_analysis.Category.unique())\n",
    "print(\"Columnas de la tabla:\", df_analysis.columns)#Imprime las columnas que contiene el dataframe"
   ]
  },
  {
   "cell_type": "markdown",
   "id": "4b3d8ae9",
   "metadata": {},
   "source": [
    "### Separación por categorias"
   ]
  },
  {
   "cell_type": "code",
   "execution_count": 2,
   "id": "debd8f60",
   "metadata": {},
   "outputs": [],
   "source": [
    "GT = df_analysis.loc[df_analysis.Category=='Global Trade']\n",
    "TGY =  df_analysis.loc[df_analysis.Category=='Technology']\n",
    "FS =  df_analysis.loc[df_analysis.Category=='Food Safety']"
   ]
  },
  {
   "cell_type": "markdown",
   "id": "527da554",
   "metadata": {},
   "source": [
    "#### Global Trade"
   ]
  },
  {
   "cell_type": "code",
   "execution_count": 3,
   "id": "7f8d43a2",
   "metadata": {},
   "outputs": [
    {
     "name": "stdout",
     "output_type": "stream",
     "text": [
      "URL: https://www.freshproduce.com/events/the-brazil-conference/\n",
      "Title: The Brazil Conference\n",
      "Summary: The Brazil Conference is a major event in the global trade of fresh produce, where industry leaders and buyers gather to network, innovate, and stay informed on market trends and sustainability.\n",
      "Topic: ['Global Trade', 'Brazil Conference', 'Fresh Produce Supply Chain']\n",
      "----\n",
      "URL: https://www.freshproduce.com/resources/consumer-trends/americans-and-sustainability/\n",
      "Title: Americans & Sustainable Practices\n",
      "Summary: Here is a concise, one-sentence summary of the article's main point:\n",
      "\n",
      "A U.S. consumer survey reveals that while Americans are increasingly concerned about sustainability in produce, mixed signals on terminology and packaging trade-offs hinder the adoption of eco-friendly practices, offering opportunities for clear labeling, traceable origin stories, and innovative packaging to meet consumer expectations and drive sales.\n",
      "Topic: ['Americans and Sustainability', 'Sustainable Practices', 'Global Trade']\n",
      "----\n",
      "URL: https://www.freshproduce.com/events/the-mexico-conference/\n",
      "Title: The Mexico Conference\n",
      "Summary: The article announces the \"Mexico Conference\", a global trade event focused on fresh produce, flowers, and logistics, to be held in Guadalajara, Mexico from May 14-15, 2025.\n",
      "Topic: ['Global Trade', 'Mexico Conference', 'Fresh Produce Industry']\n",
      "----\n"
     ]
    }
   ],
   "source": [
    "for i in range(3):\n",
    "    print(\"URL:\", GT.iloc[i].URL)  # URL del DataFrame de Global Trade\n",
    "    print(\"Title:\", GT.iloc[i].Title)  # Título del DataFrame de Global Trade\n",
    "    print(\"Summary:\",GT.iloc[i].Summary)  # Descripción del DataFrame de Global Trade\n",
    "    print(\"Topic:\",GT.iloc[i].Topics)  # Temas del DataFrame de Global Trade\n",
    "    print(\"----\")"
   ]
  },
  {
   "cell_type": "markdown",
   "id": "11a5976b",
   "metadata": {},
   "source": [
    "#### Technology"
   ]
  },
  {
   "cell_type": "code",
   "execution_count": 4,
   "id": "42cb116e",
   "metadata": {},
   "outputs": [
    {
     "name": "stdout",
     "output_type": "stream",
     "text": [
      "URL: https://www.freshproduce.com/resources/technology/takes-on-tech-podcast/episode-118-behind-the-scenes-of-produce-policy/\n",
      "Title: Behind the Scenes of Produce Policy: Science and Politics\n",
      "Summary: The article discusses how science, technology, and politics intersect in shaping produce policy, highlighting key areas such as labor shortages, GMOs, innovation opportunities, and public perception's influence on policy development.\n",
      "Topic: ['Produce Policy', 'Science and Politics', 'Gene Editing', 'Biotechnology', 'GMOs']\n",
      "----\n",
      "URL: https://www.freshproduce.com/resources/technology/takes-on-tech-podcast/episode-117-the-future-of-agtech/\n",
      "Title: Smart Irrigation, Disease Detection, and Solar-Powered Farming\n",
      "Summary: The article discusses three innovative agricultural technologies - smart irrigation, disease detection, and solar-powered farming - that are revolutionizing the way farmers produce crops while addressing climate change and resource limitations.\n",
      "Topic: ['Smart Irrigation', 'Disease Detection', 'Solar-Powered Farming']\n",
      "----\n",
      "URL: https://www.freshproduce.com/resources/technology/takes-on-tech-podcast/episode-116-innovating-produce-supply-chains/\n",
      "Title: Innovating Produce Supply Chains: AI, Fintech, and Food Quality Solutions\n",
      "Summary: The article discusses how artificial intelligence (AI), fintech, and other solutions are being integrated into produce supply chains to improve food quality, sustainability, and stability, with examples including hyperspectral imaging, technology-driven financing, and geospatial data analytics.\n",
      "Topic: ['Artificial Intelligence (AI) in Produce Supply Chains', 'Fintech and Technology Solutions for Food Quality', 'Food Waste Prevention and Sustainability', 'Geospatial Data Analytics and Optimization']\n",
      "----\n"
     ]
    }
   ],
   "source": [
    "for i in range(3):\n",
    "    print('URL:', TGY.iloc[i].URL)  # URL del DataFrame de Global Trade\n",
    "    print(\"Title:\", TGY.iloc[i].Title)  # Título del DataFrame de Technology\n",
    "    print(\"Summary:\",TGY.iloc[i].Summary)  # Descripción del DataFrame\n",
    "    print(\"Topic:\",TGY.iloc[i].Topics)  # Temas del DataFrame de Technology\n",
    "    print(\"----\")"
   ]
  },
  {
   "cell_type": "markdown",
   "id": "c10bdc75",
   "metadata": {},
   "source": [
    "#### Food Safety"
   ]
  },
  {
   "cell_type": "code",
   "execution_count": 5,
   "id": "9f440830",
   "metadata": {},
   "outputs": [
    {
     "name": "stdout",
     "output_type": "stream",
     "text": [
      "URL: https://www.freshproduce.com/resources/food-safety/risk-scoring-for-produce/\n",
      "Title: Smarter Risk Scoring for Produce: Leverage Meat Industry Insights\n",
      "Summary: The article provides an overview of a webinar titled \"Smarter Risk Scoring for Produce: Leverage Meat Industry Insights,\" which aims to help produce processors adopt proven risk scoring methods from the meat industry to enhance their food safety programs.\n",
      "Topic: ['Risk Scoring', 'Produce Operations', 'Data-Driven Decision Making']\n",
      "----\n",
      "URL: https://www.freshproduce.com/resources/consumer-trends/americans-and-sustainability/\n",
      "Title: Americans & Sustainable Practices\n",
      "Summary: Here is a concise, one-sentence summary of the article's main point:\n",
      "\n",
      "A survey of 754 US consumers reveals that while many are interested in sustainable practices for produce, they face confusion and mixed signals on terminology, safety perceptions, and packaging trade-offs, highlighting opportunities for clear labeling, traceable origin stories, and innovative packaging.\n",
      "Topic: ['Sustainable Practices', 'Local Sourcing', 'Packaging', 'Eco-Friendly Claims', 'Terminology Clarification']\n",
      "----\n",
      "URL: https://www.freshproduce.com/resources/food-safety/pfas-in-specialty-crop-production/\n",
      "Title: Occurrence of PFAS in Specialty Crop Production\n",
      "Summary: Here is a one-sentence summary of the article's main point:\n",
      "\n",
      "Research has shown that while PFAS are widespread in consumer products and food, specialty crop production typically does not involve significant levels of PFAS contamination, with soils and ag water in production areas away from manufacturing facilities generally being free from these substances.\n",
      "Topic: ['PFAS', 'Specialty Crop Production', 'Food Safety']\n",
      "----\n"
     ]
    }
   ],
   "source": [
    "for i in range(3):\n",
    "    print(\"URL:\", FS.iloc[i].URL)  # URL del DataFrame de Technology\n",
    "    print(\"Title:\", FS.iloc[i].Title)  # Título del DataFrame de Technology\n",
    "    print(\"Summary:\",FS.iloc[i].Summary)  # Descripción del DataFrame de Technology\n",
    "    print(\"Topic:\",FS.iloc[i].Topics)  # Temas del DataFrame de Technology\n",
    "    print(\"----\")"
   ]
  }
 ],
 "metadata": {
  "kernelspec": {
   "display_name": ".conda",
   "language": "python",
   "name": "python3"
  },
  "language_info": {
   "codemirror_mode": {
    "name": "ipython",
    "version": 3
   },
   "file_extension": ".py",
   "mimetype": "text/x-python",
   "name": "python",
   "nbconvert_exporter": "python",
   "pygments_lexer": "ipython3",
   "version": "3.10.18"
  }
 },
 "nbformat": 4,
 "nbformat_minor": 5
}
