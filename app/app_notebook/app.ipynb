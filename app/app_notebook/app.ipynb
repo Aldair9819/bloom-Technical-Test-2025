{
 "cells": [
  {
   "cell_type": "markdown",
   "id": "9b4adf57",
   "metadata": {},
   "source": [
    "# Aplicación para hacer Web Scrapping de un sitio web y utilización de LLM para resumen y puntos clave"
   ]
  },
  {
   "cell_type": "markdown",
   "id": "b2375ec2",
   "metadata": {},
   "source": [
    "The Scenario\n",
    "Our company's leadership team, working in the agri-business sector, wants to understand the key dynamics of the global produce trade to identify potential market opportunities. They want a data-driven snapshot of the topics and trends being discussed across several key business areas.\n",
    "Your mission is to analyze articles from the fresh produce industry's main resources page, extract key information, use modern AI tools to enrich the data, and present your findings in a clear and concise manner."
   ]
  },
  {
   "cell_type": "markdown",
   "id": "542425bf",
   "metadata": {},
   "source": [
    "## Web Scrapping"
   ]
  },
  {
   "cell_type": "markdown",
   "id": "d4daaef1",
   "metadata": {},
   "source": [
    "### Extracción de subdominios."
   ]
  },
  {
   "cell_type": "markdown",
   "id": "4b2d6cdd",
   "metadata": {},
   "source": [
    "Primero se va a extraer el contenido de una página web para después generar el algoritmo para extraer los subdominios para en un posterior paso extraer su contenido\n",
    "\n",
    "URLS a extraer:\n",
    "- https://www.freshproduce.com/resources/global-trade/\n",
    "- https://www.freshproduce.com/resources/technology/\n",
    "- https://www.freshproduce.com/resources/food-safety/"
   ]
  },
  {
   "cell_type": "code",
   "execution_count": 1,
   "id": "4d179bd0",
   "metadata": {},
   "outputs": [],
   "source": [
    "primera_url_a_extraer_subdominio_ejemplo = \"https://www.freshproduce.com/resources/global-trade/\""
   ]
  },
  {
   "cell_type": "code",
   "execution_count": 2,
   "id": "47ee1684",
   "metadata": {},
   "outputs": [],
   "source": [
    "import requests\n",
    "from bs4 import BeautifulSoup\n",
    "\n",
    "def scrape_website(url):\n",
    "    # Realiza web scraping en la URL proporcionada. Extrae todo el HTML.\n",
    "\n",
    "    try:\n",
    "        print(f\"Extrayendo HTML de: {url}\")\n",
    "        response = requests.get(url) # Realizar una solicitud HTTP GET a la URL\n",
    "        response.raise_for_status()  # Lanza un error para códigos de estado HTTP incorrectos (4xx o 5xx)\n",
    "\n",
    "        # 2. Convierte el contenido obtenido a una estructura HTML con BeautifulSoup\n",
    "        soup_html = BeautifulSoup(response.text, 'html.parser')\n",
    "        print(\"Contenido HTML parseado exitosamente.\")\n",
    "        return soup_html\n",
    "\n",
    "    except requests.exceptions.RequestException as e:\n",
    "        print(f\"Error al conectar con la URL: {e}\")\n",
    "    except Exception as e:\n",
    "        print(f\"Ocurrió un error inesperado: {e}\")\n",
    "\n"
   ]
  },
  {
   "cell_type": "code",
   "execution_count": 3,
   "id": "763713a4",
   "metadata": {},
   "outputs": [
    {
     "name": "stdout",
     "output_type": "stream",
     "text": [
      "Extrayendo HTML de: https://www.freshproduce.com/resources/global-trade/\n",
      "Contenido HTML parseado exitosamente.\n"
     ]
    }
   ],
   "source": [
    "Extraccion_HTML = scrape_website(primera_url_a_extraer_subdominio_ejemplo)"
   ]
  },
  {
   "cell_type": "markdown",
   "id": "c2b7684f",
   "metadata": {},
   "source": [
    "Haciendo inspección del sitio web, hay dos clases de etiqueta tipo div necesarias para una correcta inspección:\n",
    "- search-stats: permite saber el número total de elementos que contiene la página y el número de elementos recorridos\n",
    "- result-panel: contiene todos los resultados de los artículos, con su respectivo subdominio."
   ]
  },
  {
   "cell_type": "code",
   "execution_count": 4,
   "id": "add40f77",
   "metadata": {},
   "outputs": [
    {
     "name": "stdout",
     "output_type": "stream",
     "text": [
      "[]\n",
      "[]\n"
     ]
    }
   ],
   "source": [
    "etiquetas_a_extraer = ['search-stats', 'result-panel']\n",
    "for etiqueta in etiquetas_a_extraer:\n",
    "    elementos = Extraccion_HTML.find_all(class_=etiqueta)\n",
    "    print(elementos)"
   ]
  },
  {
   "cell_type": "markdown",
   "id": "22076863",
   "metadata": {},
   "source": [
    "En el paso anterior se puede observar que no encontró ninguna de las etiquetas a buscar. Muy seguramente porque sea contenido dinámico."
   ]
  },
  {
   "cell_type": "markdown",
   "id": "1a6d98b9",
   "metadata": {},
   "source": [
    "Se utilizará Selenium apoyado con Beautiful Soup para casos de contenido dinámico."
   ]
  },
  {
   "cell_type": "code",
   "execution_count": 5,
   "id": "c6bc94db",
   "metadata": {},
   "outputs": [],
   "source": [
    "from selenium import webdriver #Controlar google chrome para obtener HTML con contenido dinámico\n",
    "from selenium.webdriver.chrome.options import Options #Controlar google chrome sin interfaz gráfica\n",
    "from selenium.webdriver.support.ui import WebDriverWait  # Para esperar elementos dinámicos\n",
    "from selenium.webdriver.support import expected_conditions as EC  # Condiciones para la espera\n",
    "from selenium.webdriver.common.by import By  # Para localizar elementos (por clase, ID, etc.)\n",
    "from bs4 import BeautifulSoup # #Para parsear el HTML obtenido con selenium\n",
    "import chromedriver_autoinstaller #Instalación automática del driver de Chrome\n",
    "\n",
    "def scrape_website_with_dynamic_content(page, classes_to_wait = None):\n",
    "    # Instala automáticamente el chromedriver compatible con la versión de Chrome instalada\n",
    "    chromedriver_autoinstaller.install() \n",
    "\n",
    "    options = Options() # Configuraciones de opciones para el navegador\n",
    "    options.add_argument(\"--headless\") # Ejecuta chrome sin interfaz gráfica\n",
    "\n",
    "    #Necesario por falta de permisos en el entorno aislado del contenedor\n",
    "    options.add_argument(\"--no-sandbox\") #Desactiva seguridad de Chrome por problemas de permisos en algunos sistemas\n",
    "    \n",
    "    options.add_argument(\"--disable-dev-shm-usage\") #Prevenir fallos por falta de memoria (RAM) compartida en algunos sistemas. Usa memoria de disco duro.\n",
    "\n",
    "    driver = webdriver.Chrome(options=options) # Inicia navegador chrome con las opciones configuradas\n",
    "\n",
    "    driver.get(page) # Carga la página web en el navegador\n",
    "\n",
    "    \n",
    "    if classes_to_wait:\n",
    "        tiempo_espera = 30 # Tiempo máximo de espera en segundos para que se cargue el contenido dinámico\n",
    "        wait = WebDriverWait(driver, tiempo_espera) \n",
    "        for class_to_wait in classes_to_wait: #Recorre cada clase a esperar\n",
    "            wait.until(\n",
    "                EC.presence_of_element_located((By.CLASS_NAME, class_to_wait))\n",
    "            )# Espera cada una de las clases\n",
    "\n",
    "\n",
    "    html_completo = driver.page_source  # Obtención del HTML renderizado completo\n",
    "\n",
    "    # Usar BeautifulSoup para parsear\n",
    "    soup = BeautifulSoup(html_completo, \"html.parser\")\n",
    "    # Por ejemplo, buscar la tabla con clase 'search-results'\n",
    "    driver.quit() #Cerrar navegador de Chrome\n",
    "    return soup"
   ]
  },
  {
   "cell_type": "code",
   "execution_count": 6,
   "id": "54da45af",
   "metadata": {},
   "outputs": [],
   "source": [
    "Extraccion_HTML_dinamico = scrape_website_with_dynamic_content(primera_url_a_extraer_subdominio_ejemplo, classes_to_wait=etiquetas_a_extraer)"
   ]
  },
  {
   "cell_type": "markdown",
   "id": "79a7b359",
   "metadata": {},
   "source": [
    "Verificamos que las etiquetas ahora se encuentren en el contenido."
   ]
  },
  {
   "cell_type": "code",
   "execution_count": 7,
   "id": "7b1a3921",
   "metadata": {},
   "outputs": [
    {
     "name": "stdout",
     "output_type": "stream",
     "text": [
      "[<div class=\"search-stats\"><p>Showing 1 - 9 of 23 results </p></div>]\n",
      "Cantidad de elementos encontrados con la clase 'search-stats': 1\n",
      "[<div class=\"result-panel\"><div class=\"tile eventlandingpage theme-agave tile-grid\"><div class=\"image-wrapper bg-agave\"><img alt=\"Nighttime skyline in Sao Paulo Brazil \" loading=\"eager\" src=\"https://www.freshproduce.com/siteassets/images/events/brazil-conference/sao-paulo-skyline-at-night.jpg/_croppings/event-landing-page-grid.jpg\"/></div><div class=\"caption\"><p class=\"eyebrow\">August 6-7, 2025 | São Paulo, Brazil</p><p class=\"title\">The Brazil Conference &amp; Expo</p><p class=\"description\">The Brazil Conference &amp; Expo the meeting point for retail buyers, executives &amp; industry leaders dedicated to the fresh produce supply chain in Brazil.</p><div class=\"cta-area\"><a class=\"score-button seed-link\" href=\"/events/the-brazil-conference/\" target=\"_self\">learn more</a></div></div></div><div class=\"tile resourcedetailpage theme-mint tile-grid\"><div class=\"image-wrapper bg-mint\"><img alt='Baskets of red tomatoes with a chalkboard sign reading \"FRESH FROM THE FARM.\"' loading=\"eager\" src=\"https://www.freshproduce.com/siteassets/images/consumer-trends/fresh-from-farm.jpg/_croppings/resource-detail-page-grid.jpg\"/></div><div class=\"caption\"><p class=\"eyebrow\">Consumer Trends</p><p class=\"title\">Americans &amp; Sustainable Produce: Key Findings &amp; Full Report</p><p class=\"description\">Explore how sustainability shapes produce purchases in the U.S. Learn top insights on packaging and local trends, then download our comprehensive consumer report.</p><div class=\"cta-area\"><a class=\"score-button seed-link\" href=\"/resources/consumer-trends/americans-and-sustainability/\" target=\"_self\">Learn More</a></div></div></div><div class=\"tile eventlandingpage theme-blueagave tile-grid\"><div class=\"image-wrapper bg-blueagave\"><img alt=\"Guadalajara, Mexico\" loading=\"eager\" src=\"https://www.freshproduce.com/siteassets/images/events/mexico-conference/2022/guadalajara-mexico.jpg/_croppings/event-landing-page-grid.jpg\"/></div><div class=\"caption\"><p class=\"eyebrow\">May 14-15, 2025 | Guadalajara, Mexico</p><p class=\"title\">The Mexico Conference</p><p class=\"description\">The Mexico Conference, dedicado a toda la cadena de suministro, es el lugar ideal para crear conexiones globales en la industria de frutas, vegetales y flores.</p><div class=\"cta-area\"><a class=\"score-button seed-link\" href=\"/events/the-mexico-conference/\" target=\"_self\">Learn more</a></div></div></div><div class=\"tile resourcedetailpage theme-mint tile-grid\"><div class=\"image-wrapper bg-mint\"><img alt=\"A grand neoclassical building with a large dome and Corinthian columns under a blue sky.\" loading=\"eager\" src=\"https://www.freshproduce.com/siteassets/images/advocacy/us-capitol-blue-sky.jpg/_croppings/resource-detail-page-grid.jpg\"/></div><div class=\"caption\"><p class=\"eyebrow\">May 13, 2025 | Webinar</p><p class=\"title\">Trump's First 100 Days: Industry Impact Webinar</p><p class=\"description\">Analyze Trump's first 100 days &amp; its impact on your industry. Join our expert panel May 13th for insights on policy shifts &amp; what's next.</p><div class=\"cta-area\"><a class=\"score-button seed-link\" href=\"/resources/advocacy/trumps-first-100-days/\" target=\"_self\">Learn More</a></div></div></div><div class=\"tile resourcedetailpage theme-mint tile-grid\"><div class=\"image-wrapper bg-mint\"><img alt=\"A stack of red, blue, and white shipping containers in a yard, seen behind a blurry chain-link fence, under a blue sky.\" loading=\"eager\" src=\"https://www.freshproduce.com/siteassets/images/global-trade/containers-stacked.jpg/_croppings/resource-detail-page-grid.jpg\"/></div><div class=\"caption\"><p class=\"eyebrow\">Global Trade</p><p class=\"title\">Tariff Resources</p><p class=\"description\">Stay updated on tariff policies and regulations with IFPA resources. Access guidance documents, webinars, consultations and regulatory updates to manage your obligations.</p><div class=\"cta-area\"><a class=\"score-button seed-link\" href=\"/resources/global-trade/tariff-resources/\" target=\"_self\">Learn More</a></div></div></div><div class=\"tile resourcedetailpage theme-mint tile-grid\"><div class=\"image-wrapper bg-mint\"><img alt=\"A bowl shaped like half a globe featuring various fresh vegetables and fruits, including corn, bell pepper, tomatoes, and broccoli.\" loading=\"eager\" src=\"https://www.freshproduce.com/siteassets/images/commodities/global-bowl-or-produce.jpg/_croppings/resource-detail-page-grid.jpg\"/></div><div class=\"caption\"><p class=\"eyebrow\">Commodities</p><p class=\"title\">International Retail Point of Sale Data</p><p class=\"description\">Get monthly retail produce sales reports to benchmark performance and uncover global market trends in fruit and vegetable sales.</p><div class=\"cta-area\"><a class=\"score-button seed-link\" href=\"/resources/Commodities/international-retail-point-of-sale-data/\" target=\"_self\">Learn More</a></div></div></div><div class=\"tile resourcedetailpage theme-mint tile-grid\"><div class=\"image-wrapper bg-mint\"><img alt=\"World map made from assorted fruits and vegetables on a black background.\" loading=\"eager\" src=\"https://www.freshproduce.com/siteassets/images/various-f-and-v/fandvmap.jpg/_croppings/resource-detail-page-grid.jpg\"/></div><div class=\"caption\"><p class=\"eyebrow\">Supply Chain Management</p><p class=\"title\">Market Access to Export Fruits and Vegetables Internationally</p><p class=\"description\">Export fruits and vegetables internationally with ease. Stay compliant with evolving regulations and broaden your company's market reach with IFPA's updated country information.</p><div class=\"cta-area\"><a class=\"score-button seed-link\" href=\"/resources/supply-chain-management/global-market-access/\" target=\"_self\">Learn More</a></div></div></div><div class=\"tile resourcedetailpage theme-mint tile-grid\"><div class=\"image-wrapper bg-mint\"><img alt=\"Exotic fruits variety still life on vintage wooden boards\" loading=\"eager\" src=\"https://www.freshproduce.com/siteassets/images/various-f-and-v/assorted-exotic-fruit.jpg/_croppings/resource-detail-page-grid.jpg\"/></div><div class=\"caption\"><p class=\"eyebrow\">Commodities</p><p class=\"title\">Annual Reports of Products Mexico Exports to the United States</p><p class=\"description\">A summary of Mexico’s key exports to the U.S., covering three-year trends in volume, pricing and market trends to inform future planning. </p><div class=\"cta-area\"><a class=\"score-button seed-link\" href=\"/resources/global-trade/mexico-exports-to-us/\" target=\"_self\">Learn More</a></div></div></div><div class=\"tile gated resourcedetailpage theme-mint tile-grid\"><div class=\"image-wrapper bg-mint\"><img alt=\"A macro image of green table grapes. One of the grapes is cut in half.\" loading=\"eager\" src=\"https://www.freshproduce.com/siteassets/images/various-f-and-v/table-grapes.jpg/_croppings/resource-detail-page-grid.jpg\"/></div><div class=\"caption\"><p class=\"eyebrow\">Commodities</p><p class=\"title\">Global Table Grape Shipment Data</p><p class=\"description\">IFPA &amp; IQonsulting team up to deliver data on table grape movement worldwide. Gain a competitive edge &amp; make informed decisions with this member resource!</p><div class=\"cta-area\"><a class=\"score-button seed-link\" href=\"/resources/Commodities/global-table-grape-shipment-data/\" target=\"_self\">Learn More</a></div></div></div></div>]\n",
      "Cantidad de elementos encontrados con la clase 'result-panel': 1\n"
     ]
    }
   ],
   "source": [
    "for etiqueta in etiquetas_a_extraer:\n",
    "    elementos = Extraccion_HTML_dinamico.find_all(class_=etiqueta)\n",
    "    print(elementos)\n",
    "    print(f\"Cantidad de elementos encontrados con la clase '{etiqueta}': {len(elementos)}\")"
   ]
  },
  {
   "cell_type": "markdown",
   "id": "591a9d53",
   "metadata": {},
   "source": [
    "#### Se encontraron los datos a buscar. Ahora se manipularán los datos de las etiquetas a necesitar para sus debidos datos: 'search-stats' y 'result-panel'"
   ]
  },
  {
   "cell_type": "markdown",
   "id": "4c58861c",
   "metadata": {},
   "source": [
    "##### **Search-stats:** Sirve para ver en qué artículo está actualmente y el número de artículos"
   ]
  },
  {
   "cell_type": "code",
   "execution_count": 8,
   "id": "a63f2a95",
   "metadata": {},
   "outputs": [
    {
     "name": "stdout",
     "output_type": "stream",
     "text": [
      "Contenido de 'search-stats':\n",
      "Showing 1 - 9 of 23 results \n",
      "['Showing', '1', '-', '9', 'of', '23', 'results']\n"
     ]
    }
   ],
   "source": [
    "search_stats = Extraccion_HTML_dinamico.find(class_=etiquetas_a_extraer[0])  # Buscar el primer elemento con la clase 'search-stats'\n",
    "if search_stats:\n",
    "    print(\"Contenido de 'search-stats':\")\n",
    "    print(search_stats.text)\n",
    "    print(search_stats.text.split())"
   ]
  },
  {
   "cell_type": "markdown",
   "id": "1f62e6c0",
   "metadata": {},
   "source": [
    "Al separar todas las palabras hay 3 palabras que nos interesan:\n",
    "- El último elemento de la página web ('9')\n",
    "- El número de elementos de la página web ('23')\n",
    "- Un punto de referencia entre ambos ('of')\n",
    "\n",
    "Extraeremos cada uno de ellos"
   ]
  },
  {
   "cell_type": "code",
   "execution_count": 9,
   "id": "4d6f8d22",
   "metadata": {},
   "outputs": [
    {
     "name": "stdout",
     "output_type": "stream",
     "text": [
      "['Showing', '1', '-', '9', 'of', '23', 'results']\n",
      "Índice de la palabra 'of': 4\n",
      "Último elemento de la página: 9\n",
      "Total de elementos de la página: 23\n"
     ]
    }
   ],
   "source": [
    "search_stats_arreglo = search_stats.text.split() \n",
    "print(search_stats_arreglo)\n",
    "indice_palabra_of = search_stats_arreglo.index(\"of\") #Desde qué elemento está el punto de referencia\n",
    "print(f\"Índice de la palabra 'of': {indice_palabra_of}\")\n",
    "ultimo_elemento_de_pagina = int(search_stats_arreglo[indice_palabra_of -1]) # La palabra anterior a \"of\" es el último elemento de la página\n",
    "print(f\"Último elemento de la página: {ultimo_elemento_de_pagina}\")\n",
    "total_elementos_de_pagina = int(search_stats_arreglo[indice_palabra_of + 1]) # La palabra siguiente a \"of\" es el total de elementos de la página\n",
    "print(f\"Total de elementos de la página: {total_elementos_de_pagina}\")"
   ]
  },
  {
   "cell_type": "markdown",
   "id": "fbf098a4",
   "metadata": {},
   "source": [
    "Con esto se puede hacer una función que verifique si se ha recorrido todo el contenido."
   ]
  },
  {
   "cell_type": "code",
   "execution_count": 10,
   "id": "7ab78747",
   "metadata": {},
   "outputs": [],
   "source": [
    "# Verifica si la página HTML indica que es la última página de resultados.\n",
    "def bool_is_final_page(HTML, etiqueta='search-stats'):\n",
    "    search_stats = HTML.find(class_=etiqueta)\n",
    "    if search_stats:\n",
    "        search_stats_arreglo = search_stats.text.split()\n",
    "        indice_palabra_of = search_stats_arreglo.index(\"of\")\n",
    "        ultimo_elemento_de_pagina = int(search_stats_arreglo[indice_palabra_of - 1])\n",
    "        total_elementos_de_pagina = int(search_stats_arreglo[indice_palabra_of + 1])\n",
    "        return (ultimo_elemento_de_pagina >= total_elementos_de_pagina) #No debería haber más elementos en la página web, pero el método == puede fallar si hay un error en la web.\n",
    "    return True # Si no se encuentra la clase, asumimos que es la última página para evitar errores en el bucle de paginación."
   ]
  },
  {
   "cell_type": "code",
   "execution_count": 11,
   "id": "f1e0f318",
   "metadata": {},
   "outputs": [
    {
     "name": "stdout",
     "output_type": "stream",
     "text": [
      "¿Es la última página? False\n"
     ]
    }
   ],
   "source": [
    "#Uso de la función para verificar\n",
    "ultima_pagina = bool_is_final_page(Extraccion_HTML_dinamico, etiquetas_a_extraer[0])\n",
    "print(f\"¿Es la última página? {ultima_pagina}\")"
   ]
  },
  {
   "cell_type": "markdown",
   "id": "8b14b635",
   "metadata": {},
   "source": [
    "##### **Result panel:** Contiene todos los subdominios de los articulos"
   ]
  },
  {
   "cell_type": "code",
   "execution_count": 12,
   "id": "41209fd0",
   "metadata": {},
   "outputs": [
    {
     "name": "stdout",
     "output_type": "stream",
     "text": [
      "Cantidad de elementos encontrados con la clase 'result-panel': 9\n",
      "Contenido de 'search-stats':\n",
      "<div class=\"result-panel\"><div class=\"tile eventlandingpage theme-agave tile-grid\"><div class=\"image-wrapper bg-agave\"><img alt=\"Nighttime skyline in Sao Paulo Brazil \" loading=\"eager\" src=\"https://www.freshproduce.com/siteassets/images/events/brazil-conference/sao-paulo-skyline-at-night.jpg/_croppings/event-landing-page-grid.jpg\"/></div><div class=\"caption\"><p class=\"eyebrow\">August 6-7, 2025 | São Paulo, Brazil</p><p class=\"title\">The Brazil Conference &amp; Expo</p><p class=\"description\">The Brazil Conference &amp; Expo the meeting point for retail buyers, executives &amp; industry leaders dedicated to the fresh produce supply chain in Brazil.</p><div class=\"cta-area\"><a class=\"score-button seed-link\" href=\"/events/the-brazil-conference/\" target=\"_self\">learn more</a></div></div></div><div class=\"tile resourcedetailpage theme-mint tile-grid\"><div class=\"image-wrapper bg-mint\"><img alt='Baskets of red tomatoes with a chalkboard sign reading \"FRESH FROM THE FARM.\"' loading=\"eager\" src=\"https://www.freshproduce.com/siteassets/images/consumer-trends/fresh-from-farm.jpg/_croppings/resource-detail-page-grid.jpg\"/></div><div class=\"caption\"><p class=\"eyebrow\">Consumer Trends</p><p class=\"title\">Americans &amp; Sustainable Produce: Key Findings &amp; Full Report</p><p class=\"description\">Explore how sustainability shapes produce purchases in the U.S. Learn top insights on packaging and local trends, then download our comprehensive consumer report.</p><div class=\"cta-area\"><a class=\"score-button seed-link\" href=\"/resources/consumer-trends/americans-and-sustainability/\" target=\"_self\">Learn More</a></div></div></div><div class=\"tile eventlandingpage theme-blueagave tile-grid\"><div class=\"image-wrapper bg-blueagave\"><img alt=\"Guadalajara, Mexico\" loading=\"eager\" src=\"https://www.freshproduce.com/siteassets/images/events/mexico-conference/2022/guadalajara-mexico.jpg/_croppings/event-landing-page-grid.jpg\"/></div><div class=\"caption\"><p class=\"eyebrow\">May 14-15, 2025 | Guadalajara, Mexico</p><p class=\"title\">The Mexico Conference</p><p class=\"description\">The Mexico Conference, dedicado a toda la cadena de suministro, es el lugar ideal para crear conexiones globales en la industria de frutas, vegetales y flores.</p><div class=\"cta-area\"><a class=\"score-button seed-link\" href=\"/events/the-mexico-conference/\" target=\"_self\">Learn more</a></div></div></div><div class=\"tile resourcedetailpage theme-mint tile-grid\"><div class=\"image-wrapper bg-mint\"><img alt=\"A grand neoclassical building with a large dome and Corinthian columns under a blue sky.\" loading=\"eager\" src=\"https://www.freshproduce.com/siteassets/images/advocacy/us-capitol-blue-sky.jpg/_croppings/resource-detail-page-grid.jpg\"/></div><div class=\"caption\"><p class=\"eyebrow\">May 13, 2025 | Webinar</p><p class=\"title\">Trump's First 100 Days: Industry Impact Webinar</p><p class=\"description\">Analyze Trump's first 100 days &amp; its impact on your industry. Join our expert panel May 13th for insights on policy shifts &amp; what's next.</p><div class=\"cta-area\"><a class=\"score-button seed-link\" href=\"/resources/advocacy/trumps-first-100-days/\" target=\"_self\">Learn More</a></div></div></div><div class=\"tile resourcedetailpage theme-mint tile-grid\"><div class=\"image-wrapper bg-mint\"><img alt=\"A stack of red, blue, and white shipping containers in a yard, seen behind a blurry chain-link fence, under a blue sky.\" loading=\"eager\" src=\"https://www.freshproduce.com/siteassets/images/global-trade/containers-stacked.jpg/_croppings/resource-detail-page-grid.jpg\"/></div><div class=\"caption\"><p class=\"eyebrow\">Global Trade</p><p class=\"title\">Tariff Resources</p><p class=\"description\">Stay updated on tariff policies and regulations with IFPA resources. Access guidance documents, webinars, consultations and regulatory updates to manage your obligations.</p><div class=\"cta-area\"><a class=\"score-button seed-link\" href=\"/resources/global-trade/tariff-resources/\" target=\"_self\">Learn More</a></div></div></div><div class=\"tile resourcedetailpage theme-mint tile-grid\"><div class=\"image-wrapper bg-mint\"><img alt=\"A bowl shaped like half a globe featuring various fresh vegetables and fruits, including corn, bell pepper, tomatoes, and broccoli.\" loading=\"eager\" src=\"https://www.freshproduce.com/siteassets/images/commodities/global-bowl-or-produce.jpg/_croppings/resource-detail-page-grid.jpg\"/></div><div class=\"caption\"><p class=\"eyebrow\">Commodities</p><p class=\"title\">International Retail Point of Sale Data</p><p class=\"description\">Get monthly retail produce sales reports to benchmark performance and uncover global market trends in fruit and vegetable sales.</p><div class=\"cta-area\"><a class=\"score-button seed-link\" href=\"/resources/Commodities/international-retail-point-of-sale-data/\" target=\"_self\">Learn More</a></div></div></div><div class=\"tile resourcedetailpage theme-mint tile-grid\"><div class=\"image-wrapper bg-mint\"><img alt=\"World map made from assorted fruits and vegetables on a black background.\" loading=\"eager\" src=\"https://www.freshproduce.com/siteassets/images/various-f-and-v/fandvmap.jpg/_croppings/resource-detail-page-grid.jpg\"/></div><div class=\"caption\"><p class=\"eyebrow\">Supply Chain Management</p><p class=\"title\">Market Access to Export Fruits and Vegetables Internationally</p><p class=\"description\">Export fruits and vegetables internationally with ease. Stay compliant with evolving regulations and broaden your company's market reach with IFPA's updated country information.</p><div class=\"cta-area\"><a class=\"score-button seed-link\" href=\"/resources/supply-chain-management/global-market-access/\" target=\"_self\">Learn More</a></div></div></div><div class=\"tile resourcedetailpage theme-mint tile-grid\"><div class=\"image-wrapper bg-mint\"><img alt=\"Exotic fruits variety still life on vintage wooden boards\" loading=\"eager\" src=\"https://www.freshproduce.com/siteassets/images/various-f-and-v/assorted-exotic-fruit.jpg/_croppings/resource-detail-page-grid.jpg\"/></div><div class=\"caption\"><p class=\"eyebrow\">Commodities</p><p class=\"title\">Annual Reports of Products Mexico Exports to the United States</p><p class=\"description\">A summary of Mexico’s key exports to the U.S., covering three-year trends in volume, pricing and market trends to inform future planning. </p><div class=\"cta-area\"><a class=\"score-button seed-link\" href=\"/resources/global-trade/mexico-exports-to-us/\" target=\"_self\">Learn More</a></div></div></div><div class=\"tile gated resourcedetailpage theme-mint tile-grid\"><div class=\"image-wrapper bg-mint\"><img alt=\"A macro image of green table grapes. One of the grapes is cut in half.\" loading=\"eager\" src=\"https://www.freshproduce.com/siteassets/images/various-f-and-v/table-grapes.jpg/_croppings/resource-detail-page-grid.jpg\"/></div><div class=\"caption\"><p class=\"eyebrow\">Commodities</p><p class=\"title\">Global Table Grape Shipment Data</p><p class=\"description\">IFPA &amp; IQonsulting team up to deliver data on table grape movement worldwide. Gain a competitive edge &amp; make informed decisions with this member resource!</p><div class=\"cta-area\"><a class=\"score-button seed-link\" href=\"/resources/Commodities/global-table-grape-shipment-data/\" target=\"_self\">Learn More</a></div></div></div></div>\n",
      "-----\n",
      "<div class=\"tile eventlandingpage theme-agave tile-grid\"><div class=\"image-wrapper bg-agave\"><img alt=\"Nighttime skyline in Sao Paulo Brazil \" loading=\"eager\" src=\"https://www.freshproduce.com/siteassets/images/events/brazil-conference/sao-paulo-skyline-at-night.jpg/_croppings/event-landing-page-grid.jpg\"/></div><div class=\"caption\"><p class=\"eyebrow\">August 6-7, 2025 | São Paulo, Brazil</p><p class=\"title\">The Brazil Conference &amp; Expo</p><p class=\"description\">The Brazil Conference &amp; Expo the meeting point for retail buyers, executives &amp; industry leaders dedicated to the fresh produce supply chain in Brazil.</p><div class=\"cta-area\"><a class=\"score-button seed-link\" href=\"/events/the-brazil-conference/\" target=\"_self\">learn more</a></div></div></div>\n",
      "-----\n",
      "<div class=\"tile resourcedetailpage theme-mint tile-grid\"><div class=\"image-wrapper bg-mint\"><img alt='Baskets of red tomatoes with a chalkboard sign reading \"FRESH FROM THE FARM.\"' loading=\"eager\" src=\"https://www.freshproduce.com/siteassets/images/consumer-trends/fresh-from-farm.jpg/_croppings/resource-detail-page-grid.jpg\"/></div><div class=\"caption\"><p class=\"eyebrow\">Consumer Trends</p><p class=\"title\">Americans &amp; Sustainable Produce: Key Findings &amp; Full Report</p><p class=\"description\">Explore how sustainability shapes produce purchases in the U.S. Learn top insights on packaging and local trends, then download our comprehensive consumer report.</p><div class=\"cta-area\"><a class=\"score-button seed-link\" href=\"/resources/consumer-trends/americans-and-sustainability/\" target=\"_self\">Learn More</a></div></div></div>\n",
      "-----\n",
      "<div class=\"tile eventlandingpage theme-blueagave tile-grid\"><div class=\"image-wrapper bg-blueagave\"><img alt=\"Guadalajara, Mexico\" loading=\"eager\" src=\"https://www.freshproduce.com/siteassets/images/events/mexico-conference/2022/guadalajara-mexico.jpg/_croppings/event-landing-page-grid.jpg\"/></div><div class=\"caption\"><p class=\"eyebrow\">May 14-15, 2025 | Guadalajara, Mexico</p><p class=\"title\">The Mexico Conference</p><p class=\"description\">The Mexico Conference, dedicado a toda la cadena de suministro, es el lugar ideal para crear conexiones globales en la industria de frutas, vegetales y flores.</p><div class=\"cta-area\"><a class=\"score-button seed-link\" href=\"/events/the-mexico-conference/\" target=\"_self\">Learn more</a></div></div></div>\n",
      "-----\n",
      "<div class=\"tile resourcedetailpage theme-mint tile-grid\"><div class=\"image-wrapper bg-mint\"><img alt=\"A grand neoclassical building with a large dome and Corinthian columns under a blue sky.\" loading=\"eager\" src=\"https://www.freshproduce.com/siteassets/images/advocacy/us-capitol-blue-sky.jpg/_croppings/resource-detail-page-grid.jpg\"/></div><div class=\"caption\"><p class=\"eyebrow\">May 13, 2025 | Webinar</p><p class=\"title\">Trump's First 100 Days: Industry Impact Webinar</p><p class=\"description\">Analyze Trump's first 100 days &amp; its impact on your industry. Join our expert panel May 13th for insights on policy shifts &amp; what's next.</p><div class=\"cta-area\"><a class=\"score-button seed-link\" href=\"/resources/advocacy/trumps-first-100-days/\" target=\"_self\">Learn More</a></div></div></div>\n",
      "-----\n",
      "<div class=\"tile resourcedetailpage theme-mint tile-grid\"><div class=\"image-wrapper bg-mint\"><img alt=\"A stack of red, blue, and white shipping containers in a yard, seen behind a blurry chain-link fence, under a blue sky.\" loading=\"eager\" src=\"https://www.freshproduce.com/siteassets/images/global-trade/containers-stacked.jpg/_croppings/resource-detail-page-grid.jpg\"/></div><div class=\"caption\"><p class=\"eyebrow\">Global Trade</p><p class=\"title\">Tariff Resources</p><p class=\"description\">Stay updated on tariff policies and regulations with IFPA resources. Access guidance documents, webinars, consultations and regulatory updates to manage your obligations.</p><div class=\"cta-area\"><a class=\"score-button seed-link\" href=\"/resources/global-trade/tariff-resources/\" target=\"_self\">Learn More</a></div></div></div>\n",
      "-----\n",
      "<div class=\"tile resourcedetailpage theme-mint tile-grid\"><div class=\"image-wrapper bg-mint\"><img alt=\"A bowl shaped like half a globe featuring various fresh vegetables and fruits, including corn, bell pepper, tomatoes, and broccoli.\" loading=\"eager\" src=\"https://www.freshproduce.com/siteassets/images/commodities/global-bowl-or-produce.jpg/_croppings/resource-detail-page-grid.jpg\"/></div><div class=\"caption\"><p class=\"eyebrow\">Commodities</p><p class=\"title\">International Retail Point of Sale Data</p><p class=\"description\">Get monthly retail produce sales reports to benchmark performance and uncover global market trends in fruit and vegetable sales.</p><div class=\"cta-area\"><a class=\"score-button seed-link\" href=\"/resources/Commodities/international-retail-point-of-sale-data/\" target=\"_self\">Learn More</a></div></div></div>\n",
      "-----\n",
      "<div class=\"tile resourcedetailpage theme-mint tile-grid\"><div class=\"image-wrapper bg-mint\"><img alt=\"World map made from assorted fruits and vegetables on a black background.\" loading=\"eager\" src=\"https://www.freshproduce.com/siteassets/images/various-f-and-v/fandvmap.jpg/_croppings/resource-detail-page-grid.jpg\"/></div><div class=\"caption\"><p class=\"eyebrow\">Supply Chain Management</p><p class=\"title\">Market Access to Export Fruits and Vegetables Internationally</p><p class=\"description\">Export fruits and vegetables internationally with ease. Stay compliant with evolving regulations and broaden your company's market reach with IFPA's updated country information.</p><div class=\"cta-area\"><a class=\"score-button seed-link\" href=\"/resources/supply-chain-management/global-market-access/\" target=\"_self\">Learn More</a></div></div></div>\n",
      "-----\n",
      "<div class=\"tile resourcedetailpage theme-mint tile-grid\"><div class=\"image-wrapper bg-mint\"><img alt=\"Exotic fruits variety still life on vintage wooden boards\" loading=\"eager\" src=\"https://www.freshproduce.com/siteassets/images/various-f-and-v/assorted-exotic-fruit.jpg/_croppings/resource-detail-page-grid.jpg\"/></div><div class=\"caption\"><p class=\"eyebrow\">Commodities</p><p class=\"title\">Annual Reports of Products Mexico Exports to the United States</p><p class=\"description\">A summary of Mexico’s key exports to the U.S., covering three-year trends in volume, pricing and market trends to inform future planning. </p><div class=\"cta-area\"><a class=\"score-button seed-link\" href=\"/resources/global-trade/mexico-exports-to-us/\" target=\"_self\">Learn More</a></div></div></div>\n",
      "-----\n",
      "<div class=\"tile gated resourcedetailpage theme-mint tile-grid\"><div class=\"image-wrapper bg-mint\"><img alt=\"A macro image of green table grapes. One of the grapes is cut in half.\" loading=\"eager\" src=\"https://www.freshproduce.com/siteassets/images/various-f-and-v/table-grapes.jpg/_croppings/resource-detail-page-grid.jpg\"/></div><div class=\"caption\"><p class=\"eyebrow\">Commodities</p><p class=\"title\">Global Table Grape Shipment Data</p><p class=\"description\">IFPA &amp; IQonsulting team up to deliver data on table grape movement worldwide. Gain a competitive edge &amp; make informed decisions with this member resource!</p><div class=\"cta-area\"><a class=\"score-button seed-link\" href=\"/resources/Commodities/global-table-grape-shipment-data/\" target=\"_self\">Learn More</a></div></div></div>\n",
      "-----\n"
     ]
    }
   ],
   "source": [
    "result_panel = Extraccion_HTML_dinamico.find(class_=etiquetas_a_extraer[1])  # Buscar el primer elemento con la clase 'search-stats' (solo existe uno)\n",
    "if result_panel:\n",
    "    print(f\"Cantidad de elementos encontrados con la clase '{etiquetas_a_extraer[1]}': {len(result_panel)}\")\n",
    "    print(\"Contenido de 'search-stats':\")\n",
    "    print(result_panel)\n",
    "    print(\"-----\")\n",
    "    for elemento in result_panel:\n",
    "        print(elemento)\n",
    "        print(\"-----\")"
   ]
  },
  {
   "cell_type": "markdown",
   "id": "52ddb593",
   "metadata": {},
   "source": [
    "Al inspeccionar cada elemento del articulo, cada uno contiene un botón con el hipervinculo en la clase \"cta-area\", por lo que ahora extraeremos el contenido solamente en \"cta-area\". Se buscará la etiqueta `<a>` y dentro de ella el hipervinculo."
   ]
  },
  {
   "cell_type": "code",
   "execution_count": 13,
   "id": "b0559662",
   "metadata": {},
   "outputs": [
    {
     "name": "stdout",
     "output_type": "stream",
     "text": [
      "[<div class=\"cta-area\"><a class=\"score-button seed-link\" href=\"/events/the-brazil-conference/\" target=\"_self\">learn more</a></div>, <div class=\"cta-area\"><a class=\"score-button seed-link\" href=\"/resources/consumer-trends/americans-and-sustainability/\" target=\"_self\">Learn More</a></div>, <div class=\"cta-area\"><a class=\"score-button seed-link\" href=\"/events/the-mexico-conference/\" target=\"_self\">Learn more</a></div>, <div class=\"cta-area\"><a class=\"score-button seed-link\" href=\"/resources/advocacy/trumps-first-100-days/\" target=\"_self\">Learn More</a></div>, <div class=\"cta-area\"><a class=\"score-button seed-link\" href=\"/resources/global-trade/tariff-resources/\" target=\"_self\">Learn More</a></div>, <div class=\"cta-area\"><a class=\"score-button seed-link\" href=\"/resources/Commodities/international-retail-point-of-sale-data/\" target=\"_self\">Learn More</a></div>, <div class=\"cta-area\"><a class=\"score-button seed-link\" href=\"/resources/supply-chain-management/global-market-access/\" target=\"_self\">Learn More</a></div>, <div class=\"cta-area\"><a class=\"score-button seed-link\" href=\"/resources/global-trade/mexico-exports-to-us/\" target=\"_self\">Learn More</a></div>, <div class=\"cta-area\"><a class=\"score-button seed-link\" href=\"/resources/Commodities/global-table-grape-shipment-data/\" target=\"_self\">Learn More</a></div>]\n",
      "Enlace encontrado: /events/the-brazil-conference/\n",
      "Enlace encontrado: /resources/consumer-trends/americans-and-sustainability/\n",
      "Enlace encontrado: /events/the-mexico-conference/\n",
      "Enlace encontrado: /resources/advocacy/trumps-first-100-days/\n",
      "Enlace encontrado: /resources/global-trade/tariff-resources/\n",
      "Enlace encontrado: /resources/Commodities/international-retail-point-of-sale-data/\n",
      "Enlace encontrado: /resources/supply-chain-management/global-market-access/\n",
      "Enlace encontrado: /resources/global-trade/mexico-exports-to-us/\n",
      "Enlace encontrado: /resources/Commodities/global-table-grape-shipment-data/\n"
     ]
    }
   ],
   "source": [
    "encontrar_todos_los_hipervinculos = result_panel.find_all('div', class_='cta-area')  # Buscar todos los hipervínculos en el HTML\n",
    "print(encontrar_todos_los_hipervinculos)\n",
    "todos_los_subdominios = []  # Lista para almacenar los subdominios encontrados\n",
    "for enlace in encontrar_todos_los_hipervinculos:\n",
    "    a_tag = enlace.find('a')  # Buscar la etiqueta <a> dentro de cada div\n",
    "    #print(a_tag)\n",
    "    if a_tag and 'href' in a_tag.attrs:  # Verificar si existe el atributo href\n",
    "        print(f\"Enlace encontrado: {a_tag['href']}\")  # Imprimir el enlace\n",
    "        todos_los_subdominios.append(a_tag['href'])\n",
    "    else:\n",
    "        print(\"No se encontró un enlace válido en este elemento.\")"
   ]
  },
  {
   "cell_type": "markdown",
   "id": "6b798d5a",
   "metadata": {},
   "source": [
    "Al utilizar el dominio principal (https://www.freshproduce.com) junto al subdominio podemos acceder a las páginas web con su respectivo contenido."
   ]
  },
  {
   "cell_type": "code",
   "execution_count": 14,
   "id": "ea83987a",
   "metadata": {},
   "outputs": [
    {
     "name": "stdout",
     "output_type": "stream",
     "text": [
      "Link hacia el articulo: https://www.freshproduce.com/events/the-brazil-conference/\n"
     ]
    }
   ],
   "source": [
    "dominio_principal = \"https://www.freshproduce.com\"\n",
    "subdominio_ejemplo = todos_los_subdominios[0]\n",
    "\n",
    "print(f\"Link hacia el articulo: {dominio_principal}{subdominio_ejemplo}\")"
   ]
  },
  {
   "cell_type": "markdown",
   "id": "ff357a8a",
   "metadata": {},
   "source": [
    "Con ello podemos hacer un algoritmo que permita tomar desde el HTML todos los subdominios de la página web"
   ]
  },
  {
   "cell_type": "code",
   "execution_count": 15,
   "id": "4d52eb9c",
   "metadata": {},
   "outputs": [],
   "source": [
    "def obtener_subdominios(HTML, etiqueta_completa_todos_elementos = 'result-panel' ,etiqueta_elemento_individual='cta-area', dominio_principal=\"https://www.freshproduce.com\"):\n",
    "    result_panel_subdominio = HTML.find(class_=etiqueta_completa_todos_elementos) \n",
    "    \n",
    "    if not result_panel_subdominio:\n",
    "        print(f\"No se encontró la clase '{etiqueta}' en el HTML.\")\n",
    "        return []\n",
    "    subdominios = []\n",
    "    encontrar_todos_los_hipervinculos = result_panel_subdominio.find_all('div', class_=etiqueta_elemento_individual)\n",
    "    for enlace in encontrar_todos_los_hipervinculos:\n",
    "        a_tag = enlace.find('a')\n",
    "        if a_tag and 'href' in a_tag.attrs:\n",
    "            subdominio_completo = f\"{dominio_principal}{a_tag['href']}\"\n",
    "            subdominios.append(subdominio_completo)\n",
    "    \n",
    "    return subdominios"
   ]
  },
  {
   "cell_type": "code",
   "execution_count": 16,
   "id": "53abd74f",
   "metadata": {},
   "outputs": [
    {
     "name": "stdout",
     "output_type": "stream",
     "text": [
      "Subdominios encontrados:\n",
      "https://www.freshproduce.com/events/the-brazil-conference/\n",
      "https://www.freshproduce.com/resources/consumer-trends/americans-and-sustainability/\n",
      "https://www.freshproduce.com/events/the-mexico-conference/\n",
      "https://www.freshproduce.com/resources/advocacy/trumps-first-100-days/\n",
      "https://www.freshproduce.com/resources/global-trade/tariff-resources/\n",
      "https://www.freshproduce.com/resources/Commodities/international-retail-point-of-sale-data/\n",
      "https://www.freshproduce.com/resources/supply-chain-management/global-market-access/\n",
      "https://www.freshproduce.com/resources/global-trade/mexico-exports-to-us/\n",
      "https://www.freshproduce.com/resources/Commodities/global-table-grape-shipment-data/\n"
     ]
    }
   ],
   "source": [
    "ejemplo_subdominios = obtener_subdominios(Extraccion_HTML_dinamico)\n",
    "print(\"Subdominios encontrados:\")\n",
    "for subdominio in ejemplo_subdominios:\n",
    "    print(subdominio)"
   ]
  },
  {
   "cell_type": "markdown",
   "id": "af2aa729",
   "metadata": {},
   "source": [
    "#### Navegar por el numero de paginas del sitio web."
   ]
  },
  {
   "cell_type": "markdown",
   "id": "c97e86cb",
   "metadata": {},
   "source": [
    "Al usar el dominio https://www.freshproduce.com/resources/global-trade/ y navegar por la página, este cambia a https://www.freshproduce.com/resources/global-trade/?pageNumber=0 y https://www.freshproduce.com/resources/global-trade/?pageNumber=1 en su segunda página, por lo que asumimos que para cambiar de página utilizaremos esto:\n",
    "\n",
    "`https://www.freshproduce.com/resources/global-trade/?pageNumber=NUMPAGINA`, donde NUMPAGINA es el número de página (iniciando desde 0).\n",
    "\n",
    "Esto aplica para las demás categorías."
   ]
  },
  {
   "cell_type": "markdown",
   "id": "3b25a172",
   "metadata": {},
   "source": [
    "URLS con su respectiva navegación:\n",
    "- https://www.freshproduce.com/resources/global-trade/?pageNumber=0\n",
    "- https://www.freshproduce.com/resources/technology/?pageNumber=0\n",
    "- https://www.freshproduce.com/resources/food-safety/?pageNumber=0\n",
    "\n",
    "Por lo que el algoritmo para usarlo es:\n",
    "`URL_BASE/?pageNumber=NUMPAGINA` donde por ejemplo la URL b ase de global-trade es `https://www.freshproduce.com/resources/global-trade` y NUMPAGINA es el número de página"
   ]
  },
  {
   "cell_type": "code",
   "execution_count": 17,
   "id": "8a093c0b",
   "metadata": {},
   "outputs": [
    {
     "name": "stdout",
     "output_type": "stream",
     "text": [
      "Extrayendo página 1 de 2\n",
      "URL de la página a extraer: https://www.freshproduce.com/resources/global-trade/?pageNumber=0\n",
      "https://www.freshproduce.com/events/the-brazil-conference/\n",
      "https://www.freshproduce.com/resources/consumer-trends/americans-and-sustainability/\n",
      "https://www.freshproduce.com/events/the-mexico-conference/\n",
      "https://www.freshproduce.com/resources/advocacy/trumps-first-100-days/\n",
      "https://www.freshproduce.com/resources/global-trade/tariff-resources/\n",
      "https://www.freshproduce.com/resources/Commodities/international-retail-point-of-sale-data/\n",
      "https://www.freshproduce.com/resources/supply-chain-management/global-market-access/\n",
      "https://www.freshproduce.com/resources/global-trade/mexico-exports-to-us/\n",
      "https://www.freshproduce.com/resources/Commodities/global-table-grape-shipment-data/\n",
      "Extrayendo página 2 de 2\n",
      "URL de la página a extraer: https://www.freshproduce.com/resources/global-trade/?pageNumber=1\n",
      "https://www.freshproduce.com/resources/Commodities/top-fresh-produce-commodity-profiles/\n",
      "https://www.freshproduce.com/resources/global-trade/how-to-export-cut-flowers-from-mexico-to-the-us/\n",
      "https://www.freshproduce.com/resources/supply-chain-management/fsma-204-best-practices-webinar/\n",
      "https://www.freshproduce.com/resources/global-trade/reportes-anuales-y-analisis-de-productos-que-mexico-exporta-a-estados-unidos/\n",
      "https://www.freshproduce.com/resources/retail/international-retail-marketshare-guides/\n",
      "https://www.freshproduce.com/resources/global-trade/export-guide-japan/\n",
      "https://www.freshproduce.com/resources/global-trade/export-guide-usa/\n",
      "https://www.freshproduce.com/resources/global-trade/export-guide-vietnam/\n",
      "https://www.freshproduce.com/resources/global-trade/como-exportar-frutas-y-vegetales-frescos-de-mexico-a-estados-unidos/\n"
     ]
    }
   ],
   "source": [
    "numero_de_paginas_maximo_a_extraer = 2  # Número máximo de páginas a extraer\n",
    "paginas_a_extraer = []  # Lista para almacenar las URLs de las páginas a extraer\n",
    "for i in range (0,numero_de_paginas_maximo_a_extraer):\n",
    "    print(f\"Extrayendo página {i + 1} de {numero_de_paginas_maximo_a_extraer}\")\n",
    "    url_pagina = f\"{primera_url_a_extraer_subdominio_ejemplo}?pageNumber={i}\"\n",
    "    print(f\"URL de la página a extraer: {url_pagina}\")\n",
    "    Extraccion_HTML_dinamico = scrape_website_with_dynamic_content(url_pagina, classes_to_wait=etiquetas_a_extraer)\n",
    "    \n",
    "    subdominios_en_pagina = obtener_subdominios(Extraccion_HTML_dinamico)\n",
    "    for subdominio in subdominios_en_pagina:\n",
    "        print(subdominio)\n",
    "        paginas_a_extraer.append(subdominio)  # Agregar la URL de la página a la lista\n",
    "\n",
    "    if bool_is_final_page(Extraccion_HTML_dinamico, etiquetas_a_extraer[0]):\n",
    "        print(\"Se ha alcanzado la última página. Terminando la extracción.\")\n",
    "        break"
   ]
  },
  {
   "cell_type": "code",
   "execution_count": 18,
   "id": "7283b612",
   "metadata": {},
   "outputs": [
    {
     "name": "stdout",
     "output_type": "stream",
     "text": [
      "['https://www.freshproduce.com/events/the-brazil-conference/', 'https://www.freshproduce.com/resources/consumer-trends/americans-and-sustainability/', 'https://www.freshproduce.com/events/the-mexico-conference/', 'https://www.freshproduce.com/resources/advocacy/trumps-first-100-days/', 'https://www.freshproduce.com/resources/global-trade/tariff-resources/', 'https://www.freshproduce.com/resources/Commodities/international-retail-point-of-sale-data/', 'https://www.freshproduce.com/resources/supply-chain-management/global-market-access/', 'https://www.freshproduce.com/resources/global-trade/mexico-exports-to-us/', 'https://www.freshproduce.com/resources/Commodities/global-table-grape-shipment-data/', 'https://www.freshproduce.com/resources/Commodities/top-fresh-produce-commodity-profiles/', 'https://www.freshproduce.com/resources/global-trade/how-to-export-cut-flowers-from-mexico-to-the-us/', 'https://www.freshproduce.com/resources/supply-chain-management/fsma-204-best-practices-webinar/', 'https://www.freshproduce.com/resources/global-trade/reportes-anuales-y-analisis-de-productos-que-mexico-exporta-a-estados-unidos/', 'https://www.freshproduce.com/resources/retail/international-retail-marketshare-guides/', 'https://www.freshproduce.com/resources/global-trade/export-guide-japan/', 'https://www.freshproduce.com/resources/global-trade/export-guide-usa/', 'https://www.freshproduce.com/resources/global-trade/export-guide-vietnam/', 'https://www.freshproduce.com/resources/global-trade/como-exportar-frutas-y-vegetales-frescos-de-mexico-a-estados-unidos/']\n"
     ]
    }
   ],
   "source": [
    "print(paginas_a_extraer)"
   ]
  },
  {
   "cell_type": "markdown",
   "id": "e12dc606",
   "metadata": {},
   "source": [
    "Con todo lo anterior podemos realizar una extracción de todas las páginas web."
   ]
  },
  {
   "cell_type": "code",
   "execution_count": 19,
   "id": "0a0dd9f8",
   "metadata": {},
   "outputs": [],
   "source": [
    "def extraccion_de_subdominios(url_a_extraer, numero_de_paginas_maximo_a_extraer=2, etiquetas_a_extraer_funcion=['search-stats', 'result-panel'], etiqueta_elemento_individual='cta-area', dominio_principal=\"https://www.freshproduce.com\"):\n",
    "    paginas_a_extraer = []  # Lista para almacenar las URLs de las páginas a extraer\n",
    "    for (url, etiqueta) in url_a_extraer: #Separacion de URL y etiqueta para la extracción\n",
    "        for i in range(0,numero_de_paginas_maximo_a_extraer):\n",
    "            url_pagina = f\"{url}?pageNumber={i}\"\n",
    "            print(f\"URL de la página actual a extraer: {url_pagina}\")\n",
    "            Extraccion_HTML_dinamico = scrape_website_with_dynamic_content(url_pagina, classes_to_wait=etiquetas_a_extraer_funcion)\n",
    "\n",
    "            etiqueta_completa_todos_elementos = etiquetas_a_extraer_funcion[1]\n",
    "            subdominios_en_pagina = obtener_subdominios(Extraccion_HTML_dinamico, etiqueta_completa_todos_elementos,etiqueta_elemento_individual, dominio_principal)\n",
    "            for subdominio in subdominios_en_pagina:\n",
    "                #print(subdominio)\n",
    "                paginas_a_extraer.append([subdominio, etiqueta])  # Agregar la URL de la página a la lista y su etiqueta asociada\n",
    "\n",
    "            # Verificar si se ha alcanzado la última página\n",
    "            etiqueta_busqueda_numeroElementos = etiquetas_a_extraer_funcion[0]  \n",
    "            if bool_is_final_page(Extraccion_HTML_dinamico, etiqueta_busqueda_numeroElementos):\n",
    "                print(\"Se ha alcanzado la última página. Terminando la extracción.\")\n",
    "                break\n",
    "    print(\"Páginas a extraer final:\", len(paginas_a_extraer))\n",
    "    return paginas_a_extraer"
   ]
  },
  {
   "cell_type": "code",
   "execution_count": 20,
   "id": "e4adbfdd",
   "metadata": {},
   "outputs": [],
   "source": [
    "urls_extraer_información = [\n",
    "                            [\"https://www.freshproduce.com/resources/global-trade/\",\"Global Trade\"],\n",
    "                            [\"https://www.freshproduce.com/resources/technology/\",\"Technology\"],\n",
    "                            [\"https://www.freshproduce.com/resources/food-safety/\",\"Food Safety\"]\n",
    "                            ] # Ya viene con su respectivo etiquetado para identificar el subdominio"
   ]
  },
  {
   "cell_type": "code",
   "execution_count": 21,
   "id": "4b329bf0",
   "metadata": {},
   "outputs": [
    {
     "name": "stdout",
     "output_type": "stream",
     "text": [
      "URL de la página actual a extraer: https://www.freshproduce.com/resources/global-trade/?pageNumber=0\n",
      "URL de la página actual a extraer: https://www.freshproduce.com/resources/global-trade/?pageNumber=1\n",
      "URL de la página actual a extraer: https://www.freshproduce.com/resources/global-trade/?pageNumber=2\n",
      "Se ha alcanzado la última página. Terminando la extracción.\n",
      "URL de la página actual a extraer: https://www.freshproduce.com/resources/technology/?pageNumber=0\n",
      "URL de la página actual a extraer: https://www.freshproduce.com/resources/technology/?pageNumber=1\n",
      "URL de la página actual a extraer: https://www.freshproduce.com/resources/technology/?pageNumber=2\n",
      "URL de la página actual a extraer: https://www.freshproduce.com/resources/technology/?pageNumber=3\n",
      "URL de la página actual a extraer: https://www.freshproduce.com/resources/technology/?pageNumber=4\n",
      "URL de la página actual a extraer: https://www.freshproduce.com/resources/technology/?pageNumber=5\n",
      "URL de la página actual a extraer: https://www.freshproduce.com/resources/technology/?pageNumber=6\n",
      "URL de la página actual a extraer: https://www.freshproduce.com/resources/technology/?pageNumber=7\n",
      "URL de la página actual a extraer: https://www.freshproduce.com/resources/technology/?pageNumber=8\n",
      "URL de la página actual a extraer: https://www.freshproduce.com/resources/technology/?pageNumber=9\n",
      "URL de la página actual a extraer: https://www.freshproduce.com/resources/technology/?pageNumber=10\n",
      "Se ha alcanzado la última página. Terminando la extracción.\n",
      "URL de la página actual a extraer: https://www.freshproduce.com/resources/food-safety/?pageNumber=0\n",
      "URL de la página actual a extraer: https://www.freshproduce.com/resources/food-safety/?pageNumber=1\n",
      "URL de la página actual a extraer: https://www.freshproduce.com/resources/food-safety/?pageNumber=2\n",
      "URL de la página actual a extraer: https://www.freshproduce.com/resources/food-safety/?pageNumber=3\n",
      "URL de la página actual a extraer: https://www.freshproduce.com/resources/food-safety/?pageNumber=4\n",
      "URL de la página actual a extraer: https://www.freshproduce.com/resources/food-safety/?pageNumber=5\n",
      "URL de la página actual a extraer: https://www.freshproduce.com/resources/food-safety/?pageNumber=6\n",
      "URL de la página actual a extraer: https://www.freshproduce.com/resources/food-safety/?pageNumber=7\n",
      "URL de la página actual a extraer: https://www.freshproduce.com/resources/food-safety/?pageNumber=8\n",
      "URL de la página actual a extraer: https://www.freshproduce.com/resources/food-safety/?pageNumber=9\n",
      "URL de la página actual a extraer: https://www.freshproduce.com/resources/food-safety/?pageNumber=10\n",
      "Se ha alcanzado la última página. Terminando la extracción.\n",
      "Páginas a extraer final: 209\n"
     ]
    }
   ],
   "source": [
    "paginas_extraidas = extraccion_de_subdominios(urls_extraer_información, 20)"
   ]
  },
  {
   "cell_type": "code",
   "execution_count": 22,
   "id": "28f4ab8d",
   "metadata": {},
   "outputs": [
    {
     "name": "stdout",
     "output_type": "stream",
     "text": [
      "Total de subdominios extraídos: 209\n"
     ]
    }
   ],
   "source": [
    "print(f\"Total de subdominios extraídos: {len(paginas_extraidas)}\")"
   ]
  },
  {
   "cell_type": "markdown",
   "id": "80b6e236",
   "metadata": {},
   "source": [
    "Ahora lo pasamos a un formato Pandas para mejor control de los datos"
   ]
  },
  {
   "cell_type": "code",
   "execution_count": 23,
   "id": "c07d0d26",
   "metadata": {},
   "outputs": [],
   "source": [
    "import pandas as pd\n",
    "columnas = ['URL','Category']\n",
    "df_dominios = pd.DataFrame(paginas_extraidas, columns=columnas)"
   ]
  },
  {
   "cell_type": "code",
   "execution_count": null,
   "id": "3d7f7584",
   "metadata": {},
   "outputs": [],
   "source": [
    "print(df_dominios.head())"
   ]
  },
  {
   "cell_type": "code",
   "execution_count": 26,
   "id": "a9baf342",
   "metadata": {},
   "outputs": [
    {
     "name": "stdout",
     "output_type": "stream",
     "text": [
      "count            209\n",
      "unique             3\n",
      "top       Technology\n",
      "freq              93\n",
      "Name: Category, dtype: object\n"
     ]
    }
   ],
   "source": [
    "print(df_dominios.Category.describe()) #Ver descripción de las categorías"
   ]
  },
  {
   "cell_type": "code",
   "execution_count": 27,
   "id": "6f2590f0",
   "metadata": {},
   "outputs": [],
   "source": [
    "df_dominios.to_csv(f\"extracted_subdomains.csv\", index=False)  # Guardar el DataFrame en un archivo CSV"
   ]
  },
  {
   "cell_type": "markdown",
   "id": "517b33a1",
   "metadata": {},
   "source": [
    "### Extracción de información de subdominios."
   ]
  },
  {
   "cell_type": "markdown",
   "id": "865f2014",
   "metadata": {},
   "source": [
    "Teniendo la información de los anteriores subdominios en un .csv vamos a extraer toda la información de cada página web."
   ]
  },
  {
   "cell_type": "markdown",
   "id": "563cae9b",
   "metadata": {},
   "source": [
    "## AI-Powered Analysis & Enrichment"
   ]
  }
 ],
 "metadata": {
  "kernelspec": {
   "display_name": "Python 3 (ipykernel)",
   "language": "python",
   "name": "python3"
  }
 },
 "nbformat": 4,
 "nbformat_minor": 5
}
